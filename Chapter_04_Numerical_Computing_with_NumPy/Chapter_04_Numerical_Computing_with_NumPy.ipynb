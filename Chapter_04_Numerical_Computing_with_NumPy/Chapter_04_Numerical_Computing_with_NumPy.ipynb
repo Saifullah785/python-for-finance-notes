{
  "nbformat": 4,
  "nbformat_minor": 0,
  "metadata": {
    "colab": {
      "provenance": [],
      "authorship_tag": "ABX9TyO6aSiwnkujQYLKH3efxebC",
      "include_colab_link": true
    },
    "kernelspec": {
      "name": "python3",
      "display_name": "Python 3"
    },
    "language_info": {
      "name": "python"
    }
  },
  "cells": [
    {
      "cell_type": "markdown",
      "metadata": {
        "id": "view-in-github",
        "colab_type": "text"
      },
      "source": [
        "<a href=\"https://colab.research.google.com/github/Saifullah785/python-for-finance-notes/blob/main/Chapter_04_Numerical_Computing_with_NumPy/Chapter_04_Numerical_Computing_with_NumPy.ipynb\" target=\"_parent\"><img src=\"https://colab.research.google.com/assets/colab-badge.svg\" alt=\"Open In Colab\"/></a>"
      ]
    },
    {
      "cell_type": "markdown",
      "source": [
        "# **Numerical Computing with NumPy**"
      ],
      "metadata": {
        "id": "M_Uiz8AQMThZ"
      }
    },
    {
      "cell_type": "markdown",
      "source": [
        "**Arrays with Python Lists**"
      ],
      "metadata": {
        "id": "Lw1vwbs5MvqW"
      }
    },
    {
      "cell_type": "code",
      "execution_count": null,
      "metadata": {
        "colab": {
          "base_uri": "https://localhost:8080/"
        },
        "id": "-0ybGpEZL_JG",
        "outputId": "95d1c963-faa7-4af0-a535-ebe4137e21ea"
      },
      "outputs": [
        {
          "output_type": "execute_result",
          "data": {
            "text/plain": [
              "[0.5, 0.75, 1.0, 1.5, 2.0]"
            ]
          },
          "metadata": {},
          "execution_count": 1
        }
      ],
      "source": [
        "# Define a Python list 'v' with some numerical values.\n",
        "v = [0.5, 0.75, 1.0, 1.5, 2.0]\n",
        "# Display the list 'v'.\n",
        "v"
      ]
    },
    {
      "cell_type": "code",
      "source": [
        "# Create a list 'm' containing three copies of the list 'v'.\n",
        "m = [v, v, v]\n",
        "# Display the list of lists 'm'.\n",
        "m"
      ],
      "metadata": {
        "colab": {
          "base_uri": "https://localhost:8080/"
        },
        "id": "Yjs9IId5M5Uj",
        "outputId": "ea16c132-be5b-4093-ac99-6c5b9ac06ab9"
      },
      "execution_count": null,
      "outputs": [
        {
          "output_type": "execute_result",
          "data": {
            "text/plain": [
              "[[0.5, 0.75, 1.0, 1.5, 2.0],\n",
              " [0.5, 0.75, 1.0, 1.5, 2.0],\n",
              " [0.5, 0.75, 1.0, 1.5, 2.0]]"
            ]
          },
          "metadata": {},
          "execution_count": 2
        }
      ]
    },
    {
      "cell_type": "code",
      "source": [
        "# Access and display the second element (at index 1) of the list of lists 'm'.\n",
        "m[1]"
      ],
      "metadata": {
        "colab": {
          "base_uri": "https://localhost:8080/"
        },
        "id": "qko2uC1kM6Yu",
        "outputId": "07a3e2bc-7a0c-41f4-e43b-c6c73b2506da"
      },
      "execution_count": null,
      "outputs": [
        {
          "output_type": "execute_result",
          "data": {
            "text/plain": [
              "[0.5, 0.75, 1.0, 1.5, 2.0]"
            ]
          },
          "metadata": {},
          "execution_count": 3
        }
      ]
    },
    {
      "cell_type": "code",
      "source": [
        "# Access and display the first element (at index 0) of the second list (at index 1) within 'm'.\n",
        "m[1][0]"
      ],
      "metadata": {
        "colab": {
          "base_uri": "https://localhost:8080/"
        },
        "id": "3ihiGzceM6VW",
        "outputId": "368c5878-159b-4175-f7fa-8a9ebd0f09ae"
      },
      "execution_count": null,
      "outputs": [
        {
          "output_type": "execute_result",
          "data": {
            "text/plain": [
              "0.5"
            ]
          },
          "metadata": {},
          "execution_count": 4
        }
      ]
    },
    {
      "cell_type": "code",
      "source": [
        "# Define two Python lists 'v1' and 'v2'.\n",
        "v1 = [0.5, 1.5]\n",
        "# Display 'v1'.\n",
        "v1\n",
        "\n",
        "v2 = [1, 2]\n",
        "# Display 'v2'.\n",
        "v2\n",
        "\n",
        "# Create a list of lists 'm' containing 'v1' and 'v2'.\n",
        "m = [v1, v2]\n",
        "# Display 'm'.\n",
        "m\n",
        "\n",
        "# Create a list of lists of lists 'c' containing two copies of 'm'.\n",
        "c = [m, m]\n",
        "# Display 'c'.\n",
        "c"
      ],
      "metadata": {
        "colab": {
          "base_uri": "https://localhost:8080/"
        },
        "id": "KJdt3uRKM6Su",
        "outputId": "48ef1b2c-19df-468a-9f3d-bb0d67a87fb9"
      },
      "execution_count": null,
      "outputs": [
        {
          "output_type": "execute_result",
          "data": {
            "text/plain": [
              "[[[0.5, 1.5], [1, 2]], [[0.5, 1.5], [1, 2]]]"
            ]
          },
          "metadata": {},
          "execution_count": 5
        }
      ]
    },
    {
      "cell_type": "code",
      "source": [
        "# Access and display the first element (at index 0) of the second list (at index 1) within the second list (at index 1) of 'c'.\n",
        "c[1][1][0]"
      ],
      "metadata": {
        "colab": {
          "base_uri": "https://localhost:8080/"
        },
        "id": "sVIw2lC5M6Mg",
        "outputId": "299c533c-d14f-42a5-acd9-67c3151d7184"
      },
      "execution_count": null,
      "outputs": [
        {
          "output_type": "execute_result",
          "data": {
            "text/plain": [
              "1"
            ]
          },
          "metadata": {},
          "execution_count": 6
        }
      ]
    },
    {
      "cell_type": "code",
      "source": [
        "# Redefine the list 'v'.\n",
        "v = [0.5, 0.75, 1.0, 1.5, 2.0]\n",
        "# Redefine the list of lists 'm' with three copies of 'v'.\n",
        "m = [v, v, v]\n",
        "# Display 'm'.\n",
        "m"
      ],
      "metadata": {
        "colab": {
          "base_uri": "https://localhost:8080/"
        },
        "id": "zaDMmup8M6H6",
        "outputId": "8bec45a1-c8be-41d3-f104-b80676fda18b"
      },
      "execution_count": null,
      "outputs": [
        {
          "output_type": "execute_result",
          "data": {
            "text/plain": [
              "[[0.5, 0.75, 1.0, 1.5, 2.0],\n",
              " [0.5, 0.75, 1.0, 1.5, 2.0],\n",
              " [0.5, 0.75, 1.0, 1.5, 2.0]]"
            ]
          },
          "metadata": {},
          "execution_count": 7
        }
      ]
    },
    {
      "cell_type": "code",
      "source": [
        "# Modify the first element of the list 'v' to the string 'Python'.\n",
        "v [0] = 'Python'\n",
        "# Display 'm'. Note that because 'm' contains references to 'v', the change in 'v' is reflected in 'm'.\n",
        "m"
      ],
      "metadata": {
        "colab": {
          "base_uri": "https://localhost:8080/"
        },
        "id": "qCwPIwkoM6Fi",
        "outputId": "c4b7f72b-9de2-40c1-e222-26a9d7f04aa4"
      },
      "execution_count": null,
      "outputs": [
        {
          "output_type": "execute_result",
          "data": {
            "text/plain": [
              "[['Python', 0.75, 1.0, 1.5, 2.0],\n",
              " ['Python', 0.75, 1.0, 1.5, 2.0],\n",
              " ['Python', 0.75, 1.0, 1.5, 2.0]]"
            ]
          },
          "metadata": {},
          "execution_count": 8
        }
      ]
    },
    {
      "cell_type": "code",
      "source": [
        "# Import the deepcopy function from the copy module.\n",
        "from copy import deepcopy\n",
        "# Redefine the list 'v'.\n",
        "v = [0.5, 0.75, 1.0, 1.5, 2.0]\n",
        "# Create a list of lists 'm' with three independent copies of 'v' using deepcopy.\n",
        "m = 3 * [deepcopy (v), ]\n",
        "# Display 'm'.\n",
        "m"
      ],
      "metadata": {
        "colab": {
          "base_uri": "https://localhost:8080/"
        },
        "id": "eSCArLWSM6C1",
        "outputId": "81cfbc0e-141e-47fb-849e-822e7cec6144"
      },
      "execution_count": null,
      "outputs": [
        {
          "output_type": "execute_result",
          "data": {
            "text/plain": [
              "[[0.5, 0.75, 1.0, 1.5, 2.0],\n",
              " [0.5, 0.75, 1.0, 1.5, 2.0],\n",
              " [0.5, 0.75, 1.0, 1.5, 2.0]]"
            ]
          },
          "metadata": {},
          "execution_count": 9
        }
      ]
    },
    {
      "cell_type": "code",
      "source": [
        "# Modify the first element of the list 'v' to the string 'Python'.\n",
        "v[0] = 'Python'\n",
        "# Display 'm'. Note that because deepcopy was used, the change in 'v' does not affect the lists within 'm'.\n",
        "m"
      ],
      "metadata": {
        "colab": {
          "base_uri": "https://localhost:8080/"
        },
        "id": "CZk4DnriM6AQ",
        "outputId": "a2148b4a-4c72-464d-b19f-e91f161aad31"
      },
      "execution_count": null,
      "outputs": [
        {
          "output_type": "execute_result",
          "data": {
            "text/plain": [
              "[[0.5, 0.75, 1.0, 1.5, 2.0],\n",
              " [0.5, 0.75, 1.0, 1.5, 2.0],\n",
              " [0.5, 0.75, 1.0, 1.5, 2.0]]"
            ]
          },
          "metadata": {},
          "execution_count": 10
        }
      ]
    },
    {
      "cell_type": "markdown",
      "source": [
        "# **Interlude: Python Array Class**"
      ],
      "metadata": {
        "id": "r5Exe4kXO9UR"
      }
    },
    {
      "cell_type": "code",
      "source": [
        "# Define a Python list 'v' with some numerical values.\n",
        "v = [0.5, 0.75, 1.0, 1.5, 2.0]"
      ],
      "metadata": {
        "id": "FFyM0OGsM58K"
      },
      "execution_count": null,
      "outputs": []
    },
    {
      "cell_type": "code",
      "source": [
        "# Import the array module.\n",
        "import array"
      ],
      "metadata": {
        "id": "i1K8as_LM55J"
      },
      "execution_count": null,
      "outputs": []
    },
    {
      "cell_type": "code",
      "source": [
        "# Create an array 'a' of type 'f' (float) from the list 'v'.\n",
        "a = array.array('f', v)\n",
        "# Display the array 'a'.\n",
        "a"
      ],
      "metadata": {
        "colab": {
          "base_uri": "https://localhost:8080/"
        },
        "id": "HXJ2PqG4M52j",
        "outputId": "d3bb7932-140e-4b51-88fd-73f00d0244e7"
      },
      "execution_count": null,
      "outputs": [
        {
          "output_type": "execute_result",
          "data": {
            "text/plain": [
              "array('f', [0.5, 0.75, 1.0, 1.5, 2.0])"
            ]
          },
          "metadata": {},
          "execution_count": 13
        }
      ]
    },
    {
      "cell_type": "code",
      "source": [
        "# Append a value (0.5) to the array 'a'.\n",
        "a.append(0.5)\n",
        "# Display the modified array 'a'.\n",
        "a"
      ],
      "metadata": {
        "colab": {
          "base_uri": "https://localhost:8080/"
        },
        "id": "qcf0u9K3PWCM",
        "outputId": "24efebd1-3f36-4fef-ef55-03902a23379e"
      },
      "execution_count": null,
      "outputs": [
        {
          "output_type": "execute_result",
          "data": {
            "text/plain": [
              "array('f', [0.5, 0.75, 1.0, 1.5, 2.0, 0.5])"
            ]
          },
          "metadata": {},
          "execution_count": 14
        }
      ]
    },
    {
      "cell_type": "code",
      "source": [
        "# Extend the array 'a' with elements from a list ([5.0, 6.75]).\n",
        "a.extend([5.0, 6.75])\n",
        "# Display the modified array 'a'.\n",
        "a"
      ],
      "metadata": {
        "colab": {
          "base_uri": "https://localhost:8080/"
        },
        "id": "LAgl0JppM50B",
        "outputId": "ad742f04-2247-4ba3-f5f7-3eba215d4952"
      },
      "execution_count": null,
      "outputs": [
        {
          "output_type": "execute_result",
          "data": {
            "text/plain": [
              "array('f', [0.5, 0.75, 1.0, 1.5, 2.0, 0.5, 5.0, 6.75])"
            ]
          },
          "metadata": {},
          "execution_count": 15
        }
      ]
    },
    {
      "cell_type": "code",
      "source": [
        "# Attempt to multiply the array 'a' by 2. For array.array, this concatenates the array with itself.\n",
        "2 * a"
      ],
      "metadata": {
        "colab": {
          "base_uri": "https://localhost:8080/"
        },
        "id": "Es-4hkOVM5w7",
        "outputId": "8ed4482c-aece-4352-feb4-fd783cae489d"
      },
      "execution_count": null,
      "outputs": [
        {
          "output_type": "execute_result",
          "data": {
            "text/plain": [
              "array('f', [0.5, 0.75, 1.0, 1.5, 2.0, 0.5, 5.0, 6.75, 0.5, 0.75, 1.0, 1.5, 2.0, 0.5, 5.0, 6.75])"
            ]
          },
          "metadata": {},
          "execution_count": 16
        }
      ]
    },
    {
      "cell_type": "code",
      "source": [
        "# Convert the array 'a' back to a Python list.\n",
        "a.tolist()"
      ],
      "metadata": {
        "colab": {
          "base_uri": "https://localhost:8080/"
        },
        "id": "BBCxgUGXM5uh",
        "outputId": "d34396ca-050c-4494-afc7-342f7846cd90"
      },
      "execution_count": null,
      "outputs": [
        {
          "output_type": "execute_result",
          "data": {
            "text/plain": [
              "[0.5, 0.75, 1.0, 1.5, 2.0, 0.5, 5.0, 6.75]"
            ]
          },
          "metadata": {},
          "execution_count": 17
        }
      ]
    },
    {
      "cell_type": "code",
      "source": [
        "# Open a file named 'array.apy' in binary write mode ('wb').\n",
        "f = open('array.apy', 'wb')\n",
        "# Write the contents of array 'a' to the file.\n",
        "a.tofile(f)\n",
        "# Close the file.\n",
        "f.close()"
      ],
      "metadata": {
        "id": "qy9nutwRM5sP"
      },
      "execution_count": null,
      "outputs": []
    },
    {
      "cell_type": "code",
      "source": [
        "# Open a file named 'array.apy' in binary write mode ('wb') using a 'with' statement, which ensures the file is closed automatically.\n",
        "with open ('array.apy', 'wb') as f:\n",
        "  # Write the contents of array 'a' to the file.\n",
        "  a.tofile(f)"
      ],
      "metadata": {
        "id": "vRQm1PIFM5pw"
      },
      "execution_count": null,
      "outputs": []
    },
    {
      "cell_type": "code",
      "source": [
        "# Execute a shell command to list files starting with 'arr' in the current directory, showing file permissions, number of links, owner, group, size, and modification time.\n",
        "!ls -n arr*"
      ],
      "metadata": {
        "colab": {
          "base_uri": "https://localhost:8080/"
        },
        "id": "Y3_WZLkXQJde",
        "outputId": "54c3c745-a71a-4ad6-bfdd-bd2dadd9bd6e"
      },
      "execution_count": null,
      "outputs": [
        {
          "output_type": "stream",
          "name": "stdout",
          "text": [
            "-rw-r--r-- 1 0 0 32 Jul 19 13:59 array.apy\n"
          ]
        }
      ]
    },
    {
      "cell_type": "code",
      "source": [
        "# Create an empty array 'b' of type 'f' (float).\n",
        "b = array.array('f')\n",
        "# Display the empty array 'b'.\n",
        "b"
      ],
      "metadata": {
        "colab": {
          "base_uri": "https://localhost:8080/"
        },
        "id": "rF318C66QMtl",
        "outputId": "f4a7605b-0843-45b0-caaf-153942106e4d"
      },
      "execution_count": null,
      "outputs": [
        {
          "output_type": "execute_result",
          "data": {
            "text/plain": [
              "array('f')"
            ]
          },
          "metadata": {},
          "execution_count": 21
        }
      ]
    },
    {
      "cell_type": "code",
      "source": [
        "# Open the file 'array.apy' in binary read mode ('rb').\n",
        "with open('array.apy', 'rb') as f:\n",
        "  # Read 2 elements of type 'f' (float) from the file into array 'b'.\n",
        "  b.fromfile(f, 2)"
      ],
      "metadata": {
        "id": "icR03WeYQQyc"
      },
      "execution_count": null,
      "outputs": []
    },
    {
      "cell_type": "code",
      "source": [
        "# Display the array 'b' after reading data from the file.\n",
        "b"
      ],
      "metadata": {
        "colab": {
          "base_uri": "https://localhost:8080/"
        },
        "id": "yrxxTVwQQdBm",
        "outputId": "a62a30f4-cd7c-4c4e-c9db-7f8c9a3abf19"
      },
      "execution_count": null,
      "outputs": [
        {
          "output_type": "execute_result",
          "data": {
            "text/plain": [
              "array('f', [0.5, 0.75])"
            ]
          },
          "metadata": {},
          "execution_count": 23
        }
      ]
    },
    {
      "cell_type": "code",
      "source": [
        "# Create an empty array 'b' of type 'd' (double).\n",
        "b = array.array('d')\n",
        "# Display the empty array 'b'.\n",
        "b"
      ],
      "metadata": {
        "colab": {
          "base_uri": "https://localhost:8080/"
        },
        "id": "gElAByJyQd_F",
        "outputId": "4ee227ab-3cb1-4043-8a26-b1e3f505b9f9"
      },
      "execution_count": null,
      "outputs": [
        {
          "output_type": "execute_result",
          "data": {
            "text/plain": [
              "array('d')"
            ]
          },
          "metadata": {},
          "execution_count": 24
        }
      ]
    },
    {
      "cell_type": "code",
      "source": [
        "# Open the file 'array.apy' in binary read mode ('rb').\n",
        "with open('array.apy', 'rb') as f:\n",
        "    # Read 2 elements of type 'd' (double) from the file into array 'b'. Note that reading floats as doubles can lead to unexpected values due to different byte sizes.\n",
        "    b.fromfile(f, 2)"
      ],
      "metadata": {
        "id": "1YT7735iQkRE"
      },
      "execution_count": null,
      "outputs": []
    },
    {
      "cell_type": "code",
      "source": [
        "# Display the array 'b' after attempting to read float data as doubles from the file.\n",
        "b"
      ],
      "metadata": {
        "colab": {
          "base_uri": "https://localhost:8080/"
        },
        "id": "IbMhthejQoBw",
        "outputId": "562fcdb9-c7fd-4e67-c7fe-7c912279f80c"
      },
      "execution_count": null,
      "outputs": [
        {
          "output_type": "execute_result",
          "data": {
            "text/plain": [
              "array('d', [0.0004882813645963324, 0.12500002956949174])"
            ]
          },
          "metadata": {},
          "execution_count": 26
        }
      ]
    },
    {
      "cell_type": "markdown",
      "source": [
        "# **Regular NumPy Arrays**\n",
        "\n",
        "The Basics\n",
        "\n",
        "\n",
        "\n"
      ],
      "metadata": {
        "id": "MUzdd-B1SgW7"
      }
    },
    {
      "cell_type": "code",
      "source": [
        "# Import the NumPy library, commonly aliased as np.\n",
        "import numpy as np"
      ],
      "metadata": {
        "id": "ayWaQjm0ShZv"
      },
      "execution_count": null,
      "outputs": []
    },
    {
      "cell_type": "code",
      "source": [
        "# Create a NumPy array named 'a' with specified numerical values.\n",
        "a = np.array([0, 0.5, 1.0, 1.5, 2.0])\n",
        "# Display the array 'a'.\n",
        "a"
      ],
      "metadata": {
        "colab": {
          "base_uri": "https://localhost:8080/"
        },
        "id": "6361JYI7Sqng",
        "outputId": "3ae93c69-adf0-4849-c774-68a560a1dd6f"
      },
      "execution_count": null,
      "outputs": [
        {
          "output_type": "execute_result",
          "data": {
            "text/plain": [
              "array([0. , 0.5, 1. , 1.5, 2. ])"
            ]
          },
          "metadata": {},
          "execution_count": 28
        }
      ]
    },
    {
      "cell_type": "code",
      "source": [
        "# Check and display the data type of the object 'a'.\n",
        "type(a)"
      ],
      "metadata": {
        "colab": {
          "base_uri": "https://localhost:8080/"
        },
        "id": "iWkVqMtySqkv",
        "outputId": "baa18d77-57cb-4f5c-f3e6-1c198855722a"
      },
      "execution_count": null,
      "outputs": [
        {
          "output_type": "execute_result",
          "data": {
            "text/plain": [
              "numpy.ndarray"
            ]
          },
          "metadata": {},
          "execution_count": 29
        }
      ]
    },
    {
      "cell_type": "code",
      "source": [
        "# Create a NumPy array named 'a' with string elements.\n",
        "a = np.array(['a', 'b', 'c'])\n",
        "# Display the array 'a'.\n",
        "a"
      ],
      "metadata": {
        "colab": {
          "base_uri": "https://localhost:8080/"
        },
        "id": "L5dvtPSlSpp_",
        "outputId": "c6b4cb17-5dba-4e22-c1a1-160863d044b3"
      },
      "execution_count": null,
      "outputs": [
        {
          "output_type": "execute_result",
          "data": {
            "text/plain": [
              "array(['a', 'b', 'c'], dtype='<U1')"
            ]
          },
          "metadata": {},
          "execution_count": 30
        }
      ]
    },
    {
      "cell_type": "code",
      "source": [
        "# Create a NumPy array named 'a' using arange, generating values from 2 up to (but not including) 20 with a step of 2.\n",
        "a = np.arange(2, 20, 2)\n",
        "# Display the array 'a'.\n",
        "a"
      ],
      "metadata": {
        "colab": {
          "base_uri": "https://localhost:8080/"
        },
        "id": "pT_kCIdOSpnd",
        "outputId": "0f129420-aed5-40b5-d408-096d37ebe65b"
      },
      "execution_count": null,
      "outputs": [
        {
          "output_type": "execute_result",
          "data": {
            "text/plain": [
              "array([ 2,  4,  6,  8, 10, 12, 14, 16, 18])"
            ]
          },
          "metadata": {},
          "execution_count": 31
        }
      ]
    },
    {
      "cell_type": "code",
      "source": [
        "# Create a NumPy array named 'a' using arange, generating 8 values starting from 0, with a specified data type of float32.\n",
        "a = np.arange(8, dtype=np.float32)\n",
        "# Display the array 'a'.\n",
        "a"
      ],
      "metadata": {
        "colab": {
          "base_uri": "https://localhost:8080/"
        },
        "id": "4Jcl8d8ESpkt",
        "outputId": "fdc6467b-6722-4b93-e717-360b46be3c78"
      },
      "execution_count": null,
      "outputs": [
        {
          "output_type": "execute_result",
          "data": {
            "text/plain": [
              "array([0., 1., 2., 3., 4., 5., 6., 7.], dtype=float32)"
            ]
          },
          "metadata": {},
          "execution_count": 32
        }
      ]
    },
    {
      "cell_type": "code",
      "source": [
        "# Access and display elements of array 'a' from index 5 to the end (slicing).\n",
        "a[5:]"
      ],
      "metadata": {
        "colab": {
          "base_uri": "https://localhost:8080/"
        },
        "id": "87N5bysaSpiB",
        "outputId": "a4185a6f-2aef-4248-998f-9b5400dd8074"
      },
      "execution_count": null,
      "outputs": [
        {
          "output_type": "execute_result",
          "data": {
            "text/plain": [
              "array([5., 6., 7.], dtype=float32)"
            ]
          },
          "metadata": {},
          "execution_count": 33
        }
      ]
    },
    {
      "cell_type": "code",
      "source": [
        "# Access and display elements of array 'a' from the beginning up to (but not including) index 2 (slicing).\n",
        "a[:2]"
      ],
      "metadata": {
        "colab": {
          "base_uri": "https://localhost:8080/"
        },
        "id": "bnkcZH1iSzZL",
        "outputId": "9c20a434-aa23-4a0f-e23b-ccef2233374b"
      },
      "execution_count": null,
      "outputs": [
        {
          "output_type": "execute_result",
          "data": {
            "text/plain": [
              "array([0., 1.], dtype=float32)"
            ]
          },
          "metadata": {},
          "execution_count": 34
        }
      ]
    },
    {
      "cell_type": "code",
      "source": [
        "# Display the sum method of the array 'a'. Note: This shows the method object, not the result of the sum.\n",
        "a.sum"
      ],
      "metadata": {
        "colab": {
          "base_uri": "https://localhost:8080/"
        },
        "id": "lxyr-6BASzVz",
        "outputId": "58ee3e35-9bc0-4639-a72e-1d4295975f4f"
      },
      "execution_count": null,
      "outputs": [
        {
          "output_type": "execute_result",
          "data": {
            "text/plain": [
              "<function ndarray.sum>"
            ]
          },
          "metadata": {},
          "execution_count": 35
        }
      ]
    },
    {
      "cell_type": "code",
      "source": [
        "# Calculate and display the standard deviation of the array 'a'.\n",
        "a.std()"
      ],
      "metadata": {
        "colab": {
          "base_uri": "https://localhost:8080/"
        },
        "id": "8-CnppAiSzJF",
        "outputId": "d4f0d60b-7abf-4081-a259-39495e138825"
      },
      "execution_count": null,
      "outputs": [
        {
          "output_type": "execute_result",
          "data": {
            "text/plain": [
              "np.float32(2.291288)"
            ]
          },
          "metadata": {},
          "execution_count": 36
        }
      ]
    },
    {
      "cell_type": "code",
      "source": [
        "# Calculate and display the cumulative sum of the elements in array 'a'.\n",
        "a.cumsum()"
      ],
      "metadata": {
        "colab": {
          "base_uri": "https://localhost:8080/"
        },
        "id": "vycmP68SSzGJ",
        "outputId": "095cea38-8ec9-4176-b6fc-9bbb7717a2e4"
      },
      "execution_count": null,
      "outputs": [
        {
          "output_type": "execute_result",
          "data": {
            "text/plain": [
              "array([ 0.,  1.,  3.,  6., 10., 15., 21., 28.], dtype=float32)"
            ]
          },
          "metadata": {},
          "execution_count": 37
        }
      ]
    },
    {
      "cell_type": "code",
      "source": [
        "# Define a Python list 'l'.\n",
        "l = [0., 0.5, 1.5, 3., 5.]\n",
        "# Multiply the list 'l' by 2. For lists, this results in concatenation.\n",
        "2 *l"
      ],
      "metadata": {
        "colab": {
          "base_uri": "https://localhost:8080/"
        },
        "id": "kqIEtPPlSzDX",
        "outputId": "99d0ceb1-7c00-4ff9-9e36-5574e6d2fde4"
      },
      "execution_count": null,
      "outputs": [
        {
          "output_type": "execute_result",
          "data": {
            "text/plain": [
              "[0.0, 0.5, 1.5, 3.0, 5.0, 0.0, 0.5, 1.5, 3.0, 5.0]"
            ]
          },
          "metadata": {},
          "execution_count": 38
        }
      ]
    },
    {
      "cell_type": "code",
      "source": [
        "# Display the current state of array 'a'.\n",
        "a"
      ],
      "metadata": {
        "colab": {
          "base_uri": "https://localhost:8080/"
        },
        "id": "KHDe8tu_TUD4",
        "outputId": "020d7740-08c0-45e5-d09e-96da14bdee9e"
      },
      "execution_count": null,
      "outputs": [
        {
          "output_type": "execute_result",
          "data": {
            "text/plain": [
              "array([0., 1., 2., 3., 4., 5., 6., 7.], dtype=float32)"
            ]
          },
          "metadata": {},
          "execution_count": 39
        }
      ]
    },
    {
      "cell_type": "code",
      "source": [
        "# Multiply each element of the NumPy array 'a' by 2 (element-wise multiplication).\n",
        "2 * a"
      ],
      "metadata": {
        "colab": {
          "base_uri": "https://localhost:8080/"
        },
        "id": "P1ota9iOTW8H",
        "outputId": "7283ecca-3518-4b1a-eef5-d8aa2e0ef58b"
      },
      "execution_count": null,
      "outputs": [
        {
          "output_type": "execute_result",
          "data": {
            "text/plain": [
              "array([ 0.,  2.,  4.,  6.,  8., 10., 12., 14.], dtype=float32)"
            ]
          },
          "metadata": {},
          "execution_count": 40
        }
      ]
    },
    {
      "cell_type": "code",
      "source": [
        "# Raise each element of the NumPy array 'a' to the power of 2 (element-wise exponentiation).\n",
        "a ** 2"
      ],
      "metadata": {
        "colab": {
          "base_uri": "https://localhost:8080/"
        },
        "id": "p_dZ0_vxTW5X",
        "outputId": "c5656079-019a-4242-9ac7-5f99eb490be2"
      },
      "execution_count": null,
      "outputs": [
        {
          "output_type": "execute_result",
          "data": {
            "text/plain": [
              "array([ 0.,  1.,  4.,  9., 16., 25., 36., 49.], dtype=float32)"
            ]
          },
          "metadata": {},
          "execution_count": 41
        }
      ]
    },
    {
      "cell_type": "code",
      "source": [
        "# Calculate 2 raised to the power of each element in array 'a' (element-wise exponentiation).\n",
        "2 ** a"
      ],
      "metadata": {
        "colab": {
          "base_uri": "https://localhost:8080/"
        },
        "id": "Q6wOU-xJTa53",
        "outputId": "6d84faf9-bd45-4b98-e21d-4ff35598db18"
      },
      "execution_count": null,
      "outputs": [
        {
          "output_type": "execute_result",
          "data": {
            "text/plain": [
              "array([  1.,   2.,   4.,   8.,  16.,  32.,  64., 128.], dtype=float32)"
            ]
          },
          "metadata": {},
          "execution_count": 42
        }
      ]
    },
    {
      "cell_type": "code",
      "source": [
        "# Raise each element of array 'a' to the power of itself (element-wise exponentiation).\n",
        "a ** a"
      ],
      "metadata": {
        "colab": {
          "base_uri": "https://localhost:8080/"
        },
        "id": "kCASmaYGTcaH",
        "outputId": "c79ec5db-8fad-4b7b-a534-3d0bf7213255"
      },
      "execution_count": null,
      "outputs": [
        {
          "output_type": "execute_result",
          "data": {
            "text/plain": [
              "array([1.00000e+00, 1.00000e+00, 4.00000e+00, 2.70000e+01, 2.56000e+02,\n",
              "       3.12500e+03, 4.66560e+04, 8.23543e+05], dtype=float32)"
            ]
          },
          "metadata": {},
          "execution_count": 43
        }
      ]
    },
    {
      "cell_type": "code",
      "source": [
        "# Calculate the exponential of each element in array 'a' (e raised to the power of each element).\n",
        "np.exp(a)"
      ],
      "metadata": {
        "colab": {
          "base_uri": "https://localhost:8080/"
        },
        "id": "OWhZ_DDXTfiJ",
        "outputId": "cbc5872d-9c80-4e4d-c514-686b934b2fcd"
      },
      "execution_count": null,
      "outputs": [
        {
          "output_type": "execute_result",
          "data": {
            "text/plain": [
              "array([1.0000000e+00, 2.7182820e+00, 7.3890557e+00, 2.0085537e+01,\n",
              "       5.4598148e+01, 1.4841316e+02, 4.0342877e+02, 1.0966332e+03],\n",
              "      dtype=float32)"
            ]
          },
          "metadata": {},
          "execution_count": 44
        }
      ]
    },
    {
      "cell_type": "code",
      "source": [
        "# Calculate the square root of each element in array 'a'.\n",
        "np.sqrt(a)"
      ],
      "metadata": {
        "colab": {
          "base_uri": "https://localhost:8080/"
        },
        "id": "7I0JnAxKTh2g",
        "outputId": "a91e0c28-49ae-403b-afb1-3febda0f5120"
      },
      "execution_count": null,
      "outputs": [
        {
          "output_type": "execute_result",
          "data": {
            "text/plain": [
              "array([0.       , 1.       , 1.4142135, 1.7320508, 2.       , 2.236068 ,\n",
              "       2.4494898, 2.6457512], dtype=float32)"
            ]
          },
          "metadata": {},
          "execution_count": 45
        }
      ]
    },
    {
      "cell_type": "code",
      "source": [
        "# Calculate the square root of the scalar value 2.5 using NumPy's sqrt function.\n",
        "np.sqrt(2.5)"
      ],
      "metadata": {
        "colab": {
          "base_uri": "https://localhost:8080/"
        },
        "id": "NwQ1YuMBTpQO",
        "outputId": "e67256d7-e877-459d-ba55-0354cbdb3e3a"
      },
      "execution_count": null,
      "outputs": [
        {
          "output_type": "execute_result",
          "data": {
            "text/plain": [
              "np.float64(1.5811388300841898)"
            ]
          },
          "metadata": {},
          "execution_count": 46
        }
      ]
    },
    {
      "cell_type": "code",
      "source": [
        "# Import the math module.\n",
        "import math"
      ],
      "metadata": {
        "id": "AHII_COOTuLn"
      },
      "execution_count": null,
      "outputs": []
    },
    {
      "cell_type": "code",
      "source": [
        "# Calculate the square root of the scalar value 2.5 using Python's built-in math.sqrt function.\n",
        "math.sqrt(2.5)"
      ],
      "metadata": {
        "colab": {
          "base_uri": "https://localhost:8080/"
        },
        "id": "8Fpf6bdLTvzO",
        "outputId": "e8193f0b-67a8-43e0-ee0f-326f2f54f396"
      },
      "execution_count": null,
      "outputs": [
        {
          "output_type": "execute_result",
          "data": {
            "text/plain": [
              "1.5811388300841898"
            ]
          },
          "metadata": {},
          "execution_count": 48
        }
      ]
    },
    {
      "cell_type": "code",
      "source": [
        "# Measure the execution time of calculating the square root of 2.5 using NumPy's sqrt function.\n",
        "%timeit np.sqrt(2.5)"
      ],
      "metadata": {
        "colab": {
          "base_uri": "https://localhost:8080/"
        },
        "id": "Tw4IB40ATy2u",
        "outputId": "5a7b364a-90bc-4faf-ea5f-42d4fccb0ff4"
      },
      "execution_count": null,
      "outputs": [
        {
          "output_type": "stream",
          "name": "stdout",
          "text": [
            "1.53 µs ± 407 ns per loop (mean ± std. dev. of 7 runs, 1000000 loops each)\n"
          ]
        }
      ]
    },
    {
      "cell_type": "code",
      "source": [
        "# Measure the execution time of calculating the square root of 2.5 using Python's built-in math.sqrt function.\n",
        "%timeit math.sqrt(2.5)"
      ],
      "metadata": {
        "colab": {
          "base_uri": "https://localhost:8080/"
        },
        "id": "q7zSHpiHT3GI",
        "outputId": "f15ce5ac-d270-45ee-ceb3-47c335538949"
      },
      "execution_count": null,
      "outputs": [
        {
          "output_type": "stream",
          "name": "stdout",
          "text": [
            "87.4 ns ± 39.7 ns per loop (mean ± std. dev. of 7 runs, 10000000 loops each)\n"
          ]
        }
      ]
    },
    {
      "cell_type": "markdown",
      "source": [
        "# **Multiple Dimensions**"
      ],
      "metadata": {
        "id": "kDBJTj__T-x2"
      }
    },
    {
      "cell_type": "code",
      "source": [
        "import numpy as np\n",
        "# Create a 2D NumPy array 'b' by stacking array 'a' and 'a' multiplied by 2.\n",
        "b = np.array([a, a * 2])\n",
        "# Display the array 'b'.\n",
        "b"
      ],
      "metadata": {
        "colab": {
          "base_uri": "https://localhost:8080/"
        },
        "id": "Uq7RgoRL1phG",
        "outputId": "d391cc0f-412a-471b-a18a-58082b80d14f"
      },
      "execution_count": null,
      "outputs": [
        {
          "output_type": "execute_result",
          "data": {
            "text/plain": [
              "array([[ 0.,  1.,  2.,  3.,  4.,  5.,  6.,  7.],\n",
              "       [ 0.,  2.,  4.,  6.,  8., 10., 12., 14.]], dtype=float32)"
            ]
          },
          "metadata": {},
          "execution_count": 51
        }
      ]
    },
    {
      "cell_type": "code",
      "source": [
        "# Access and display the first row (at index 0) of the 2D array 'b'.\n",
        "b[0]"
      ],
      "metadata": {
        "colab": {
          "base_uri": "https://localhost:8080/"
        },
        "id": "JpBxsEz81peM",
        "outputId": "3e17d622-c9ee-4b14-de57-5f88733beb78"
      },
      "execution_count": null,
      "outputs": [
        {
          "output_type": "execute_result",
          "data": {
            "text/plain": [
              "array([0., 1., 2., 3., 4., 5., 6., 7.], dtype=float32)"
            ]
          },
          "metadata": {},
          "execution_count": 52
        }
      ]
    },
    {
      "cell_type": "code",
      "source": [
        "# Access and display the element at the first row (index 0) and third column (index 2) of array 'b'.\n",
        "b[0, 2]"
      ],
      "metadata": {
        "colab": {
          "base_uri": "https://localhost:8080/"
        },
        "id": "8akc9Ckf1pbh",
        "outputId": "3321c997-3931-4207-99dd-0a5fc8e6bce7"
      },
      "execution_count": null,
      "outputs": [
        {
          "output_type": "execute_result",
          "data": {
            "text/plain": [
              "np.float32(2.0)"
            ]
          },
          "metadata": {},
          "execution_count": 53
        }
      ]
    },
    {
      "cell_type": "code",
      "source": [
        "# Access and display elements from all rows (:) at the second column (index 1) of array 'b'.\n",
        "b[:,1]"
      ],
      "metadata": {
        "colab": {
          "base_uri": "https://localhost:8080/"
        },
        "id": "fs0ytfs-1pYe",
        "outputId": "7dbe8d06-34b8-4c34-ecd9-465350609922"
      },
      "execution_count": null,
      "outputs": [
        {
          "output_type": "execute_result",
          "data": {
            "text/plain": [
              "array([1., 2.], dtype=float32)"
            ]
          },
          "metadata": {},
          "execution_count": 54
        }
      ]
    },
    {
      "cell_type": "code",
      "source": [
        "# Calculate and display the sum of all elements in the array 'b'.\n",
        "b.sum()"
      ],
      "metadata": {
        "colab": {
          "base_uri": "https://localhost:8080/"
        },
        "id": "jmo0nVQ81pVt",
        "outputId": "dbf494ec-1ccb-436c-b7e8-0698057406a9"
      },
      "execution_count": null,
      "outputs": [
        {
          "output_type": "execute_result",
          "data": {
            "text/plain": [
              "np.float32(84.0)"
            ]
          },
          "metadata": {},
          "execution_count": 55
        }
      ]
    },
    {
      "cell_type": "code",
      "source": [
        "# Calculate and display the sum of elements along columns (axis=0) in array 'b'.\n",
        "b.sum(axis=0)"
      ],
      "metadata": {
        "colab": {
          "base_uri": "https://localhost:8080/"
        },
        "id": "Cr3MenJG1pSi",
        "outputId": "8056e350-5113-43dc-d3b3-4285541131ec"
      },
      "execution_count": null,
      "outputs": [
        {
          "output_type": "execute_result",
          "data": {
            "text/plain": [
              "array([ 0.,  3.,  6.,  9., 12., 15., 18., 21.], dtype=float32)"
            ]
          },
          "metadata": {},
          "execution_count": 56
        }
      ]
    },
    {
      "cell_type": "code",
      "source": [
        "# Calculate and display the sum of elements along rows (axis=1) in array 'b'.\n",
        "b.sum(axis=1)"
      ],
      "metadata": {
        "colab": {
          "base_uri": "https://localhost:8080/"
        },
        "id": "XIADhyk51pPU",
        "outputId": "89d86080-f473-4915-e382-115838c52892"
      },
      "execution_count": null,
      "outputs": [
        {
          "output_type": "execute_result",
          "data": {
            "text/plain": [
              "array([28., 56.], dtype=float32)"
            ]
          },
          "metadata": {},
          "execution_count": 57
        }
      ]
    },
    {
      "cell_type": "code",
      "source": [
        "# Create a 2x3 NumPy array 'c' filled with zeros, with integer data type and C-style order.\n",
        "c = np.zeros((2, 3), dtype='i', order='C')\n",
        "# Display array 'c'.\n",
        "c"
      ],
      "metadata": {
        "colab": {
          "base_uri": "https://localhost:8080/"
        },
        "id": "fPwgvvV81pL6",
        "outputId": "c60a800a-1592-4c5e-ae77-b4365fd43ea9"
      },
      "execution_count": null,
      "outputs": [
        {
          "output_type": "execute_result",
          "data": {
            "text/plain": [
              "array([[0, 0, 0],\n",
              "       [0, 0, 0]], dtype=int32)"
            ]
          },
          "metadata": {},
          "execution_count": 58
        }
      ]
    },
    {
      "cell_type": "code",
      "source": [
        "# Create a 3D NumPy array 'c' of shape (2, 3, 4) filled with ones, with integer data type and C-style order.\n",
        "c = np.ones((2, 3, 4), dtype='i', order='C')\n",
        "# Display array 'c'.\n",
        "c"
      ],
      "metadata": {
        "colab": {
          "base_uri": "https://localhost:8080/"
        },
        "id": "3jcszYT-1pI0",
        "outputId": "b5a221d2-3560-4825-8dcb-3bee35cf35c3"
      },
      "execution_count": null,
      "outputs": [
        {
          "output_type": "execute_result",
          "data": {
            "text/plain": [
              "array([[[1, 1, 1, 1],\n",
              "        [1, 1, 1, 1],\n",
              "        [1, 1, 1, 1]],\n",
              "\n",
              "       [[1, 1, 1, 1],\n",
              "        [1, 1, 1, 1],\n",
              "        [1, 1, 1, 1]]], dtype=int32)"
            ]
          },
          "metadata": {},
          "execution_count": 59
        }
      ]
    },
    {
      "cell_type": "code",
      "source": [
        "# Create a new array 'd' with the same shape and data type as array 'c', filled with uninitialized data (effectively zeros in many cases), with float16 data type and C-style order.\n",
        "d = np.zeros_like(c, dtype='f16', order='C')\n",
        "# Display array 'd'.\n",
        "d"
      ],
      "metadata": {
        "colab": {
          "base_uri": "https://localhost:8080/"
        },
        "id": "GM_YS-ib1o-X",
        "outputId": "5ab7f7c2-d2e9-4495-bc4a-e8e9a1870e2f"
      },
      "execution_count": null,
      "outputs": [
        {
          "output_type": "execute_result",
          "data": {
            "text/plain": [
              "array([[[0., 0., 0., 0.],\n",
              "        [0., 0., 0., 0.],\n",
              "        [0., 0., 0., 0.]],\n",
              "\n",
              "       [[0., 0., 0., 0.],\n",
              "        [0., 0., 0., 0.],\n",
              "        [0., 0., 0., 0.]]], dtype=float128)"
            ]
          },
          "metadata": {},
          "execution_count": 60
        }
      ]
    },
    {
      "cell_type": "code",
      "source": [
        "# Create a new array 'd' with the same shape and data type as array 'c', filled with ones, with float16 data type and C-style order.\n",
        "d = np.ones_like(c, dtype='f16', order='C')\n",
        "# Display array 'd'.\n",
        "d"
      ],
      "metadata": {
        "colab": {
          "base_uri": "https://localhost:8080/"
        },
        "id": "Y9fVe2po2mhd",
        "outputId": "a341bb6b-51dd-44fc-c0c5-83fa04c49e02"
      },
      "execution_count": null,
      "outputs": [
        {
          "output_type": "execute_result",
          "data": {
            "text/plain": [
              "array([[[1., 1., 1., 1.],\n",
              "        [1., 1., 1., 1.],\n",
              "        [1., 1., 1., 1.]],\n",
              "\n",
              "       [[1., 1., 1., 1.],\n",
              "        [1., 1., 1., 1.],\n",
              "        [1., 1., 1., 1.]]], dtype=float128)"
            ]
          },
          "metadata": {},
          "execution_count": 61
        }
      ]
    },
    {
      "cell_type": "code",
      "source": [
        "# Create a new array 'e' of shape (2, 3, 2) with uninitialized data. The contents will be whatever is in memory at that location.\n",
        "e = np.empty((2, 3, 2))\n",
        "# Display array 'e'.\n",
        "e"
      ],
      "metadata": {
        "colab": {
          "base_uri": "https://localhost:8080/"
        },
        "id": "B1LwhOyO2mB3",
        "outputId": "b304f7fc-9dc6-4ec6-af2b-5f126aa1ed3c"
      },
      "execution_count": null,
      "outputs": [
        {
          "output_type": "execute_result",
          "data": {
            "text/plain": [
              "array([[[6.75898327e-310, 0.00000000e+000],\n",
              "        [0.00000000e+000, 0.00000000e+000],\n",
              "        [0.00000000e+000, 0.00000000e+000]],\n",
              "\n",
              "       [[0.00000000e+000, 0.00000000e+000],\n",
              "        [0.00000000e+000, 0.00000000e+000],\n",
              "        [0.00000000e+000, 0.00000000e+000]]])"
            ]
          },
          "metadata": {},
          "execution_count": 62
        }
      ]
    },
    {
      "cell_type": "code",
      "source": [
        "# Create a new array 'f' with the same shape and data type as array 'c', filled with uninitialized data.\n",
        "f = np.empty_like(c)\n",
        "# Display array 'f'.\n",
        "f"
      ],
      "metadata": {
        "colab": {
          "base_uri": "https://localhost:8080/"
        },
        "id": "rpVyjqta23vX",
        "outputId": "0be1b708-e6ff-439a-bf95-b4a088528ba1"
      },
      "execution_count": null,
      "outputs": [
        {
          "output_type": "execute_result",
          "data": {
            "text/plain": [
              "array([[[46126841,    31852,        0,        0],\n",
              "        [       0,        0,        0,        0],\n",
              "        [       0,        0,        0,        0]],\n",
              "\n",
              "       [[       0,        0,        0,        0],\n",
              "        [       0,        0,        0,        0],\n",
              "        [       0,        0,        0,        0]]], dtype=int32)"
            ]
          },
          "metadata": {},
          "execution_count": 63
        }
      ]
    },
    {
      "cell_type": "code",
      "source": [
        "# Create a 5x5 identity matrix using np.eye().\n",
        "np.eye(5)"
      ],
      "metadata": {
        "colab": {
          "base_uri": "https://localhost:8080/"
        },
        "id": "HEeyB4Uo28vk",
        "outputId": "cd871f51-3fe9-47f5-a97c-3fba22e2aecb"
      },
      "execution_count": null,
      "outputs": [
        {
          "output_type": "execute_result",
          "data": {
            "text/plain": [
              "array([[1., 0., 0., 0., 0.],\n",
              "       [0., 1., 0., 0., 0.],\n",
              "       [0., 0., 1., 0., 0.],\n",
              "       [0., 0., 0., 1., 0.],\n",
              "       [0., 0., 0., 0., 1.]])"
            ]
          },
          "metadata": {},
          "execution_count": 64
        }
      ]
    },
    {
      "cell_type": "code",
      "source": [
        "# Create a NumPy array 'g' with 12 evenly spaced values between 5 and 15 (inclusive).\n",
        "g = np.linspace(5, 15, 12)\n",
        "# Display array 'g'.\n",
        "g"
      ],
      "metadata": {
        "colab": {
          "base_uri": "https://localhost:8080/"
        },
        "id": "lealV3I52_fJ",
        "outputId": "645a699b-7b92-4691-dc0d-7204ec7eb3ee"
      },
      "execution_count": null,
      "outputs": [
        {
          "output_type": "execute_result",
          "data": {
            "text/plain": [
              "array([ 5.        ,  5.90909091,  6.81818182,  7.72727273,  8.63636364,\n",
              "        9.54545455, 10.45454545, 11.36363636, 12.27272727, 13.18181818,\n",
              "       14.09090909, 15.        ])"
            ]
          },
          "metadata": {},
          "execution_count": 65
        }
      ]
    },
    {
      "cell_type": "markdown",
      "source": [
        "# **Meta information**"
      ],
      "metadata": {
        "id": "6cV5BrgA3GEv"
      }
    },
    {
      "cell_type": "code",
      "source": [
        "# Display the total number of elements in the array 'g'.\n",
        "g.size"
      ],
      "metadata": {
        "colab": {
          "base_uri": "https://localhost:8080/"
        },
        "id": "B6Jxuk6F3N3H",
        "outputId": "4f775700-26c2-4d66-82ee-fd01bfac59d6"
      },
      "execution_count": null,
      "outputs": [
        {
          "output_type": "execute_result",
          "data": {
            "text/plain": [
              "12"
            ]
          },
          "metadata": {},
          "execution_count": 66
        }
      ]
    },
    {
      "cell_type": "code",
      "source": [
        "# Display the size in bytes of each element in the array 'g'.\n",
        "g.itemsize"
      ],
      "metadata": {
        "colab": {
          "base_uri": "https://localhost:8080/"
        },
        "id": "-GMY35kg3PeZ",
        "outputId": "0b638d5f-50c7-4499-8144-d3bacb75defb"
      },
      "execution_count": null,
      "outputs": [
        {
          "output_type": "execute_result",
          "data": {
            "text/plain": [
              "8"
            ]
          },
          "metadata": {},
          "execution_count": 67
        }
      ]
    },
    {
      "cell_type": "code",
      "source": [
        "# Display the number of dimensions (axes) of the array 'g'.\n",
        "g.ndim"
      ],
      "metadata": {
        "colab": {
          "base_uri": "https://localhost:8080/"
        },
        "id": "XCKrlkp03R8B",
        "outputId": "ad40313b-9e18-47f5-80c2-1380d01d349d"
      },
      "execution_count": null,
      "outputs": [
        {
          "output_type": "execute_result",
          "data": {
            "text/plain": [
              "1"
            ]
          },
          "metadata": {},
          "execution_count": 68
        }
      ]
    },
    {
      "cell_type": "code",
      "source": [
        "# Display the shape of the array 'g' (a tuple indicating the size of each dimension).\n",
        "g.shape"
      ],
      "metadata": {
        "colab": {
          "base_uri": "https://localhost:8080/"
        },
        "id": "1TvunkEB3TUY",
        "outputId": "06dc7352-45c2-449f-f3b3-092b3fd8c4a9"
      },
      "execution_count": null,
      "outputs": [
        {
          "output_type": "execute_result",
          "data": {
            "text/plain": [
              "(12,)"
            ]
          },
          "metadata": {},
          "execution_count": 69
        }
      ]
    },
    {
      "cell_type": "code",
      "source": [
        "# Display the data type of the elements in the array 'g'.\n",
        "g.dtype"
      ],
      "metadata": {
        "colab": {
          "base_uri": "https://localhost:8080/"
        },
        "id": "YK1_YypI3U0f",
        "outputId": "628cc521-4591-49d0-ca60-4a3107897eec"
      },
      "execution_count": null,
      "outputs": [
        {
          "output_type": "execute_result",
          "data": {
            "text/plain": [
              "dtype('float64')"
            ]
          },
          "metadata": {},
          "execution_count": 70
        }
      ]
    },
    {
      "cell_type": "code",
      "source": [
        "# Display the total number of bytes consumed by the elements of the array 'g'.\n",
        "g.nbytes"
      ],
      "metadata": {
        "colab": {
          "base_uri": "https://localhost:8080/"
        },
        "id": "a4_A-xr13WwP",
        "outputId": "e93e8810-44c0-4723-dcb0-72e5f6693af0"
      },
      "execution_count": null,
      "outputs": [
        {
          "output_type": "execute_result",
          "data": {
            "text/plain": [
              "96"
            ]
          },
          "metadata": {},
          "execution_count": 71
        }
      ]
    },
    {
      "cell_type": "markdown",
      "source": [
        "# **Reshaping, Resizing, Stacking, Flattening**"
      ],
      "metadata": {
        "id": "aS930KU33d-9"
      }
    },
    {
      "cell_type": "code",
      "source": [
        "g = np.arange(15)\n",
        "# Display the array 'g'.\n",
        "g"
      ],
      "metadata": {
        "colab": {
          "base_uri": "https://localhost:8080/"
        },
        "id": "QwH88zSflBVz",
        "outputId": "a5648758-6e83-46b2-db33-5e6cb61e0217"
      },
      "execution_count": null,
      "outputs": [
        {
          "output_type": "execute_result",
          "data": {
            "text/plain": [
              "array([ 0,  1,  2,  3,  4,  5,  6,  7,  8,  9, 10, 11, 12, 13, 14])"
            ]
          },
          "metadata": {},
          "execution_count": 72
        }
      ]
    },
    {
      "cell_type": "code",
      "source": [
        "# Display the shape of the array 'g'.\n",
        "g.shape"
      ],
      "metadata": {
        "colab": {
          "base_uri": "https://localhost:8080/"
        },
        "id": "GH0Zw2xHlDFW",
        "outputId": "39fc4284-83b9-4cca-e576-d09c8dbf3c53"
      },
      "execution_count": null,
      "outputs": [
        {
          "output_type": "execute_result",
          "data": {
            "text/plain": [
              "(15,)"
            ]
          },
          "metadata": {},
          "execution_count": 73
        }
      ]
    },
    {
      "cell_type": "code",
      "source": [
        "# Display the shape of the array 'g' using np.shape().\n",
        "np.shape(g)"
      ],
      "metadata": {
        "colab": {
          "base_uri": "https://localhost:8080/"
        },
        "id": "EvuvOyoglDCW",
        "outputId": "179640ff-3601-4633-f33f-9a2f35f6ca82"
      },
      "execution_count": null,
      "outputs": [
        {
          "output_type": "execute_result",
          "data": {
            "text/plain": [
              "(15,)"
            ]
          },
          "metadata": {},
          "execution_count": 74
        }
      ]
    },
    {
      "cell_type": "code",
      "source": [
        "# Reshape the array 'g' into a 3x5 matrix and display the result.\n",
        "g.reshape((3, 5))"
      ],
      "metadata": {
        "colab": {
          "base_uri": "https://localhost:8080/"
        },
        "id": "xgLy-n2olCsh",
        "outputId": "fb9959d7-35ed-48ea-8b50-ade18e927ddd"
      },
      "execution_count": null,
      "outputs": [
        {
          "output_type": "execute_result",
          "data": {
            "text/plain": [
              "array([[ 0,  1,  2,  3,  4],\n",
              "       [ 5,  6,  7,  8,  9],\n",
              "       [10, 11, 12, 13, 14]])"
            ]
          },
          "metadata": {},
          "execution_count": 75
        }
      ]
    },
    {
      "cell_type": "code",
      "source": [
        "# Reshape the array 'g' into a 5x3 matrix and assign it to variable 'h', then display 'h'.\n",
        "h = g.reshape((5, 3))\n",
        "h"
      ],
      "metadata": {
        "colab": {
          "base_uri": "https://localhost:8080/"
        },
        "id": "778zjaQ-lCpW",
        "outputId": "3486db9e-5221-4d5e-e72e-a0b03c0a2c7f"
      },
      "execution_count": null,
      "outputs": [
        {
          "output_type": "execute_result",
          "data": {
            "text/plain": [
              "array([[ 0,  1,  2],\n",
              "       [ 3,  4,  5],\n",
              "       [ 6,  7,  8],\n",
              "       [ 9, 10, 11],\n",
              "       [12, 13, 14]])"
            ]
          },
          "metadata": {},
          "execution_count": 76
        }
      ]
    },
    {
      "cell_type": "code",
      "source": [
        "# Display the transpose of array 'h'.\n",
        "h.T"
      ],
      "metadata": {
        "colab": {
          "base_uri": "https://localhost:8080/"
        },
        "id": "HtmgxOQtlCl_",
        "outputId": "c2a4227f-143f-4405-a25b-8b9dcc808840"
      },
      "execution_count": null,
      "outputs": [
        {
          "output_type": "execute_result",
          "data": {
            "text/plain": [
              "array([[ 0,  3,  6,  9, 12],\n",
              "       [ 1,  4,  7, 10, 13],\n",
              "       [ 2,  5,  8, 11, 14]])"
            ]
          },
          "metadata": {},
          "execution_count": 77
        }
      ]
    },
    {
      "cell_type": "code",
      "source": [
        "# Display the transpose of array 'h' using the transpose() method.\n",
        "h.transpose()"
      ],
      "metadata": {
        "colab": {
          "base_uri": "https://localhost:8080/"
        },
        "id": "EQLg5e3UldYJ",
        "outputId": "f86130e4-ab61-4184-96a3-855914bda9d1"
      },
      "execution_count": null,
      "outputs": [
        {
          "output_type": "execute_result",
          "data": {
            "text/plain": [
              "array([[ 0,  3,  6,  9, 12],\n",
              "       [ 1,  4,  7, 10, 13],\n",
              "       [ 2,  5,  8, 11, 14]])"
            ]
          },
          "metadata": {},
          "execution_count": 78
        }
      ]
    },
    {
      "cell_type": "code",
      "source": [
        "# Display the current state of array 'g'.\n",
        "g"
      ],
      "metadata": {
        "colab": {
          "base_uri": "https://localhost:8080/"
        },
        "id": "R-g7RoJylgML",
        "outputId": "2ac13bed-ff80-48ff-8ae3-ca530b58420a"
      },
      "execution_count": null,
      "outputs": [
        {
          "output_type": "execute_result",
          "data": {
            "text/plain": [
              "array([ 0,  1,  2,  3,  4,  5,  6,  7,  8,  9, 10, 11, 12, 13, 14])"
            ]
          },
          "metadata": {},
          "execution_count": 79
        }
      ]
    },
    {
      "cell_type": "code",
      "source": [
        "# Resize the array 'g' to a shape of (3, 1) and display the result.\n",
        "np.resize(g, (3, 1))"
      ],
      "metadata": {
        "colab": {
          "base_uri": "https://localhost:8080/"
        },
        "id": "U5sSlBxhlhLp",
        "outputId": "18342511-425a-409a-944d-62636cf7abff"
      },
      "execution_count": null,
      "outputs": [
        {
          "output_type": "execute_result",
          "data": {
            "text/plain": [
              "array([[0],\n",
              "       [1],\n",
              "       [2]])"
            ]
          },
          "metadata": {},
          "execution_count": 80
        }
      ]
    },
    {
      "cell_type": "code",
      "source": [
        "# Resize the array 'g' to a shape of (1, 5) and display the result.\n",
        "np.resize(g, (1, 5))"
      ],
      "metadata": {
        "colab": {
          "base_uri": "https://localhost:8080/"
        },
        "id": "EhmPBH2allkE",
        "outputId": "6ddd6c72-3960-4704-840a-a0e485f10ba1"
      },
      "execution_count": null,
      "outputs": [
        {
          "output_type": "execute_result",
          "data": {
            "text/plain": [
              "array([[0, 1, 2, 3, 4]])"
            ]
          },
          "metadata": {},
          "execution_count": 81
        }
      ]
    },
    {
      "cell_type": "code",
      "source": [
        "# Resize the array 'g' to a shape of (2, 5) and display the result.\n",
        "np.resize(g, (2, 5))"
      ],
      "metadata": {
        "colab": {
          "base_uri": "https://localhost:8080/"
        },
        "id": "_ii6tXjTlpZ_",
        "outputId": "597c1cd6-888f-4fc2-aa08-e03b1da1b0e5"
      },
      "execution_count": null,
      "outputs": [
        {
          "output_type": "execute_result",
          "data": {
            "text/plain": [
              "array([[0, 1, 2, 3, 4],\n",
              "       [5, 6, 7, 8, 9]])"
            ]
          },
          "metadata": {},
          "execution_count": 82
        }
      ]
    },
    {
      "cell_type": "code",
      "source": [
        "# Resize the array 'g' to a shape of (5, 4), assign it to 'n', and display 'n'. Note that resizing to a larger size repeats the original array elements.\n",
        "n = np.resize(g, (5, 4))\n",
        "n"
      ],
      "metadata": {
        "colab": {
          "base_uri": "https://localhost:8080/"
        },
        "id": "Gvki1ncKlv-G",
        "outputId": "0ff251dc-6058-42de-a007-3add10332dc0"
      },
      "execution_count": null,
      "outputs": [
        {
          "output_type": "execute_result",
          "data": {
            "text/plain": [
              "array([[ 0,  1,  2,  3],\n",
              "       [ 4,  5,  6,  7],\n",
              "       [ 8,  9, 10, 11],\n",
              "       [12, 13, 14,  0],\n",
              "       [ 1,  2,  3,  4]])"
            ]
          },
          "metadata": {},
          "execution_count": 83
        }
      ]
    },
    {
      "cell_type": "code",
      "source": [
        "# Display the current state of array 'h'.\n",
        "h"
      ],
      "metadata": {
        "colab": {
          "base_uri": "https://localhost:8080/"
        },
        "id": "hf7RqAgclv6m",
        "outputId": "e1f2507d-6365-4fa9-d5a3-50019264f3ae"
      },
      "execution_count": null,
      "outputs": [
        {
          "output_type": "execute_result",
          "data": {
            "text/plain": [
              "array([[ 0,  1,  2],\n",
              "       [ 3,  4,  5],\n",
              "       [ 6,  7,  8],\n",
              "       [ 9, 10, 11],\n",
              "       [12, 13, 14]])"
            ]
          },
          "metadata": {},
          "execution_count": 84
        }
      ]
    },
    {
      "cell_type": "code",
      "source": [
        "# Horizontally stack array 'h' and 'h' multiplied by 2, then display the result.\n",
        "np.hstack((h, 2 * h))"
      ],
      "metadata": {
        "colab": {
          "base_uri": "https://localhost:8080/"
        },
        "id": "2l9FCIj-lv3f",
        "outputId": "19043051-a828-4e86-edf1-2a9170745020"
      },
      "execution_count": null,
      "outputs": [
        {
          "output_type": "execute_result",
          "data": {
            "text/plain": [
              "array([[ 0,  1,  2,  0,  2,  4],\n",
              "       [ 3,  4,  5,  6,  8, 10],\n",
              "       [ 6,  7,  8, 12, 14, 16],\n",
              "       [ 9, 10, 11, 18, 20, 22],\n",
              "       [12, 13, 14, 24, 26, 28]])"
            ]
          },
          "metadata": {},
          "execution_count": 85
        }
      ]
    },
    {
      "cell_type": "code",
      "source": [
        "# Vertically stack array 'h' and 'h' multiplied by 0.5, then display the result.\n",
        "np.vstack((h, 0.5 * h))"
      ],
      "metadata": {
        "colab": {
          "base_uri": "https://localhost:8080/"
        },
        "id": "grrtlEIUl6TS",
        "outputId": "9a1c435a-f009-462c-b51b-0ba6a6e92ebf"
      },
      "execution_count": null,
      "outputs": [
        {
          "output_type": "execute_result",
          "data": {
            "text/plain": [
              "array([[ 0. ,  1. ,  2. ],\n",
              "       [ 3. ,  4. ,  5. ],\n",
              "       [ 6. ,  7. ,  8. ],\n",
              "       [ 9. , 10. , 11. ],\n",
              "       [12. , 13. , 14. ],\n",
              "       [ 0. ,  0.5,  1. ],\n",
              "       [ 1.5,  2. ,  2.5],\n",
              "       [ 3. ,  3.5,  4. ],\n",
              "       [ 4.5,  5. ,  5.5],\n",
              "       [ 6. ,  6.5,  7. ]])"
            ]
          },
          "metadata": {},
          "execution_count": 86
        }
      ]
    },
    {
      "cell_type": "code",
      "source": [
        "# Display the current state of array 'h'.\n",
        "h"
      ],
      "metadata": {
        "colab": {
          "base_uri": "https://localhost:8080/"
        },
        "id": "DAK3baPpl_Wt",
        "outputId": "be1ef57e-d938-482b-8093-12ae5d46c478"
      },
      "execution_count": null,
      "outputs": [
        {
          "output_type": "execute_result",
          "data": {
            "text/plain": [
              "array([[ 0,  1,  2],\n",
              "       [ 3,  4,  5],\n",
              "       [ 6,  7,  8],\n",
              "       [ 9, 10, 11],\n",
              "       [12, 13, 14]])"
            ]
          },
          "metadata": {},
          "execution_count": 87
        }
      ]
    },
    {
      "cell_type": "code",
      "source": [
        "# Flatten the array 'h' into a 1D array (row-major order by default) and display the result.\n",
        "h.flatten()"
      ],
      "metadata": {
        "colab": {
          "base_uri": "https://localhost:8080/"
        },
        "id": "oxrv5tpwmAcl",
        "outputId": "4e77dab3-a8b5-4759-9dc0-cdb0470a4b6e"
      },
      "execution_count": null,
      "outputs": [
        {
          "output_type": "execute_result",
          "data": {
            "text/plain": [
              "array([ 0,  1,  2,  3,  4,  5,  6,  7,  8,  9, 10, 11, 12, 13, 14])"
            ]
          },
          "metadata": {},
          "execution_count": 88
        }
      ]
    },
    {
      "cell_type": "code",
      "source": [
        "# Flatten the array 'h' into a 1D array using C-style (row-major) order and display the result.\n",
        "h.flatten(order='C')"
      ],
      "metadata": {
        "colab": {
          "base_uri": "https://localhost:8080/"
        },
        "id": "th7SUV1qmCVC",
        "outputId": "6ac0d98c-4628-43e7-d14f-4bb333325a15"
      },
      "execution_count": null,
      "outputs": [
        {
          "output_type": "execute_result",
          "data": {
            "text/plain": [
              "array([ 0,  1,  2,  3,  4,  5,  6,  7,  8,  9, 10, 11, 12, 13, 14])"
            ]
          },
          "metadata": {},
          "execution_count": 89
        }
      ]
    },
    {
      "cell_type": "code",
      "source": [
        "# Flatten the array 'h' into a 1D array using Fortran-style (column-major) order and display the result.\n",
        "h.flatten(order='F')"
      ],
      "metadata": {
        "colab": {
          "base_uri": "https://localhost:8080/"
        },
        "id": "isitpLC8mHR9",
        "outputId": "684138f7-897e-446b-c0fc-4bb55199491c"
      },
      "execution_count": null,
      "outputs": [
        {
          "output_type": "execute_result",
          "data": {
            "text/plain": [
              "array([ 0,  3,  6,  9, 12,  1,  4,  7, 10, 13,  2,  5,  8, 11, 14])"
            ]
          },
          "metadata": {},
          "execution_count": 90
        }
      ]
    },
    {
      "cell_type": "code",
      "source": [
        "# Iterate through the flattened array 'h' (row-major order by default) and print each element followed by a comma.\n",
        "for i in h.flat:\n",
        "  print(i, end=',')"
      ],
      "metadata": {
        "colab": {
          "base_uri": "https://localhost:8080/"
        },
        "id": "RcgANLeimOyd",
        "outputId": "bd628e7f-bb8a-4ea7-b677-566a0ee82973"
      },
      "execution_count": null,
      "outputs": [
        {
          "output_type": "stream",
          "name": "stdout",
          "text": [
            "0,1,2,3,4,5,6,7,8,9,10,11,12,13,14,"
          ]
        }
      ]
    },
    {
      "cell_type": "code",
      "source": [
        "# Iterate through the array 'h' using ravel (which returns a view or copy depending on the order and original array) in C-style (row-major) order and print each element followed by a comma.\n",
        "for i in h.ravel(order='C'):\n",
        "  print(i, end=',')"
      ],
      "metadata": {
        "colab": {
          "base_uri": "https://localhost:8080/"
        },
        "id": "yyeTVkb-mU5A",
        "outputId": "d04c5948-aa0e-4267-b9ce-8b3ce7978d0f"
      },
      "execution_count": null,
      "outputs": [
        {
          "output_type": "stream",
          "name": "stdout",
          "text": [
            "0,1,2,3,4,5,6,7,8,9,10,11,12,13,14,"
          ]
        }
      ]
    },
    {
      "cell_type": "code",
      "source": [
        "# Iterate through the array 'h' using ravel (which returns a view or copy depending on the order and original array) in Fortran-style (column-major) order and print each element followed by a comma.\n",
        "for i in h.ravel(order='F'):\n",
        "  print(i, end=',')"
      ],
      "metadata": {
        "colab": {
          "base_uri": "https://localhost:8080/"
        },
        "id": "iIiHQNnVmYtF",
        "outputId": "1e2407b4-5367-42c1-a773-2d98a413b27b"
      },
      "execution_count": null,
      "outputs": [
        {
          "output_type": "stream",
          "name": "stdout",
          "text": [
            "0,3,6,9,12,1,4,7,10,13,2,5,8,11,14,"
          ]
        }
      ]
    },
    {
      "cell_type": "markdown",
      "source": [
        "#**Boolean Arrays**"
      ],
      "metadata": {
        "id": "Dmmvtpfw-p0M"
      }
    },
    {
      "cell_type": "code",
      "source": [
        "# Display the array 'h'.\n",
        "h"
      ],
      "metadata": {
        "colab": {
          "base_uri": "https://localhost:8080/"
        },
        "id": "GKxcB5f3-vq9",
        "outputId": "1ff76369-8152-490b-978e-ef872f65c9b4"
      },
      "execution_count": null,
      "outputs": [
        {
          "output_type": "execute_result",
          "data": {
            "text/plain": [
              "array([[ 0,  1,  2],\n",
              "       [ 3,  4,  5],\n",
              "       [ 6,  7,  8],\n",
              "       [ 9, 10, 11],\n",
              "       [12, 13, 14]])"
            ]
          },
          "metadata": {},
          "execution_count": 94
        }
      ]
    },
    {
      "cell_type": "code",
      "source": [
        "# Perform a boolean comparison to find elements in 'h' greater than 8 and display the resulting boolean array.\n",
        "h > 8"
      ],
      "metadata": {
        "colab": {
          "base_uri": "https://localhost:8080/"
        },
        "id": "160PxS49-295",
        "outputId": "9be2bb1b-a55b-4275-dd84-7d7fe8337e64"
      },
      "execution_count": null,
      "outputs": [
        {
          "output_type": "execute_result",
          "data": {
            "text/plain": [
              "array([[False, False, False],\n",
              "       [False, False, False],\n",
              "       [False, False, False],\n",
              "       [ True,  True,  True],\n",
              "       [ True,  True,  True]])"
            ]
          },
          "metadata": {},
          "execution_count": 95
        }
      ]
    },
    {
      "cell_type": "code",
      "source": [
        "# Perform a boolean comparison to find elements in 'h' less than or equal to 7 and display the resulting boolean array.\n",
        "h <= 7"
      ],
      "metadata": {
        "colab": {
          "base_uri": "https://localhost:8080/"
        },
        "id": "LNVhdcL9-26c",
        "outputId": "be6b29c2-d4aa-4e5d-bf7e-2fda7f966d95"
      },
      "execution_count": null,
      "outputs": [
        {
          "output_type": "execute_result",
          "data": {
            "text/plain": [
              "array([[ True,  True,  True],\n",
              "       [ True,  True,  True],\n",
              "       [ True,  True, False],\n",
              "       [False, False, False],\n",
              "       [False, False, False]])"
            ]
          },
          "metadata": {},
          "execution_count": 96
        }
      ]
    },
    {
      "cell_type": "code",
      "source": [
        "# Perform a boolean comparison to find elements in 'h' equal to 5 and display the resulting boolean array.\n",
        "h == 5"
      ],
      "metadata": {
        "colab": {
          "base_uri": "https://localhost:8080/"
        },
        "id": "RLEDKi_m-23W",
        "outputId": "a93e4de4-ea69-44b5-80f6-8500545283fd"
      },
      "execution_count": null,
      "outputs": [
        {
          "output_type": "execute_result",
          "data": {
            "text/plain": [
              "array([[False, False, False],\n",
              "       [False, False,  True],\n",
              "       [False, False, False],\n",
              "       [False, False, False],\n",
              "       [False, False, False]])"
            ]
          },
          "metadata": {},
          "execution_count": 97
        }
      ]
    },
    {
      "cell_type": "code",
      "source": [
        "# Convert the boolean array (h == 5) to an integer array, where True becomes 1 and False becomes 0, and display the result.\n",
        "(h == 5).astype(int)"
      ],
      "metadata": {
        "colab": {
          "base_uri": "https://localhost:8080/"
        },
        "id": "7SuR9wGp-2sm",
        "outputId": "68e2ea3c-9840-47f2-8637-2d3b53d7b768"
      },
      "execution_count": null,
      "outputs": [
        {
          "output_type": "execute_result",
          "data": {
            "text/plain": [
              "array([[0, 0, 0],\n",
              "       [0, 0, 1],\n",
              "       [0, 0, 0],\n",
              "       [0, 0, 0],\n",
              "       [0, 0, 0]])"
            ]
          },
          "metadata": {},
          "execution_count": 98
        }
      ]
    },
    {
      "cell_type": "code",
      "source": [
        "# Perform a boolean operation to find elements in 'h' greater than 4 AND less than or equal to 12, and display the resulting boolean array.\n",
        "(h > 4) & ( h <= 12)"
      ],
      "metadata": {
        "colab": {
          "base_uri": "https://localhost:8080/"
        },
        "id": "EmnqXv1P-2pS",
        "outputId": "bfe1a245-529b-4d6e-9180-5839b1ffe65e"
      },
      "execution_count": null,
      "outputs": [
        {
          "output_type": "execute_result",
          "data": {
            "text/plain": [
              "array([[False, False, False],\n",
              "       [False, False,  True],\n",
              "       [ True,  True,  True],\n",
              "       [ True,  True,  True],\n",
              "       [ True, False, False]])"
            ]
          },
          "metadata": {},
          "execution_count": 99
        }
      ]
    },
    {
      "cell_type": "code",
      "source": [
        "# Use the boolean array (h > 8) to index 'h' and display only the elements from 'h' where the condition is True.\n",
        "h[h > 8]"
      ],
      "metadata": {
        "colab": {
          "base_uri": "https://localhost:8080/"
        },
        "id": "y1qhGu7t_5bO",
        "outputId": "c5bb98a7-2d13-4648-814e-066ce4bfd2dc"
      },
      "execution_count": null,
      "outputs": [
        {
          "output_type": "execute_result",
          "data": {
            "text/plain": [
              "array([ 9, 10, 11, 12, 13, 14])"
            ]
          },
          "metadata": {},
          "execution_count": 100
        }
      ]
    },
    {
      "cell_type": "code",
      "source": [
        "# Use the boolean array from the combined condition ((h > 4) & (h <= 12)) to index 'h' and display only the elements from 'h' where the combined condition is True.\n",
        "h[(h > 4) & (h <=12)]"
      ],
      "metadata": {
        "colab": {
          "base_uri": "https://localhost:8080/"
        },
        "id": "X8hdwjM__-CE",
        "outputId": "45dd6990-d508-4087-c0f1-47358eae199b"
      },
      "execution_count": null,
      "outputs": [
        {
          "output_type": "execute_result",
          "data": {
            "text/plain": [
              "array([ 5,  6,  7,  8,  9, 10, 11, 12])"
            ]
          },
          "metadata": {},
          "execution_count": 101
        }
      ]
    },
    {
      "cell_type": "code",
      "source": [
        "# Use the boolean array from the combined condition ((h < 4) | (h >= 12)) to index 'h' and display only the elements from 'h' where the combined condition is True.\n",
        "h[(h < 4) | (h >= 12)]"
      ],
      "metadata": {
        "colab": {
          "base_uri": "https://localhost:8080/"
        },
        "id": "K3MAJj4hAF1Y",
        "outputId": "4c3e00df-b2bc-4c35-8b81-ec3d8f30745a"
      },
      "execution_count": null,
      "outputs": [
        {
          "output_type": "execute_result",
          "data": {
            "text/plain": [
              "array([ 0,  1,  2,  3, 12, 13, 14])"
            ]
          },
          "metadata": {},
          "execution_count": 102
        }
      ]
    },
    {
      "cell_type": "code",
      "source": [
        "# Use np.where to replace elements in 'h' based on the condition h > 7: if True, replace with 1; if False, replace with 0. Display the result.\n",
        "np.where(h > 7, 1, 0)"
      ],
      "metadata": {
        "colab": {
          "base_uri": "https://localhost:8080/"
        },
        "id": "L9dv0ZfIATBc",
        "outputId": "6655bada-0b32-495c-8c3a-4ae8cecbdecb"
      },
      "execution_count": null,
      "outputs": [
        {
          "output_type": "execute_result",
          "data": {
            "text/plain": [
              "array([[0, 0, 0],\n",
              "       [0, 0, 0],\n",
              "       [0, 0, 1],\n",
              "       [1, 1, 1],\n",
              "       [1, 1, 1]])"
            ]
          },
          "metadata": {},
          "execution_count": 103
        }
      ]
    },
    {
      "cell_type": "code",
      "source": [
        "# Use np.where to replace elements in 'h' based on the condition h % 2 == 0 (whether the element is even): if True, replace with 'even'; if False, replace with 'odd'. Display the result.\n",
        "np.where(h % 2 == 0, 'even', 'odd')"
      ],
      "metadata": {
        "colab": {
          "base_uri": "https://localhost:8080/"
        },
        "id": "9-71ge9oAVsu",
        "outputId": "7cb450db-e818-4920-fac4-d96a497302a7"
      },
      "execution_count": null,
      "outputs": [
        {
          "output_type": "execute_result",
          "data": {
            "text/plain": [
              "array([['even', 'odd', 'even'],\n",
              "       ['odd', 'even', 'odd'],\n",
              "       ['even', 'odd', 'even'],\n",
              "       ['odd', 'even', 'odd'],\n",
              "       ['even', 'odd', 'even']], dtype='<U4')"
            ]
          },
          "metadata": {},
          "execution_count": 104
        }
      ]
    },
    {
      "cell_type": "code",
      "source": [
        "# Use np.where to replace elements in 'h' based on the condition h <= 7: if True, replace with h * 2; if False, replace with h / 2. Display the result.\n",
        "np.where(h <= 7, h * 2, h / 2)"
      ],
      "metadata": {
        "colab": {
          "base_uri": "https://localhost:8080/"
        },
        "id": "06AS7lUBAaBM",
        "outputId": "c82fe827-8f7b-482b-dc69-e3ae028005b0"
      },
      "execution_count": null,
      "outputs": [
        {
          "output_type": "execute_result",
          "data": {
            "text/plain": [
              "array([[ 0. ,  2. ,  4. ],\n",
              "       [ 6. ,  8. , 10. ],\n",
              "       [12. , 14. ,  4. ],\n",
              "       [ 4.5,  5. ,  5.5],\n",
              "       [ 6. ,  6.5,  7. ]])"
            ]
          },
          "metadata": {},
          "execution_count": 105
        }
      ]
    },
    {
      "cell_type": "markdown",
      "source": [
        "#**Speed Comparison**"
      ],
      "metadata": {
        "id": "vjbI8ObkAe4A"
      }
    },
    {
      "cell_type": "code",
      "source": [
        "# Import the random module and set the value of I to 5000. I will be used to define the size of a matrix.\n",
        "import random\n",
        "I = 5000"
      ],
      "metadata": {
        "id": "jRP3i8JIAmkQ"
      },
      "execution_count": null,
      "outputs": []
    },
    {
      "cell_type": "code",
      "source": [
        "# Measure the time taken to create a list of lists ('mat') of size I x I, filled with random numbers from a Gaussian distribution using Python's built-in random.gauss.\n",
        "%time mat = [[random.gauss(0, 1) for j in range(I)] \\\n",
        "             for i in range(I)]"
      ],
      "metadata": {
        "colab": {
          "base_uri": "https://localhost:8080/"
        },
        "id": "9NZtWtqAAtw0",
        "outputId": "53b53e67-ecf3-43e2-d865-4fd6ddc71c48"
      },
      "execution_count": null,
      "outputs": [
        {
          "output_type": "stream",
          "name": "stdout",
          "text": [
            "CPU times: user 16.9 s, sys: 803 ms, total: 17.8 s\n",
            "Wall time: 20.4 s\n"
          ]
        }
      ]
    },
    {
      "cell_type": "code",
      "source": [
        "# Display the first 5 elements of the first row of the list of lists 'mat'.\n",
        "mat[0][:5]"
      ],
      "metadata": {
        "colab": {
          "base_uri": "https://localhost:8080/"
        },
        "id": "retQzIpyBEHM",
        "outputId": "f48e9e61-d87f-4297-fcde-155498cac1c7"
      },
      "execution_count": null,
      "outputs": [
        {
          "output_type": "execute_result",
          "data": {
            "text/plain": [
              "[-0.31589902274896553,\n",
              " -0.4607851392995981,\n",
              " -0.009265930555524476,\n",
              " 0.6893909496639743,\n",
              " -0.5206818698912445]"
            ]
          },
          "metadata": {},
          "execution_count": 109
        }
      ]
    },
    {
      "cell_type": "code",
      "source": [
        "# Measure the time taken to calculate the sum of all elements in the list of lists 'mat' using nested list comprehensions and Python's built-in sum.\n",
        "%time sum([sum(l) for l in mat])"
      ],
      "metadata": {
        "colab": {
          "base_uri": "https://localhost:8080/"
        },
        "id": "FJ6VlgbsBMBE",
        "outputId": "834ed4b5-0ff6-4281-ab1e-3a0c6835f14c"
      },
      "execution_count": null,
      "outputs": [
        {
          "output_type": "stream",
          "name": "stdout",
          "text": [
            "CPU times: user 189 ms, sys: 0 ns, total: 189 ms\n",
            "Wall time: 191 ms\n"
          ]
        },
        {
          "output_type": "execute_result",
          "data": {
            "text/plain": [
              "302.348352862778"
            ]
          },
          "metadata": {},
          "execution_count": 110
        }
      ]
    },
    {
      "cell_type": "code",
      "source": [
        "# Import the sys module and calculate the total memory size in bytes of the list of lists 'mat' by summing the size of each inner list using sys.getsizeof.\n",
        "import sys\n",
        "sum([sys.getsizeof(l) for l in mat])"
      ],
      "metadata": {
        "colab": {
          "base_uri": "https://localhost:8080/"
        },
        "id": "oviQgwNqBZ27",
        "outputId": "bf870faa-8868-491d-fd9b-cfa922414150"
      },
      "execution_count": null,
      "outputs": [
        {
          "output_type": "execute_result",
          "data": {
            "text/plain": [
              "209400000"
            ]
          },
          "metadata": {},
          "execution_count": 111
        }
      ]
    },
    {
      "cell_type": "code",
      "source": [
        "# Measure the time taken to create a NumPy array ('mat') of size I x I, filled with random numbers from a standard normal distribution using np.random.standard_normal.\n",
        "%time mat = np.random.standard_normal((I, I))"
      ],
      "metadata": {
        "colab": {
          "base_uri": "https://localhost:8080/"
        },
        "id": "17JyJbl8BjER",
        "outputId": "033a9c3f-faf8-4c45-e9fd-361d8e4e6429"
      },
      "execution_count": null,
      "outputs": [
        {
          "output_type": "stream",
          "name": "stdout",
          "text": [
            "CPU times: user 767 ms, sys: 61.9 ms, total: 829 ms\n",
            "Wall time: 826 ms\n"
          ]
        }
      ]
    },
    {
      "cell_type": "code",
      "source": [
        "# Measure the time taken to calculate the sum of all elements in the NumPy array 'mat' using the array's built-in sum() method.\n",
        "%time mat.sum()"
      ],
      "metadata": {
        "colab": {
          "base_uri": "https://localhost:8080/"
        },
        "id": "R6gPAONiBuIj",
        "outputId": "43528667-dc1c-4436-a21a-e7c3722cb871"
      },
      "execution_count": null,
      "outputs": [
        {
          "output_type": "stream",
          "name": "stdout",
          "text": [
            "CPU times: user 18.3 ms, sys: 0 ns, total: 18.3 ms\n",
            "Wall time: 17.6 ms\n"
          ]
        },
        {
          "output_type": "execute_result",
          "data": {
            "text/plain": [
              "np.float64(2840.8252587626025)"
            ]
          },
          "metadata": {},
          "execution_count": 114
        }
      ]
    },
    {
      "cell_type": "code",
      "source": [
        "# Display the total number of bytes consumed by the elements of the NumPy array 'mat' using the nbytes attribute.\n",
        "mat.nbytes"
      ],
      "metadata": {
        "colab": {
          "base_uri": "https://localhost:8080/"
        },
        "id": "X6lxGMtZBwwW",
        "outputId": "e64febf5-06ca-4e5f-c9cd-223a8f5b56e9"
      },
      "execution_count": null,
      "outputs": [
        {
          "output_type": "execute_result",
          "data": {
            "text/plain": [
              "200000000"
            ]
          },
          "metadata": {},
          "execution_count": 115
        }
      ]
    },
    {
      "cell_type": "code",
      "source": [
        "# Display the total memory size in bytes of the NumPy array 'mat' using sys.getsizeof.\n",
        "sys.getsizeof(mat)"
      ],
      "metadata": {
        "colab": {
          "base_uri": "https://localhost:8080/"
        },
        "id": "DtA4vDM3BzWu",
        "outputId": "8d976cf2-112b-4cfc-cfb2-133e6b1d636a"
      },
      "execution_count": null,
      "outputs": [
        {
          "output_type": "execute_result",
          "data": {
            "text/plain": [
              "200000128"
            ]
          },
          "metadata": {},
          "execution_count": 116
        }
      ]
    },
    {
      "cell_type": "markdown",
      "source": [
        "# **Structured Arrays**"
      ],
      "metadata": {
        "id": "tr0SkEYNJ0_q"
      }
    },
    {
      "cell_type": "code",
      "source": [
        "# Import the NumPy library, commonly aliased as np.\n",
        "import numpy as np"
      ],
      "metadata": {
        "id": "WKS2oaXbKFUn"
      },
      "execution_count": 57,
      "outputs": []
    },
    {
      "cell_type": "code",
      "source": [
        "# Define a data type 'dt' for a structured array with fields for Name (string, max 10 chars),\n",
        "# Age (4-byte integer), Height (float), and Children/Pets (a tuple of two 4-byte integers).\n",
        "dt = np.dtype([('Name', 'S10'), ('Age', 'i4'), ('Height', 'f'), ('Children/Pets', 'i4', 2)])"
      ],
      "metadata": {
        "id": "sP6aYkZ3J2Xu"
      },
      "execution_count": 58,
      "outputs": []
    },
    {
      "cell_type": "code",
      "source": [
        "# Display the defined data type 'dt'.\n",
        "dt"
      ],
      "metadata": {
        "colab": {
          "base_uri": "https://localhost:8080/"
        },
        "id": "6UmU2nk-J27D",
        "outputId": "fd105399-b575-4257-9cf3-97318f14c425"
      },
      "execution_count": 59,
      "outputs": [
        {
          "output_type": "execute_result",
          "data": {
            "text/plain": [
              "dtype([('Name', 'S10'), ('Age', '<i4'), ('Height', '<f4'), ('Children/Pets', '<i4', (2,))])"
            ]
          },
          "metadata": {},
          "execution_count": 59
        }
      ]
    },
    {
      "cell_type": "code",
      "source": [
        "# Define a data type 'dt' for a structured array using a dictionary,\n",
        "# specifying names and formats for fields Name, Age, Height, and Children/Pets.\n",
        "# 'O' stands for object, 'int' for integer, 'float' for float. The comma in 'int,int'\n",
        "# indicates a nested structure for Children/Pets.\n",
        "dt = np.dtype({'names': ['Name', 'Age', 'Height', 'Children/Pets'],\n",
        "               'formats': 'O int float int,int'.split()})"
      ],
      "metadata": {
        "id": "k5lt6iNsJ23_"
      },
      "execution_count": 60,
      "outputs": []
    },
    {
      "cell_type": "code",
      "source": [
        "# Display the defined data type 'dt'.\n",
        "dt"
      ],
      "metadata": {
        "colab": {
          "base_uri": "https://localhost:8080/"
        },
        "id": "K2pyU2ywJ20q",
        "outputId": "28cef1de-f090-4543-f578-b17c8476f714"
      },
      "execution_count": 61,
      "outputs": [
        {
          "output_type": "execute_result",
          "data": {
            "text/plain": [
              "dtype([('Name', 'O'), ('Age', '<i8'), ('Height', '<f8'), ('Children/Pets', [('f0', '<i8'), ('f1', '<i8')])])"
            ]
          },
          "metadata": {},
          "execution_count": 61
        }
      ]
    },
    {
      "cell_type": "code",
      "source": [
        "# Create a structured NumPy array 's' with two records, using the data type 'dt'.\n",
        "s = np.array([('Smith', 45, 1.83, (0, 1)),\n",
        "              ('Jones', 53, 1.72, (2, 2))], dtype=dt)"
      ],
      "metadata": {
        "id": "af6xfVhNJ2xX"
      },
      "execution_count": 62,
      "outputs": []
    },
    {
      "cell_type": "code",
      "source": [
        "# Display the structured array 's'.\n",
        "s"
      ],
      "metadata": {
        "colab": {
          "base_uri": "https://localhost:8080/"
        },
        "id": "2soK6fISKZkH",
        "outputId": "6e1f1864-31d8-44e2-8aeb-1f3eb835c09f"
      },
      "execution_count": 63,
      "outputs": [
        {
          "output_type": "execute_result",
          "data": {
            "text/plain": [
              "array([('Smith', 45, 1.83, (0, 1)), ('Jones', 53, 1.72, (2, 2))],\n",
              "      dtype=[('Name', 'O'), ('Age', '<i8'), ('Height', '<f8'), ('Children/Pets', [('f0', '<i8'), ('f1', '<i8')])])"
            ]
          },
          "metadata": {},
          "execution_count": 63
        }
      ]
    },
    {
      "cell_type": "code",
      "source": [
        "# Display the type of the object 's', which is a NumPy ndarray.\n",
        "type(s)"
      ],
      "metadata": {
        "colab": {
          "base_uri": "https://localhost:8080/"
        },
        "id": "rT5nNLkZKcN1",
        "outputId": "e50bce94-5908-448e-91c4-5732c03cf9ef"
      },
      "execution_count": 64,
      "outputs": [
        {
          "output_type": "execute_result",
          "data": {
            "text/plain": [
              "numpy.ndarray"
            ]
          },
          "metadata": {},
          "execution_count": 64
        }
      ]
    },
    {
      "cell_type": "code",
      "source": [
        "# Access and display the 'Name' field from the structured array 's'.\n",
        "s['Name']"
      ],
      "metadata": {
        "colab": {
          "base_uri": "https://localhost:8080/"
        },
        "id": "6H4Gr3lWKcKu",
        "outputId": "e035542d-2cc8-4e4c-f8fc-ff31a0e39eb8"
      },
      "execution_count": 65,
      "outputs": [
        {
          "output_type": "execute_result",
          "data": {
            "text/plain": [
              "array(['Smith', 'Jones'], dtype=object)"
            ]
          },
          "metadata": {},
          "execution_count": 65
        }
      ]
    },
    {
      "cell_type": "code",
      "source": [
        "# Access the 'Height' field of the structured array 's' and calculate its mean.\n",
        "s['Height'].mean()"
      ],
      "metadata": {
        "colab": {
          "base_uri": "https://localhost:8080/"
        },
        "id": "jQmYoMMJKcH0",
        "outputId": "67ffc9a2-f11c-48a9-b108-faf725deceaf"
      },
      "execution_count": 66,
      "outputs": [
        {
          "output_type": "execute_result",
          "data": {
            "text/plain": [
              "np.float64(1.775)"
            ]
          },
          "metadata": {},
          "execution_count": 66
        }
      ]
    },
    {
      "cell_type": "code",
      "source": [
        "# Access and display the first record (at index 0) of the structured array 's'.\n",
        "s[0]"
      ],
      "metadata": {
        "colab": {
          "base_uri": "https://localhost:8080/"
        },
        "id": "JrJXdzRcKcER",
        "outputId": "b056ea5b-9eee-4835-b45e-aa50c79ccff7"
      },
      "execution_count": 67,
      "outputs": [
        {
          "output_type": "execute_result",
          "data": {
            "text/plain": [
              "np.void(('Smith', 45, 1.83, (0, 1)), dtype=[('Name', 'O'), ('Age', '<i8'), ('Height', '<f8'), ('Children/Pets', [('f0', '<i8'), ('f1', '<i8')])])"
            ]
          },
          "metadata": {},
          "execution_count": 67
        }
      ]
    },
    {
      "cell_type": "code",
      "source": [
        "# Access and display the 'Age' field from the second record (at index 1) of the structured array 's'.\n",
        "s[1]['Age']"
      ],
      "metadata": {
        "colab": {
          "base_uri": "https://localhost:8080/"
        },
        "id": "vLCmXjmrKb3W",
        "outputId": "75792def-26f8-46a1-e425-65e33dbf5a19"
      },
      "execution_count": 68,
      "outputs": [
        {
          "output_type": "execute_result",
          "data": {
            "text/plain": [
              "np.int64(53)"
            ]
          },
          "metadata": {},
          "execution_count": 68
        }
      ]
    },
    {
      "cell_type": "markdown",
      "source": [
        "# **Vectorization of Code**"
      ],
      "metadata": {
        "id": "xsBp3skrKxKM"
      }
    },
    {
      "cell_type": "code",
      "source": [
        "# Set the random seed for reproducibility.\n",
        "np.random.seed(100)\n",
        "# Create a 4x3 array 'r' with values from 0 to 11 and reshape it.\n",
        "r = np.arange(12).reshape((4, 3))\n",
        "# Create a 4x3 array 's' by multiplying 'r' by 0.5.\n",
        "s = np.arange(12).reshape((4, 3)) * 0.5"
      ],
      "metadata": {
        "id": "SLXnl1ECKz7m"
      },
      "execution_count": 69,
      "outputs": []
    },
    {
      "cell_type": "code",
      "source": [
        "# Display array 'r'.\n",
        "r"
      ],
      "metadata": {
        "colab": {
          "base_uri": "https://localhost:8080/"
        },
        "id": "8nOXEbJuLCgw",
        "outputId": "4f30da4f-5d75-49d1-bfe3-c1189864c974"
      },
      "execution_count": 70,
      "outputs": [
        {
          "output_type": "execute_result",
          "data": {
            "text/plain": [
              "array([[ 0,  1,  2],\n",
              "       [ 3,  4,  5],\n",
              "       [ 6,  7,  8],\n",
              "       [ 9, 10, 11]])"
            ]
          },
          "metadata": {},
          "execution_count": 70
        }
      ]
    },
    {
      "cell_type": "code",
      "source": [
        "# Display array 's'.\n",
        "s"
      ],
      "metadata": {
        "colab": {
          "base_uri": "https://localhost:8080/"
        },
        "id": "rueO0yxNLDeu",
        "outputId": "d9180418-da07-4edf-b814-07a0f79ed125"
      },
      "execution_count": 71,
      "outputs": [
        {
          "output_type": "execute_result",
          "data": {
            "text/plain": [
              "array([[0. , 0.5, 1. ],\n",
              "       [1.5, 2. , 2.5],\n",
              "       [3. , 3.5, 4. ],\n",
              "       [4.5, 5. , 5.5]])"
            ]
          },
          "metadata": {},
          "execution_count": 71
        }
      ]
    },
    {
      "cell_type": "code",
      "source": [
        "# Perform element-wise addition of arrays 'r' and 's', and display the result.\n",
        "r + s"
      ],
      "metadata": {
        "colab": {
          "base_uri": "https://localhost:8080/"
        },
        "id": "LaHQL7f7LE3n",
        "outputId": "22e172b1-9431-404e-c71d-03ff9b27ddd1"
      },
      "execution_count": 72,
      "outputs": [
        {
          "output_type": "execute_result",
          "data": {
            "text/plain": [
              "array([[ 0. ,  1.5,  3. ],\n",
              "       [ 4.5,  6. ,  7.5],\n",
              "       [ 9. , 10.5, 12. ],\n",
              "       [13.5, 15. , 16.5]])"
            ]
          },
          "metadata": {},
          "execution_count": 72
        }
      ]
    },
    {
      "cell_type": "code",
      "source": [
        "# Add the scalar value 3 to each element of array 'r' (broadcasting), and display the result.\n",
        "r + 3"
      ],
      "metadata": {
        "colab": {
          "base_uri": "https://localhost:8080/"
        },
        "id": "W72tVlS6LHoW",
        "outputId": "97958f83-84a3-4983-c00f-231d860d56cf"
      },
      "execution_count": 73,
      "outputs": [
        {
          "output_type": "execute_result",
          "data": {
            "text/plain": [
              "array([[ 3,  4,  5],\n",
              "       [ 6,  7,  8],\n",
              "       [ 9, 10, 11],\n",
              "       [12, 13, 14]])"
            ]
          },
          "metadata": {},
          "execution_count": 73
        }
      ]
    },
    {
      "cell_type": "code",
      "source": [
        "# Multiply each element of array 'r' by 2 (broadcasting), and display the result.\n",
        "2 * r"
      ],
      "metadata": {
        "colab": {
          "base_uri": "https://localhost:8080/"
        },
        "id": "n6rNOuOpLLGH",
        "outputId": "07844cb7-d11f-47e1-838c-f2370f45d9e5"
      },
      "execution_count": 74,
      "outputs": [
        {
          "output_type": "execute_result",
          "data": {
            "text/plain": [
              "array([[ 0,  2,  4],\n",
              "       [ 6,  8, 10],\n",
              "       [12, 14, 16],\n",
              "       [18, 20, 22]])"
            ]
          },
          "metadata": {},
          "execution_count": 74
        }
      ]
    },
    {
      "cell_type": "code",
      "source": [
        "# Perform combined broadcasting operations: multiply 'r' by 2 and add 3 to each element, then display the result.\n",
        "2 * r + 3"
      ],
      "metadata": {
        "colab": {
          "base_uri": "https://localhost:8080/"
        },
        "id": "CXjqgq3wLM5W",
        "outputId": "005bc10e-9191-4eb1-a7cb-26eb6b94c055"
      },
      "execution_count": 75,
      "outputs": [
        {
          "output_type": "execute_result",
          "data": {
            "text/plain": [
              "array([[ 3,  5,  7],\n",
              "       [ 9, 11, 13],\n",
              "       [15, 17, 19],\n",
              "       [21, 23, 25]])"
            ]
          },
          "metadata": {},
          "execution_count": 75
        }
      ]
    },
    {
      "cell_type": "code",
      "source": [
        "# Display the current state of array 'r'.\n",
        "r"
      ],
      "metadata": {
        "colab": {
          "base_uri": "https://localhost:8080/"
        },
        "id": "Puz-8q69LQZ2",
        "outputId": "eb194d8a-7509-4268-bbfb-177399aaeb85"
      },
      "execution_count": 76,
      "outputs": [
        {
          "output_type": "execute_result",
          "data": {
            "text/plain": [
              "array([[ 0,  1,  2],\n",
              "       [ 3,  4,  5],\n",
              "       [ 6,  7,  8],\n",
              "       [ 9, 10, 11]])"
            ]
          },
          "metadata": {},
          "execution_count": 76
        }
      ]
    },
    {
      "cell_type": "code",
      "source": [
        "# Display the shape of array 'r'.\n",
        "r.shape"
      ],
      "metadata": {
        "colab": {
          "base_uri": "https://localhost:8080/"
        },
        "id": "NcvSAZpfLSje",
        "outputId": "ba01ef87-3528-4e23-e578-5d9e62a0be1b"
      },
      "execution_count": 77,
      "outputs": [
        {
          "output_type": "execute_result",
          "data": {
            "text/plain": [
              "(4, 3)"
            ]
          },
          "metadata": {},
          "execution_count": 77
        }
      ]
    },
    {
      "cell_type": "code",
      "source": [
        "# Create a 1D array 's' using arange with a step of 4.\n",
        "s = np.arange(0, 12, 4)\n",
        "# Display array 's'.\n",
        "s"
      ],
      "metadata": {
        "colab": {
          "base_uri": "https://localhost:8080/"
        },
        "id": "iOX-0qsFLX5O",
        "outputId": "2fda6bfc-f323-44d2-d946-08f88042bd2c"
      },
      "execution_count": 78,
      "outputs": [
        {
          "output_type": "execute_result",
          "data": {
            "text/plain": [
              "array([0, 4, 8])"
            ]
          },
          "metadata": {},
          "execution_count": 78
        }
      ]
    },
    {
      "cell_type": "code",
      "source": [
        "# Add array 's' to array 'r'. NumPy broadcasts 's' to match the shape of 'r' by repeating the 1D array across the rows of 'r'.\n",
        "r + s"
      ],
      "metadata": {
        "colab": {
          "base_uri": "https://localhost:8080/"
        },
        "id": "PmmRfnXkLq3-",
        "outputId": "c9e4c6df-7cf3-490a-d010-e6a0df2d2e02"
      },
      "execution_count": 79,
      "outputs": [
        {
          "output_type": "execute_result",
          "data": {
            "text/plain": [
              "array([[ 0,  5, 10],\n",
              "       [ 3,  8, 13],\n",
              "       [ 6, 11, 16],\n",
              "       [ 9, 14, 19]])"
            ]
          },
          "metadata": {},
          "execution_count": 79
        }
      ]
    },
    {
      "cell_type": "code",
      "source": [
        "# Create a 1D array 's' using arange with a step of 3.\n",
        "s = np.arange(0, 12, 3)\n",
        "# Display array 's'.\n",
        "s"
      ],
      "metadata": {
        "colab": {
          "base_uri": "https://localhost:8080/"
        },
        "id": "E_UaE4o3LvFu",
        "outputId": "266488c6-33de-4afb-bcb0-d72ae1a69297"
      },
      "execution_count": 80,
      "outputs": [
        {
          "output_type": "execute_result",
          "data": {
            "text/plain": [
              "array([0, 3, 6, 9])"
            ]
          },
          "metadata": {},
          "execution_count": 80
        }
      ]
    },
    {
      "cell_type": "code",
      "source": [
        "# This code causes an intentional error because the shapes of 'r' (4, 3) and 's' (4,) are not compatible for direct addition without reshaping/broadcasting rules being met.\n",
        "# r + s"
      ],
      "metadata": {
        "id": "W-XQW63TLyae"
      },
      "execution_count": 85,
      "outputs": []
    },
    {
      "cell_type": "code",
      "source": [
        "# Transpose array 'r' (shape becomes (3, 4)) and add array 's' (shape (4,)). NumPy broadcasts 's' to match the columns of the transposed 'r'.\n",
        "r.transpose() + s"
      ],
      "metadata": {
        "colab": {
          "base_uri": "https://localhost:8080/"
        },
        "id": "y591dVwsL5g2",
        "outputId": "736a3d67-a03b-4a4e-8a72-b933f7b34131"
      },
      "execution_count": 87,
      "outputs": [
        {
          "output_type": "execute_result",
          "data": {
            "text/plain": [
              "array([[ 0,  6, 12, 18],\n",
              "       [ 1,  7, 13, 19],\n",
              "       [ 2,  8, 14, 20]])"
            ]
          },
          "metadata": {},
          "execution_count": 87
        }
      ]
    },
    {
      "cell_type": "code",
      "source": [
        "# Reshape the 1D array 's' (shape (4,)) into a 2D array with a single column (shape (4, 1)).\n",
        "sr = s.reshape(-1, 1)\n",
        "# Display the reshaped array 'sr'.\n",
        "sr"
      ],
      "metadata": {
        "colab": {
          "base_uri": "https://localhost:8080/"
        },
        "id": "HZ9tJw6GL8dm",
        "outputId": "21aad756-2827-458a-b714-15d33fbdf521"
      },
      "execution_count": 88,
      "outputs": [
        {
          "output_type": "execute_result",
          "data": {
            "text/plain": [
              "array([[0],\n",
              "       [3],\n",
              "       [6],\n",
              "       [9]])"
            ]
          },
          "metadata": {},
          "execution_count": 88
        }
      ]
    },
    {
      "cell_type": "code",
      "source": [
        "# Display the shape of the reshaped array 'sr'.\n",
        "sr.shape"
      ],
      "metadata": {
        "colab": {
          "base_uri": "https://localhost:8080/"
        },
        "id": "-zf6Q5qTMC9D",
        "outputId": "9b34c679-4be3-4ed7-a459-07af783b0b2b"
      },
      "execution_count": 89,
      "outputs": [
        {
          "output_type": "execute_result",
          "data": {
            "text/plain": [
              "(4, 1)"
            ]
          },
          "metadata": {},
          "execution_count": 89
        }
      ]
    },
    {
      "cell_type": "code",
      "source": [
        "# Add array 'r' (shape (4, 3)) to the reshaped array 's' (shape (4, 1)). NumPy broadcasts the reshaped 's' across the columns of 'r'.\n",
        "r + s.reshape(-1, 1)"
      ],
      "metadata": {
        "colab": {
          "base_uri": "https://localhost:8080/"
        },
        "id": "8qo0dOq6MFYO",
        "outputId": "2d9fcf99-d17e-420a-f487-1eef956350c8"
      },
      "execution_count": 90,
      "outputs": [
        {
          "output_type": "execute_result",
          "data": {
            "text/plain": [
              "array([[ 0,  1,  2],\n",
              "       [ 6,  7,  8],\n",
              "       [12, 13, 14],\n",
              "       [18, 19, 20]])"
            ]
          },
          "metadata": {},
          "execution_count": 90
        }
      ]
    },
    {
      "cell_type": "code",
      "source": [
        "# Define a Python function 'f' that takes a single argument 'x' and returns 3 times 'x' plus 5.\n",
        "def f(x):\n",
        "  return 3 * x + 5"
      ],
      "metadata": {
        "id": "EAIWc30EMKI9"
      },
      "execution_count": 91,
      "outputs": []
    },
    {
      "cell_type": "code",
      "source": [
        "# Call the function 'f' with a scalar value (0.5) and display the result.\n",
        "f (0.5)"
      ],
      "metadata": {
        "colab": {
          "base_uri": "https://localhost:8080/"
        },
        "id": "O7biocZIMRT2",
        "outputId": "70cd6247-4c18-4e96-f274-bde9cb5203c5"
      },
      "execution_count": 92,
      "outputs": [
        {
          "output_type": "execute_result",
          "data": {
            "text/plain": [
              "6.5"
            ]
          },
          "metadata": {},
          "execution_count": 92
        }
      ]
    },
    {
      "cell_type": "code",
      "source": [
        "# Call the function 'f' with the NumPy array 'r'. Due to NumPy's vectorization, the function is applied element-wise to the array. Display the result.\n",
        "f(r)"
      ],
      "metadata": {
        "colab": {
          "base_uri": "https://localhost:8080/"
        },
        "id": "ovFFA6ewMTeO",
        "outputId": "8ca4fdf3-4144-413c-daa5-701d9acdc581"
      },
      "execution_count": 93,
      "outputs": [
        {
          "output_type": "execute_result",
          "data": {
            "text/plain": [
              "array([[ 5,  8, 11],\n",
              "       [14, 17, 20],\n",
              "       [23, 26, 29],\n",
              "       [32, 35, 38]])"
            ]
          },
          "metadata": {},
          "execution_count": 93
        }
      ]
    },
    {
      "cell_type": "markdown",
      "source": [
        "#**Memory Layout**"
      ],
      "metadata": {
        "id": "t-QBd5K9MXKa"
      }
    },
    {
      "cell_type": "code",
      "source": [
        "# Create a NumPy array 'x' of shape (1000000, 5) filled with random numbers from a standard normal distribution.\n",
        "x = np.random.standard_normal((1000000, 5))"
      ],
      "metadata": {
        "id": "d_LSl9ztMcGm"
      },
      "execution_count": 94,
      "outputs": []
    },
    {
      "cell_type": "code",
      "source": [
        "# Create a NumPy array 'y' by performing element-wise operations on array 'x' (multiply by 2 and add 3).\n",
        "y = 2 * x + 3"
      ],
      "metadata": {
        "id": "uZZVAhP5Megv"
      },
      "execution_count": 95,
      "outputs": []
    },
    {
      "cell_type": "code",
      "source": [
        "# Create a new NumPy array 'C' by stacking arrays 'x' and 'y' along a new axis (axis 0).\n",
        "# The resulting array 'C' has shape (2, 1000000, 5).\n",
        "# The 'order='C'' argument specifies C-style (row-major) memory layout.\n",
        "C = np.array((x, y), order='C')"
      ],
      "metadata": {
        "id": "jq2LI6BJMi7W"
      },
      "execution_count": 96,
      "outputs": []
    },
    {
      "cell_type": "code",
      "source": [
        "# Create a new NumPy array 'F' by stacking arrays 'x' and 'y' along a new axis (axis 0).\n",
        "# The resulting array 'F' has shape (2, 1000000, 5).\n",
        "# The 'order='F'' argument specifies Fortran-style (column-major) memory layout.\n",
        "F = np.array((x, y), order='F')"
      ],
      "metadata": {
        "id": "y0h5jjJgMm2l"
      },
      "execution_count": 97,
      "outputs": []
    },
    {
      "cell_type": "code",
      "source": [
        "# Assign the scalar value 0.0 to the variables 'x' and 'y'. This releases the memory previously held by the large arrays.\n",
        "x = 0.0; y = 0.0"
      ],
      "metadata": {
        "id": "yiB7rLTMMsGm"
      },
      "execution_count": 98,
      "outputs": []
    },
    {
      "cell_type": "code",
      "source": [
        "# Access the first two slices along the first axis of array 'C' and round the elements to 2 decimal places. Display the result.\n",
        "C[:2].round(2)"
      ],
      "metadata": {
        "colab": {
          "base_uri": "https://localhost:8080/"
        },
        "id": "RbaHuI5WMwGX",
        "outputId": "8e661818-01b1-4726-f83a-71145e5c5494"
      },
      "execution_count": 99,
      "outputs": [
        {
          "output_type": "execute_result",
          "data": {
            "text/plain": [
              "array([[[-1.75,  0.34,  1.15, -0.25,  0.98],\n",
              "        [ 0.51,  0.22, -1.07, -0.19,  0.26],\n",
              "        [-0.46,  0.44, -0.58,  0.82,  0.67],\n",
              "        ...,\n",
              "        [-0.05,  0.14,  0.17,  0.33,  1.39],\n",
              "        [ 1.02,  0.3 , -1.23, -0.68, -0.87],\n",
              "        [ 0.83, -0.73,  1.03,  0.34, -0.46]],\n",
              "\n",
              "       [[-0.5 ,  3.69,  5.31,  2.5 ,  4.96],\n",
              "        [ 4.03,  3.44,  0.86,  2.62,  3.51],\n",
              "        [ 2.08,  3.87,  1.83,  4.63,  4.35],\n",
              "        ...,\n",
              "        [ 2.9 ,  3.28,  3.33,  3.67,  5.78],\n",
              "        [ 5.04,  3.6 ,  0.54,  1.65,  1.26],\n",
              "        [ 4.67,  1.54,  5.06,  3.69,  2.07]]])"
            ]
          },
          "metadata": {},
          "execution_count": 99
        }
      ]
    },
    {
      "cell_type": "code",
      "source": [
        "# Measure the execution time of calculating the sum of all elements in the C-ordered array 'C'.\n",
        "%timeit C.sum()"
      ],
      "metadata": {
        "colab": {
          "base_uri": "https://localhost:8080/"
        },
        "id": "vCMEG5FCM1Ov",
        "outputId": "0a4bb2d8-0a12-4273-cc50-c77199312fa2"
      },
      "execution_count": 100,
      "outputs": [
        {
          "output_type": "stream",
          "name": "stdout",
          "text": [
            "7.88 ms ± 592 µs per loop (mean ± std. dev. of 7 runs, 100 loops each)\n"
          ]
        }
      ]
    },
    {
      "cell_type": "code",
      "source": [
        "# Measure the execution time of calculating the sum of all elements in the Fortran-ordered array 'F'.\n",
        "%timeit F.sum()"
      ],
      "metadata": {
        "colab": {
          "base_uri": "https://localhost:8080/"
        },
        "id": "LvKP6bHvM1LY",
        "outputId": "41718ae2-9db8-4de7-a871-fa68610a04ae"
      },
      "execution_count": 101,
      "outputs": [
        {
          "output_type": "stream",
          "name": "stdout",
          "text": [
            "7.3 ms ± 62.9 µs per loop (mean ± std. dev. of 7 runs, 100 loops each)\n"
          ]
        }
      ]
    },
    {
      "cell_type": "code",
      "source": [
        "# Measure the execution time of calculating the sum of elements along axis 0 (columns) in the C-ordered array 'C'.\n",
        "%timeit C.sum(axis=0)"
      ],
      "metadata": {
        "colab": {
          "base_uri": "https://localhost:8080/"
        },
        "id": "opyMjYYWM1Gx",
        "outputId": "9facba4c-2217-43df-d760-c5bdb65f9a1c"
      },
      "execution_count": 102,
      "outputs": [
        {
          "output_type": "stream",
          "name": "stdout",
          "text": [
            "24.6 ms ± 459 µs per loop (mean ± std. dev. of 7 runs, 10 loops each)\n"
          ]
        }
      ]
    },
    {
      "cell_type": "code",
      "source": [
        "# Measure the execution time of calculating the sum of elements along axis 1 (rows) in the C-ordered array 'C'.\n",
        "%timeit C.sum(axis=1)"
      ],
      "metadata": {
        "colab": {
          "base_uri": "https://localhost:8080/"
        },
        "id": "bUry62YzM1DQ",
        "outputId": "be628188-1d85-47d8-f846-508fd52b33cf"
      },
      "execution_count": 103,
      "outputs": [
        {
          "output_type": "stream",
          "name": "stdout",
          "text": [
            "50.6 ms ± 6.62 ms per loop (mean ± std. dev. of 7 runs, 10 loops each)\n"
          ]
        }
      ]
    },
    {
      "cell_type": "code",
      "source": [
        "# Measure the execution time of calculating the sum of elements along axis 0 (columns) in the Fortran-ordered array 'F'.\n",
        "%timeit F.sum(axis=0)"
      ],
      "metadata": {
        "colab": {
          "base_uri": "https://localhost:8080/"
        },
        "id": "CXcb5Fc9M0__",
        "outputId": "bc4c6672-b0ff-4a17-875d-06bf818e6339"
      },
      "execution_count": 104,
      "outputs": [
        {
          "output_type": "stream",
          "name": "stdout",
          "text": [
            "106 ms ± 202 µs per loop (mean ± std. dev. of 7 runs, 10 loops each)\n"
          ]
        }
      ]
    },
    {
      "cell_type": "code",
      "source": [
        "# Measure the execution time of calculating the sum of elements along axis 1 (rows) in the Fortran-ordered array 'F'.\n",
        "%timeit F.sum(axis=1)"
      ],
      "metadata": {
        "colab": {
          "base_uri": "https://localhost:8080/"
        },
        "id": "whQL5qy5NGSP",
        "outputId": "187192f4-f401-413c-8c7f-c433d95ba63c"
      },
      "execution_count": 105,
      "outputs": [
        {
          "output_type": "stream",
          "name": "stdout",
          "text": [
            "96.2 ms ± 12.2 ms per loop (mean ± std. dev. of 7 runs, 10 loops each)\n"
          ]
        }
      ]
    },
    {
      "cell_type": "code",
      "source": [
        "# Assign the scalar value 0.0 to the variables 'F' and 'C'. This releases the memory previously held by the large arrays.\n",
        "F = 0.0; C = 0.0"
      ],
      "metadata": {
        "id": "v5sL_4S5NJa-"
      },
      "execution_count": 106,
      "outputs": []
    }
  ]
}