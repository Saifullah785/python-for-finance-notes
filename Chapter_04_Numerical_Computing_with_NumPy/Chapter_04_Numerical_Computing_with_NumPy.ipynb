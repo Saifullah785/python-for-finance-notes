{
  "nbformat": 4,
  "nbformat_minor": 0,
  "metadata": {
    "colab": {
      "provenance": [],
      "authorship_tag": "ABX9TyM/2vGBxlRR4sTGEOsqVaOu",
      "include_colab_link": true
    },
    "kernelspec": {
      "name": "python3",
      "display_name": "Python 3"
    },
    "language_info": {
      "name": "python"
    }
  },
  "cells": [
    {
      "cell_type": "markdown",
      "metadata": {
        "id": "view-in-github",
        "colab_type": "text"
      },
      "source": [
        "<a href=\"https://colab.research.google.com/github/Saifullah785/python-for-finance-notes/blob/main/Chapter_04_Numerical_Computing_with_NumPy/Chapter_04_Numerical_Computing_with_NumPy.ipynb\" target=\"_parent\"><img src=\"https://colab.research.google.com/assets/colab-badge.svg\" alt=\"Open In Colab\"/></a>"
      ]
    },
    {
      "cell_type": "markdown",
      "source": [
        "# **Numerical Computing with NumPy**"
      ],
      "metadata": {
        "id": "M_Uiz8AQMThZ"
      }
    },
    {
      "cell_type": "markdown",
      "source": [
        "**Arrays with Python Lists**"
      ],
      "metadata": {
        "id": "Lw1vwbs5MvqW"
      }
    },
    {
      "cell_type": "code",
      "execution_count": null,
      "metadata": {
        "colab": {
          "base_uri": "https://localhost:8080/"
        },
        "id": "-0ybGpEZL_JG",
        "outputId": "a363062a-0ff3-4f09-b384-c65282ffb7fb"
      },
      "outputs": [
        {
          "output_type": "execute_result",
          "data": {
            "text/plain": [
              "[0.5, 0.75, 1.0, 1.5, 2.0]"
            ]
          },
          "metadata": {},
          "execution_count": 2
        }
      ],
      "source": [
        "# Define a Python list 'v' with some numerical values.\n",
        "v = [0.5, 0.75, 1.0, 1.5, 2.0]\n",
        "# Display the list 'v'.\n",
        "v"
      ]
    },
    {
      "cell_type": "code",
      "source": [
        "# Create a list 'm' containing three copies of the list 'v'.\n",
        "m = [v, v, v]\n",
        "# Display the list of lists 'm'.\n",
        "m"
      ],
      "metadata": {
        "colab": {
          "base_uri": "https://localhost:8080/"
        },
        "id": "Yjs9IId5M5Uj",
        "outputId": "70883258-29ef-4ae5-ff8a-cba34de1c3cf"
      },
      "execution_count": null,
      "outputs": [
        {
          "output_type": "execute_result",
          "data": {
            "text/plain": [
              "[[0.5, 0.75, 1.0, 1.5, 2.0],\n",
              " [0.5, 0.75, 1.0, 1.5, 2.0],\n",
              " [0.5, 0.75, 1.0, 1.5, 2.0]]"
            ]
          },
          "metadata": {},
          "execution_count": 3
        }
      ]
    },
    {
      "cell_type": "code",
      "source": [
        "# Access and display the second element (at index 1) of the list of lists 'm'.\n",
        "m[1]"
      ],
      "metadata": {
        "colab": {
          "base_uri": "https://localhost:8080/"
        },
        "id": "qko2uC1kM6Yu",
        "outputId": "dc491a74-b478-4c57-e0f1-d1894ba96865"
      },
      "execution_count": null,
      "outputs": [
        {
          "output_type": "execute_result",
          "data": {
            "text/plain": [
              "[0.5, 0.75, 1.0, 1.5, 2.0]"
            ]
          },
          "metadata": {},
          "execution_count": 4
        }
      ]
    },
    {
      "cell_type": "code",
      "source": [
        "# Access and display the first element (at index 0) of the second list (at index 1) within 'm'.\n",
        "m[1][0]"
      ],
      "metadata": {
        "colab": {
          "base_uri": "https://localhost:8080/"
        },
        "id": "3ihiGzceM6VW",
        "outputId": "6c593b25-74cb-42d8-ef2b-d7c3dba57c56"
      },
      "execution_count": null,
      "outputs": [
        {
          "output_type": "execute_result",
          "data": {
            "text/plain": [
              "0.5"
            ]
          },
          "metadata": {},
          "execution_count": 5
        }
      ]
    },
    {
      "cell_type": "code",
      "source": [
        "# Define two Python lists 'v1' and 'v2'.\n",
        "v1 = [0.5, 1.5]\n",
        "# Display 'v1'.\n",
        "v1\n",
        "\n",
        "v2 = [1, 2]\n",
        "# Display 'v2'.\n",
        "v2\n",
        "\n",
        "# Create a list of lists 'm' containing 'v1' and 'v2'.\n",
        "m = [v1, v2]\n",
        "# Display 'm'.\n",
        "m\n",
        "\n",
        "# Create a list of lists of lists 'c' containing two copies of 'm'.\n",
        "c = [m, m]\n",
        "# Display 'c'.\n",
        "c"
      ],
      "metadata": {
        "colab": {
          "base_uri": "https://localhost:8080/"
        },
        "id": "KJdt3uRKM6Su",
        "outputId": "c6e1b21c-0fa7-4879-ede9-1ce9170ef91e"
      },
      "execution_count": null,
      "outputs": [
        {
          "output_type": "execute_result",
          "data": {
            "text/plain": [
              "[[[0.5, 1.5], [1, 2]], [[0.5, 1.5], [1, 2]]]"
            ]
          },
          "metadata": {},
          "execution_count": 11
        }
      ]
    },
    {
      "cell_type": "code",
      "source": [
        "# Access and display the first element (at index 0) of the second list (at index 1) within the second list (at index 1) of 'c'.\n",
        "c[1][1][0]"
      ],
      "metadata": {
        "colab": {
          "base_uri": "https://localhost:8080/"
        },
        "id": "sVIw2lC5M6Mg",
        "outputId": "8818db44-9c6c-4b5a-eca9-5f4d733080e6"
      },
      "execution_count": null,
      "outputs": [
        {
          "output_type": "execute_result",
          "data": {
            "text/plain": [
              "1"
            ]
          },
          "metadata": {},
          "execution_count": 12
        }
      ]
    },
    {
      "cell_type": "code",
      "source": [
        "# Redefine the list 'v'.\n",
        "v = [0.5, 0.75, 1.0, 1.5, 2.0]\n",
        "# Redefine the list of lists 'm' with three copies of 'v'.\n",
        "m = [v, v, v]\n",
        "# Display 'm'.\n",
        "m"
      ],
      "metadata": {
        "colab": {
          "base_uri": "https://localhost:8080/"
        },
        "id": "zaDMmup8M6H6",
        "outputId": "32be0b3e-55e3-474b-8fce-24dbfcfa735c"
      },
      "execution_count": null,
      "outputs": [
        {
          "output_type": "execute_result",
          "data": {
            "text/plain": [
              "[[0.5, 0.75, 1.0, 1.5, 2.0],\n",
              " [0.5, 0.75, 1.0, 1.5, 2.0],\n",
              " [0.5, 0.75, 1.0, 1.5, 2.0]]"
            ]
          },
          "metadata": {},
          "execution_count": 13
        }
      ]
    },
    {
      "cell_type": "code",
      "source": [
        "# Modify the first element of the list 'v' to the string 'Python'.\n",
        "v [0] = 'Python'\n",
        "# Display 'm'. Note that because 'm' contains references to 'v', the change in 'v' is reflected in 'm'.\n",
        "m"
      ],
      "metadata": {
        "colab": {
          "base_uri": "https://localhost:8080/"
        },
        "id": "qCwPIwkoM6Fi",
        "outputId": "a230962e-2b8d-4e56-a38d-b0f587b39814"
      },
      "execution_count": null,
      "outputs": [
        {
          "output_type": "execute_result",
          "data": {
            "text/plain": [
              "[['Python', 0.75, 1.0, 1.5, 2.0],\n",
              " ['Python', 0.75, 1.0, 1.5, 2.0],\n",
              " ['Python', 0.75, 1.0, 1.5, 2.0]]"
            ]
          },
          "metadata": {},
          "execution_count": 14
        }
      ]
    },
    {
      "cell_type": "code",
      "source": [
        "# Import the deepcopy function from the copy module.\n",
        "from copy import deepcopy\n",
        "# Redefine the list 'v'.\n",
        "v = [0.5, 0.75, 1.0, 1.5, 2.0]\n",
        "# Create a list of lists 'm' with three independent copies of 'v' using deepcopy.\n",
        "m = 3 * [deepcopy (v), ]\n",
        "# Display 'm'.\n",
        "m"
      ],
      "metadata": {
        "colab": {
          "base_uri": "https://localhost:8080/"
        },
        "id": "eSCArLWSM6C1",
        "outputId": "d888d462-089d-4742-b3bc-37b1bda4e60a"
      },
      "execution_count": null,
      "outputs": [
        {
          "output_type": "execute_result",
          "data": {
            "text/plain": [
              "[[0.5, 0.75, 1.0, 1.5, 2.0],\n",
              " [0.5, 0.75, 1.0, 1.5, 2.0],\n",
              " [0.5, 0.75, 1.0, 1.5, 2.0]]"
            ]
          },
          "metadata": {},
          "execution_count": 15
        }
      ]
    },
    {
      "cell_type": "code",
      "source": [
        "# Modify the first element of the list 'v' to the string 'Python'.\n",
        "v[0] = 'Python'\n",
        "# Display 'm'. Note that because deepcopy was used, the change in 'v' does not affect the lists within 'm'.\n",
        "m"
      ],
      "metadata": {
        "colab": {
          "base_uri": "https://localhost:8080/"
        },
        "id": "CZk4DnriM6AQ",
        "outputId": "f12a0805-ae6a-4872-f969-14676ca6ae6c"
      },
      "execution_count": null,
      "outputs": [
        {
          "output_type": "execute_result",
          "data": {
            "text/plain": [
              "[[0.5, 0.75, 1.0, 1.5, 2.0],\n",
              " [0.5, 0.75, 1.0, 1.5, 2.0],\n",
              " [0.5, 0.75, 1.0, 1.5, 2.0]]"
            ]
          },
          "metadata": {},
          "execution_count": 16
        }
      ]
    },
    {
      "cell_type": "markdown",
      "source": [
        "# **Interlude: Python Array Class**"
      ],
      "metadata": {
        "id": "r5Exe4kXO9UR"
      }
    },
    {
      "cell_type": "code",
      "source": [
        "# Define a Python list 'v' with some numerical values.\n",
        "v = [0.5, 0.75, 1.0, 1.5, 2.0]"
      ],
      "metadata": {
        "id": "FFyM0OGsM58K"
      },
      "execution_count": null,
      "outputs": []
    },
    {
      "cell_type": "code",
      "source": [
        "# Import the array module.\n",
        "import array"
      ],
      "metadata": {
        "id": "i1K8as_LM55J"
      },
      "execution_count": null,
      "outputs": []
    },
    {
      "cell_type": "code",
      "source": [
        "# Create an array 'a' of type 'f' (float) from the list 'v'.\n",
        "a = array.array('f', v)\n",
        "# Display the array 'a'.\n",
        "a"
      ],
      "metadata": {
        "colab": {
          "base_uri": "https://localhost:8080/"
        },
        "id": "HXJ2PqG4M52j",
        "outputId": "abc620db-8b45-4936-9a42-2d11366bf640"
      },
      "execution_count": null,
      "outputs": [
        {
          "output_type": "execute_result",
          "data": {
            "text/plain": [
              "array('f', [0.5, 0.75, 1.0, 1.5, 2.0])"
            ]
          },
          "metadata": {},
          "execution_count": 26
        }
      ]
    },
    {
      "cell_type": "code",
      "source": [
        "# Append a value (0.5) to the array 'a'.\n",
        "a.append(0.5)\n",
        "# Display the modified array 'a'.\n",
        "a"
      ],
      "metadata": {
        "colab": {
          "base_uri": "https://localhost:8080/"
        },
        "id": "qcf0u9K3PWCM",
        "outputId": "c81d7360-93a3-4607-9b4f-74541ab2b632"
      },
      "execution_count": null,
      "outputs": [
        {
          "output_type": "execute_result",
          "data": {
            "text/plain": [
              "array('f', [0.5, 0.75, 1.0, 1.5, 2.0, 0.5])"
            ]
          },
          "metadata": {},
          "execution_count": 27
        }
      ]
    },
    {
      "cell_type": "code",
      "source": [
        "# Extend the array 'a' with elements from a list ([5.0, 6.75]).\n",
        "a.extend([5.0, 6.75])\n",
        "# Display the modified array 'a'.\n",
        "a"
      ],
      "metadata": {
        "colab": {
          "base_uri": "https://localhost:8080/"
        },
        "id": "LAgl0JppM50B",
        "outputId": "d1a57f0f-4eeb-4bf3-9c67-899d9e029de0"
      },
      "execution_count": null,
      "outputs": [
        {
          "output_type": "execute_result",
          "data": {
            "text/plain": [
              "array('f', [0.5, 0.75, 1.0, 1.5, 2.0, 0.5, 5.0, 6.75])"
            ]
          },
          "metadata": {},
          "execution_count": 28
        }
      ]
    },
    {
      "cell_type": "code",
      "source": [
        "# Attempt to multiply the array 'a' by 2. For array.array, this concatenates the array with itself.\n",
        "2 * a"
      ],
      "metadata": {
        "colab": {
          "base_uri": "https://localhost:8080/"
        },
        "id": "Es-4hkOVM5w7",
        "outputId": "5b26bc93-2520-4e1c-b9e1-a4ade3756f5f"
      },
      "execution_count": null,
      "outputs": [
        {
          "output_type": "execute_result",
          "data": {
            "text/plain": [
              "array('f', [0.5, 0.75, 1.0, 1.5, 2.0, 0.5, 5.0, 6.75, 0.5, 0.75, 1.0, 1.5, 2.0, 0.5, 5.0, 6.75])"
            ]
          },
          "metadata": {},
          "execution_count": 29
        }
      ]
    },
    {
      "cell_type": "code",
      "source": [
        "# Convert the array 'a' back to a Python list.\n",
        "a.tolist()"
      ],
      "metadata": {
        "colab": {
          "base_uri": "https://localhost:8080/"
        },
        "id": "BBCxgUGXM5uh",
        "outputId": "0f580290-63cf-4b47-fe0a-33d0de747021"
      },
      "execution_count": null,
      "outputs": [
        {
          "output_type": "execute_result",
          "data": {
            "text/plain": [
              "[0.5, 0.75, 1.0, 1.5, 2.0, 0.5, 5.0, 6.75]"
            ]
          },
          "metadata": {},
          "execution_count": 30
        }
      ]
    },
    {
      "cell_type": "code",
      "source": [
        "# Open a file named 'array.apy' in binary write mode ('wb').\n",
        "f = open('array.apy', 'wb')\n",
        "# Write the contents of array 'a' to the file.\n",
        "a.tofile(f)\n",
        "# Close the file.\n",
        "f.close()"
      ],
      "metadata": {
        "id": "qy9nutwRM5sP"
      },
      "execution_count": null,
      "outputs": []
    },
    {
      "cell_type": "code",
      "source": [
        "# Open a file named 'array.apy' in binary write mode ('wb') using a 'with' statement, which ensures the file is closed automatically.\n",
        "with open ('array.apy', 'wb') as f:\n",
        "  # Write the contents of array 'a' to the file.\n",
        "  a.tofile(f)"
      ],
      "metadata": {
        "id": "vRQm1PIFM5pw"
      },
      "execution_count": null,
      "outputs": []
    },
    {
      "cell_type": "code",
      "source": [
        "# Execute a shell command to list files starting with 'arr' in the current directory, showing file permissions, number of links, owner, group, size, and modification time.\n",
        "!ls -n arr*"
      ],
      "metadata": {
        "colab": {
          "base_uri": "https://localhost:8080/"
        },
        "id": "Y3_WZLkXQJde",
        "outputId": "3eac26d3-2172-46b1-b14a-4086039f8ce9"
      },
      "execution_count": null,
      "outputs": [
        {
          "output_type": "stream",
          "name": "stdout",
          "text": [
            "-rw-r--r-- 1 0 0 32 Jul 11 16:55 array.apy\n"
          ]
        }
      ]
    },
    {
      "cell_type": "code",
      "source": [
        "# Create an empty array 'b' of type 'f' (float).\n",
        "b = array.array('f')\n",
        "# Display the empty array 'b'.\n",
        "b"
      ],
      "metadata": {
        "colab": {
          "base_uri": "https://localhost:8080/"
        },
        "id": "rF318C66QMtl",
        "outputId": "0bca652d-ef9b-4844-be27-69a6b7b0423f"
      },
      "execution_count": null,
      "outputs": [
        {
          "output_type": "execute_result",
          "data": {
            "text/plain": [
              "array('f')"
            ]
          },
          "metadata": {},
          "execution_count": 45
        }
      ]
    },
    {
      "cell_type": "code",
      "source": [
        "# Open the file 'array.apy' in binary read mode ('rb').\n",
        "with open('array.apy', 'rb') as f:\n",
        "  # Read 2 elements of type 'f' (float) from the file into array 'b'.\n",
        "  b.fromfile(f, 2)"
      ],
      "metadata": {
        "id": "icR03WeYQQyc"
      },
      "execution_count": null,
      "outputs": []
    },
    {
      "cell_type": "code",
      "source": [
        "# Display the array 'b' after reading data from the file.\n",
        "b"
      ],
      "metadata": {
        "colab": {
          "base_uri": "https://localhost:8080/"
        },
        "id": "yrxxTVwQQdBm",
        "outputId": "6045722a-57a3-47a4-8ec5-d928fe0c6dbb"
      },
      "execution_count": null,
      "outputs": [
        {
          "output_type": "execute_result",
          "data": {
            "text/plain": [
              "array('f', [0.5, 0.75])"
            ]
          },
          "metadata": {},
          "execution_count": 47
        }
      ]
    },
    {
      "cell_type": "code",
      "source": [
        "# Create an empty array 'b' of type 'd' (double).\n",
        "b = array.array('d')\n",
        "# Display the empty array 'b'.\n",
        "b"
      ],
      "metadata": {
        "colab": {
          "base_uri": "https://localhost:8080/"
        },
        "id": "gElAByJyQd_F",
        "outputId": "b3507f6b-da0d-4dfc-e1e7-1c07cdd27650"
      },
      "execution_count": null,
      "outputs": [
        {
          "output_type": "execute_result",
          "data": {
            "text/plain": [
              "array('d')"
            ]
          },
          "metadata": {},
          "execution_count": 48
        }
      ]
    },
    {
      "cell_type": "code",
      "source": [
        "# Open the file 'array.apy' in binary read mode ('rb').\n",
        "with open('array.apy', 'rb') as f:\n",
        "    # Read 2 elements of type 'd' (double) from the file into array 'b'. Note that reading floats as doubles can lead to unexpected values due to different byte sizes.\n",
        "    b.fromfile(f, 2)"
      ],
      "metadata": {
        "id": "1YT7735iQkRE"
      },
      "execution_count": null,
      "outputs": []
    },
    {
      "cell_type": "code",
      "source": [
        "# Display the array 'b' after attempting to read float data as doubles from the file.\n",
        "b"
      ],
      "metadata": {
        "colab": {
          "base_uri": "https://localhost:8080/"
        },
        "id": "IbMhthejQoBw",
        "outputId": "ca25deb7-0a39-4fd2-a9c5-a9ed164c5599"
      },
      "execution_count": null,
      "outputs": [
        {
          "output_type": "execute_result",
          "data": {
            "text/plain": [
              "array('d', [0.0004882813645963324, 0.12500002956949174])"
            ]
          },
          "metadata": {},
          "execution_count": 50
        }
      ]
    },
    {
      "cell_type": "markdown",
      "source": [
        "# **Regular NumPy Arrays**\n",
        "\n",
        "The Basics\n",
        "\n",
        "\n",
        "\n"
      ],
      "metadata": {
        "id": "MUzdd-B1SgW7"
      }
    },
    {
      "cell_type": "code",
      "source": [
        "# Import the NumPy library, commonly aliased as np.\n",
        "import numpy as np"
      ],
      "metadata": {
        "id": "ayWaQjm0ShZv"
      },
      "execution_count": 3,
      "outputs": []
    },
    {
      "cell_type": "code",
      "source": [
        "# Create a NumPy array named 'a' with specified numerical values.\n",
        "a = np.array([0, 0.5, 1.0, 1.5, 2.0])\n",
        "# Display the array 'a'.\n",
        "a"
      ],
      "metadata": {
        "colab": {
          "base_uri": "https://localhost:8080/"
        },
        "id": "6361JYI7Sqng",
        "outputId": "8b4c5f4d-58dd-4f00-f3a7-235fc1d82ac4"
      },
      "execution_count": 4,
      "outputs": [
        {
          "output_type": "execute_result",
          "data": {
            "text/plain": [
              "array([0. , 0.5, 1. , 1.5, 2. ])"
            ]
          },
          "metadata": {},
          "execution_count": 4
        }
      ]
    },
    {
      "cell_type": "code",
      "source": [
        "# Check and display the data type of the object 'a'.\n",
        "type(a)"
      ],
      "metadata": {
        "colab": {
          "base_uri": "https://localhost:8080/"
        },
        "id": "iWkVqMtySqkv",
        "outputId": "662ebfd9-8c26-4dfe-d87f-ee39c896f3d1"
      },
      "execution_count": 5,
      "outputs": [
        {
          "output_type": "execute_result",
          "data": {
            "text/plain": [
              "numpy.ndarray"
            ]
          },
          "metadata": {},
          "execution_count": 5
        }
      ]
    },
    {
      "cell_type": "code",
      "source": [
        "# Create a NumPy array named 'a' with string elements.\n",
        "a = np.array(['a', 'b', 'c'])\n",
        "# Display the array 'a'.\n",
        "a"
      ],
      "metadata": {
        "colab": {
          "base_uri": "https://localhost:8080/"
        },
        "id": "L5dvtPSlSpp_",
        "outputId": "b53ece8e-4a25-4ecd-ad23-f622f5917b9a"
      },
      "execution_count": 6,
      "outputs": [
        {
          "output_type": "execute_result",
          "data": {
            "text/plain": [
              "array(['a', 'b', 'c'], dtype='<U1')"
            ]
          },
          "metadata": {},
          "execution_count": 6
        }
      ]
    },
    {
      "cell_type": "code",
      "source": [
        "# Create a NumPy array named 'a' using arange, generating values from 2 up to (but not including) 20 with a step of 2.\n",
        "a = np.arange(2, 20, 2)\n",
        "# Display the array 'a'.\n",
        "a"
      ],
      "metadata": {
        "colab": {
          "base_uri": "https://localhost:8080/"
        },
        "id": "pT_kCIdOSpnd",
        "outputId": "3526c5b0-a512-48c3-aa1b-dff38dc182ef"
      },
      "execution_count": 7,
      "outputs": [
        {
          "output_type": "execute_result",
          "data": {
            "text/plain": [
              "array([ 2,  4,  6,  8, 10, 12, 14, 16, 18])"
            ]
          },
          "metadata": {},
          "execution_count": 7
        }
      ]
    },
    {
      "cell_type": "code",
      "source": [
        "# Create a NumPy array named 'a' using arange, generating 8 values starting from 0, with a specified data type of float32.\n",
        "a = np.arange(8, dtype=np.float32)\n",
        "# Display the array 'a'.\n",
        "a"
      ],
      "metadata": {
        "colab": {
          "base_uri": "https://localhost:8080/"
        },
        "id": "4Jcl8d8ESpkt",
        "outputId": "d4adf665-0ca6-4848-fa9d-2b8ac136a1ee"
      },
      "execution_count": 8,
      "outputs": [
        {
          "output_type": "execute_result",
          "data": {
            "text/plain": [
              "array([0., 1., 2., 3., 4., 5., 6., 7.], dtype=float32)"
            ]
          },
          "metadata": {},
          "execution_count": 8
        }
      ]
    },
    {
      "cell_type": "code",
      "source": [
        "# Access and display elements of array 'a' from index 5 to the end (slicing).\n",
        "a[5:]"
      ],
      "metadata": {
        "colab": {
          "base_uri": "https://localhost:8080/"
        },
        "id": "87N5bysaSpiB",
        "outputId": "bedaf41d-d313-452e-8bd8-cc22df38e191"
      },
      "execution_count": 9,
      "outputs": [
        {
          "output_type": "execute_result",
          "data": {
            "text/plain": [
              "array([5., 6., 7.], dtype=float32)"
            ]
          },
          "metadata": {},
          "execution_count": 9
        }
      ]
    },
    {
      "cell_type": "code",
      "source": [
        "# Access and display elements of array 'a' from the beginning up to (but not including) index 2 (slicing).\n",
        "a[:2]"
      ],
      "metadata": {
        "colab": {
          "base_uri": "https://localhost:8080/"
        },
        "id": "bnkcZH1iSzZL",
        "outputId": "f60d3f4f-248b-4b09-e762-b85dc5d8b2de"
      },
      "execution_count": 10,
      "outputs": [
        {
          "output_type": "execute_result",
          "data": {
            "text/plain": [
              "array([0., 1.], dtype=float32)"
            ]
          },
          "metadata": {},
          "execution_count": 10
        }
      ]
    },
    {
      "cell_type": "code",
      "source": [
        "# Display the sum method of the array 'a'. Note: This shows the method object, not the result of the sum.\n",
        "a.sum"
      ],
      "metadata": {
        "colab": {
          "base_uri": "https://localhost:8080/"
        },
        "id": "lxyr-6BASzVz",
        "outputId": "f33df3b4-7509-47ba-d525-52de42bef7db"
      },
      "execution_count": 11,
      "outputs": [
        {
          "output_type": "execute_result",
          "data": {
            "text/plain": [
              "<function ndarray.sum>"
            ]
          },
          "metadata": {},
          "execution_count": 11
        }
      ]
    },
    {
      "cell_type": "code",
      "source": [
        "# Calculate and display the standard deviation of the array 'a'.\n",
        "a.std()"
      ],
      "metadata": {
        "colab": {
          "base_uri": "https://localhost:8080/"
        },
        "id": "8-CnppAiSzJF",
        "outputId": "d8cdac59-26c4-49cd-fe0a-8fc531c29441"
      },
      "execution_count": 12,
      "outputs": [
        {
          "output_type": "execute_result",
          "data": {
            "text/plain": [
              "np.float32(2.291288)"
            ]
          },
          "metadata": {},
          "execution_count": 12
        }
      ]
    },
    {
      "cell_type": "code",
      "source": [
        "# Calculate and display the cumulative sum of the elements in array 'a'.\n",
        "a.cumsum()"
      ],
      "metadata": {
        "colab": {
          "base_uri": "https://localhost:8080/"
        },
        "id": "vycmP68SSzGJ",
        "outputId": "9a757008-a809-4663-d032-32cdc5c5c84f"
      },
      "execution_count": 13,
      "outputs": [
        {
          "output_type": "execute_result",
          "data": {
            "text/plain": [
              "array([ 0.,  1.,  3.,  6., 10., 15., 21., 28.], dtype=float32)"
            ]
          },
          "metadata": {},
          "execution_count": 13
        }
      ]
    },
    {
      "cell_type": "code",
      "source": [
        "# Define a Python list 'l'.\n",
        "l = [0., 0.5, 1.5, 3., 5.]\n",
        "# Multiply the list 'l' by 2. For lists, this results in concatenation.\n",
        "2 *l"
      ],
      "metadata": {
        "colab": {
          "base_uri": "https://localhost:8080/"
        },
        "id": "kqIEtPPlSzDX",
        "outputId": "2ab82967-cbf5-4140-8c44-b8bc724715a2"
      },
      "execution_count": 14,
      "outputs": [
        {
          "output_type": "execute_result",
          "data": {
            "text/plain": [
              "[0.0, 0.5, 1.5, 3.0, 5.0, 0.0, 0.5, 1.5, 3.0, 5.0]"
            ]
          },
          "metadata": {},
          "execution_count": 14
        }
      ]
    },
    {
      "cell_type": "code",
      "source": [
        "# Display the current state of array 'a'.\n",
        "a"
      ],
      "metadata": {
        "colab": {
          "base_uri": "https://localhost:8080/"
        },
        "id": "KHDe8tu_TUD4",
        "outputId": "3850c33e-f8d6-44b6-c1d9-9930d896d3ee"
      },
      "execution_count": 15,
      "outputs": [
        {
          "output_type": "execute_result",
          "data": {
            "text/plain": [
              "array([0., 1., 2., 3., 4., 5., 6., 7.], dtype=float32)"
            ]
          },
          "metadata": {},
          "execution_count": 15
        }
      ]
    },
    {
      "cell_type": "code",
      "source": [
        "# Multiply each element of the NumPy array 'a' by 2 (element-wise multiplication).\n",
        "2 * a"
      ],
      "metadata": {
        "colab": {
          "base_uri": "https://localhost:8080/"
        },
        "id": "P1ota9iOTW8H",
        "outputId": "75a03e43-e7fc-4b09-e1e2-039fd6ec69f9"
      },
      "execution_count": 16,
      "outputs": [
        {
          "output_type": "execute_result",
          "data": {
            "text/plain": [
              "array([ 0.,  2.,  4.,  6.,  8., 10., 12., 14.], dtype=float32)"
            ]
          },
          "metadata": {},
          "execution_count": 16
        }
      ]
    },
    {
      "cell_type": "code",
      "source": [
        "# Raise each element of the NumPy array 'a' to the power of 2 (element-wise exponentiation).\n",
        "a ** 2"
      ],
      "metadata": {
        "colab": {
          "base_uri": "https://localhost:8080/"
        },
        "id": "p_dZ0_vxTW5X",
        "outputId": "737adb41-1960-4f2e-f5c3-faafbf31b333"
      },
      "execution_count": 17,
      "outputs": [
        {
          "output_type": "execute_result",
          "data": {
            "text/plain": [
              "array([ 0.,  1.,  4.,  9., 16., 25., 36., 49.], dtype=float32)"
            ]
          },
          "metadata": {},
          "execution_count": 17
        }
      ]
    },
    {
      "cell_type": "code",
      "source": [
        "# Calculate 2 raised to the power of each element in array 'a' (element-wise exponentiation).\n",
        "2 ** a"
      ],
      "metadata": {
        "colab": {
          "base_uri": "https://localhost:8080/"
        },
        "id": "Q6wOU-xJTa53",
        "outputId": "307e705f-e34c-4d4e-f73a-621276464bc4"
      },
      "execution_count": 18,
      "outputs": [
        {
          "output_type": "execute_result",
          "data": {
            "text/plain": [
              "array([  1.,   2.,   4.,   8.,  16.,  32.,  64., 128.], dtype=float32)"
            ]
          },
          "metadata": {},
          "execution_count": 18
        }
      ]
    },
    {
      "cell_type": "code",
      "source": [
        "# Raise each element of array 'a' to the power of itself (element-wise exponentiation).\n",
        "a ** a"
      ],
      "metadata": {
        "colab": {
          "base_uri": "https://localhost:8080/"
        },
        "id": "kCASmaYGTcaH",
        "outputId": "e53835cd-61bd-4186-f2f2-9978bcc74ad7"
      },
      "execution_count": 19,
      "outputs": [
        {
          "output_type": "execute_result",
          "data": {
            "text/plain": [
              "array([1.00000e+00, 1.00000e+00, 4.00000e+00, 2.70000e+01, 2.56000e+02,\n",
              "       3.12500e+03, 4.66560e+04, 8.23543e+05], dtype=float32)"
            ]
          },
          "metadata": {},
          "execution_count": 19
        }
      ]
    },
    {
      "cell_type": "code",
      "source": [
        "# Calculate the exponential of each element in array 'a' (e raised to the power of each element).\n",
        "np.exp(a)"
      ],
      "metadata": {
        "colab": {
          "base_uri": "https://localhost:8080/"
        },
        "id": "OWhZ_DDXTfiJ",
        "outputId": "4e74ee15-fec9-4a9a-a4eb-19c486875786"
      },
      "execution_count": 20,
      "outputs": [
        {
          "output_type": "execute_result",
          "data": {
            "text/plain": [
              "array([1.0000000e+00, 2.7182820e+00, 7.3890557e+00, 2.0085537e+01,\n",
              "       5.4598148e+01, 1.4841316e+02, 4.0342877e+02, 1.0966332e+03],\n",
              "      dtype=float32)"
            ]
          },
          "metadata": {},
          "execution_count": 20
        }
      ]
    },
    {
      "cell_type": "code",
      "source": [
        "# Calculate the square root of each element in array 'a'.\n",
        "np.sqrt(a)"
      ],
      "metadata": {
        "colab": {
          "base_uri": "https://localhost:8080/"
        },
        "id": "7I0JnAxKTh2g",
        "outputId": "ea3847b1-73e1-4e24-9ae3-5e0e36b00c1c"
      },
      "execution_count": 21,
      "outputs": [
        {
          "output_type": "execute_result",
          "data": {
            "text/plain": [
              "array([0.       , 1.       , 1.4142135, 1.7320508, 2.       , 2.236068 ,\n",
              "       2.4494898, 2.6457512], dtype=float32)"
            ]
          },
          "metadata": {},
          "execution_count": 21
        }
      ]
    },
    {
      "cell_type": "code",
      "source": [
        "# Calculate the square root of the scalar value 2.5 using NumPy's sqrt function.\n",
        "np.sqrt(2.5)"
      ],
      "metadata": {
        "colab": {
          "base_uri": "https://localhost:8080/"
        },
        "id": "NwQ1YuMBTpQO",
        "outputId": "8e13efde-b8f0-47f8-f751-b7b03b182530"
      },
      "execution_count": 22,
      "outputs": [
        {
          "output_type": "execute_result",
          "data": {
            "text/plain": [
              "np.float64(1.5811388300841898)"
            ]
          },
          "metadata": {},
          "execution_count": 22
        }
      ]
    },
    {
      "cell_type": "code",
      "source": [
        "# Import the math module.\n",
        "import math"
      ],
      "metadata": {
        "id": "AHII_COOTuLn"
      },
      "execution_count": 23,
      "outputs": []
    },
    {
      "cell_type": "code",
      "source": [
        "# Calculate the square root of the scalar value 2.5 using Python's built-in math.sqrt function.\n",
        "math.sqrt(2.5)"
      ],
      "metadata": {
        "colab": {
          "base_uri": "https://localhost:8080/"
        },
        "id": "8Fpf6bdLTvzO",
        "outputId": "0b7deb41-fbe8-475f-cb9b-05fc9ae52e80"
      },
      "execution_count": 24,
      "outputs": [
        {
          "output_type": "execute_result",
          "data": {
            "text/plain": [
              "1.5811388300841898"
            ]
          },
          "metadata": {},
          "execution_count": 24
        }
      ]
    },
    {
      "cell_type": "code",
      "source": [
        "# Measure the execution time of calculating the square root of 2.5 using NumPy's sqrt function.\n",
        "%timeit np.sqrt(2.5)"
      ],
      "metadata": {
        "colab": {
          "base_uri": "https://localhost:8080/"
        },
        "id": "Tw4IB40ATy2u",
        "outputId": "cd8b240e-3cf4-47ae-e6cf-14317938faad"
      },
      "execution_count": 25,
      "outputs": [
        {
          "output_type": "stream",
          "name": "stdout",
          "text": [
            "1.01 µs ± 291 ns per loop (mean ± std. dev. of 7 runs, 1000000 loops each)\n"
          ]
        }
      ]
    },
    {
      "cell_type": "code",
      "source": [
        "# Measure the execution time of calculating the square root of 2.5 using Python's built-in math.sqrt function.\n",
        "%timeit math.sqrt(2.5)"
      ],
      "metadata": {
        "colab": {
          "base_uri": "https://localhost:8080/"
        },
        "id": "q7zSHpiHT3GI",
        "outputId": "c571639b-cbd5-420a-dad3-a400bb266449"
      },
      "execution_count": 26,
      "outputs": [
        {
          "output_type": "stream",
          "name": "stdout",
          "text": [
            "39.9 ns ± 0.515 ns per loop (mean ± std. dev. of 7 runs, 10000000 loops each)\n"
          ]
        }
      ]
    },
    {
      "cell_type": "markdown",
      "source": [
        "# **Multiple Dimensions**"
      ],
      "metadata": {
        "id": "kDBJTj__T-x2"
      }
    },
    {
      "cell_type": "code",
      "source": [
        "import numpy as np\n",
        "# Create a 2D NumPy array 'b' by stacking array 'a' and 'a' multiplied by 2.\n",
        "b = np.array([a, a * 2])\n",
        "# Display the array 'b'.\n",
        "b"
      ],
      "metadata": {
        "colab": {
          "base_uri": "https://localhost:8080/"
        },
        "id": "Uq7RgoRL1phG",
        "outputId": "e123b88b-e3d9-4190-ada3-b5906da59328"
      },
      "execution_count": 27,
      "outputs": [
        {
          "output_type": "execute_result",
          "data": {
            "text/plain": [
              "array([[ 0.,  1.,  2.,  3.,  4.,  5.,  6.,  7.],\n",
              "       [ 0.,  2.,  4.,  6.,  8., 10., 12., 14.]], dtype=float32)"
            ]
          },
          "metadata": {},
          "execution_count": 27
        }
      ]
    },
    {
      "cell_type": "code",
      "source": [
        "# Access and display the first row (at index 0) of the 2D array 'b'.\n",
        "b[0]"
      ],
      "metadata": {
        "colab": {
          "base_uri": "https://localhost:8080/"
        },
        "id": "JpBxsEz81peM",
        "outputId": "306fca18-bd49-440f-9c2a-5e70539f4392"
      },
      "execution_count": 28,
      "outputs": [
        {
          "output_type": "execute_result",
          "data": {
            "text/plain": [
              "array([0., 1., 2., 3., 4., 5., 6., 7.], dtype=float32)"
            ]
          },
          "metadata": {},
          "execution_count": 28
        }
      ]
    },
    {
      "cell_type": "code",
      "source": [
        "# Access and display the element at the first row (index 0) and third column (index 2) of array 'b'.\n",
        "b[0, 2]"
      ],
      "metadata": {
        "colab": {
          "base_uri": "https://localhost:8080/"
        },
        "id": "8akc9Ckf1pbh",
        "outputId": "437e7488-8e23-43c4-80ae-cd771178571c"
      },
      "execution_count": 29,
      "outputs": [
        {
          "output_type": "execute_result",
          "data": {
            "text/plain": [
              "np.float32(2.0)"
            ]
          },
          "metadata": {},
          "execution_count": 29
        }
      ]
    },
    {
      "cell_type": "code",
      "source": [
        "# Access and display elements from all rows (:) at the second column (index 1) of array 'b'.\n",
        "b[:,1]"
      ],
      "metadata": {
        "colab": {
          "base_uri": "https://localhost:8080/"
        },
        "id": "fs0ytfs-1pYe",
        "outputId": "ab43a877-eb52-4e25-aabb-a75f46710a15"
      },
      "execution_count": 30,
      "outputs": [
        {
          "output_type": "execute_result",
          "data": {
            "text/plain": [
              "array([1., 2.], dtype=float32)"
            ]
          },
          "metadata": {},
          "execution_count": 30
        }
      ]
    },
    {
      "cell_type": "code",
      "source": [
        "# Calculate and display the sum of all elements in the array 'b'.\n",
        "b.sum()"
      ],
      "metadata": {
        "colab": {
          "base_uri": "https://localhost:8080/"
        },
        "id": "jmo0nVQ81pVt",
        "outputId": "3b6e25b7-aa38-4751-ceca-6dd212ae9624"
      },
      "execution_count": 31,
      "outputs": [
        {
          "output_type": "execute_result",
          "data": {
            "text/plain": [
              "np.float32(84.0)"
            ]
          },
          "metadata": {},
          "execution_count": 31
        }
      ]
    },
    {
      "cell_type": "code",
      "source": [
        "# Calculate and display the sum of elements along columns (axis=0) in array 'b'.\n",
        "b.sum(axis=0)"
      ],
      "metadata": {
        "colab": {
          "base_uri": "https://localhost:8080/"
        },
        "id": "Cr3MenJG1pSi",
        "outputId": "ba4650c8-be01-4bbe-d69e-52e7da940024"
      },
      "execution_count": 32,
      "outputs": [
        {
          "output_type": "execute_result",
          "data": {
            "text/plain": [
              "array([ 0.,  3.,  6.,  9., 12., 15., 18., 21.], dtype=float32)"
            ]
          },
          "metadata": {},
          "execution_count": 32
        }
      ]
    },
    {
      "cell_type": "code",
      "source": [
        "# Calculate and display the sum of elements along rows (axis=1) in array 'b'.\n",
        "b.sum(axis=1)"
      ],
      "metadata": {
        "colab": {
          "base_uri": "https://localhost:8080/"
        },
        "id": "XIADhyk51pPU",
        "outputId": "eeda055c-151f-48d8-fe54-63bef820186d"
      },
      "execution_count": 33,
      "outputs": [
        {
          "output_type": "execute_result",
          "data": {
            "text/plain": [
              "array([28., 56.], dtype=float32)"
            ]
          },
          "metadata": {},
          "execution_count": 33
        }
      ]
    },
    {
      "cell_type": "code",
      "source": [
        "# Create a 2x3 NumPy array 'c' filled with zeros, with integer data type and C-style order.\n",
        "c = np.zeros((2, 3), dtype='i', order='C')\n",
        "# Display array 'c'.\n",
        "c"
      ],
      "metadata": {
        "colab": {
          "base_uri": "https://localhost:8080/"
        },
        "id": "fPwgvvV81pL6",
        "outputId": "04ffce1c-7679-4ef6-e5ea-777063a88216"
      },
      "execution_count": 35,
      "outputs": [
        {
          "output_type": "execute_result",
          "data": {
            "text/plain": [
              "array([[0, 0, 0],\n",
              "       [0, 0, 0]], dtype=int32)"
            ]
          },
          "metadata": {},
          "execution_count": 35
        }
      ]
    },
    {
      "cell_type": "code",
      "source": [
        "# Create a 3D NumPy array 'c' of shape (2, 3, 4) filled with ones, with integer data type and C-style order.\n",
        "c = np.ones((2, 3, 4), dtype='i', order='C')\n",
        "# Display array 'c'.\n",
        "c"
      ],
      "metadata": {
        "colab": {
          "base_uri": "https://localhost:8080/"
        },
        "id": "3jcszYT-1pI0",
        "outputId": "896d8008-22b6-4c86-d247-59511e9b27ed"
      },
      "execution_count": 36,
      "outputs": [
        {
          "output_type": "execute_result",
          "data": {
            "text/plain": [
              "array([[[1, 1, 1, 1],\n",
              "        [1, 1, 1, 1],\n",
              "        [1, 1, 1, 1]],\n",
              "\n",
              "       [[1, 1, 1, 1],\n",
              "        [1, 1, 1, 1],\n",
              "        [1, 1, 1, 1]]], dtype=int32)"
            ]
          },
          "metadata": {},
          "execution_count": 36
        }
      ]
    },
    {
      "cell_type": "code",
      "source": [
        "# Create a new array 'd' with the same shape and data type as array 'c', filled with uninitialized data (effectively zeros in many cases), with float16 data type and C-style order.\n",
        "d = np.zeros_like(c, dtype='f16', order='C')\n",
        "# Display array 'd'.\n",
        "d"
      ],
      "metadata": {
        "colab": {
          "base_uri": "https://localhost:8080/"
        },
        "id": "GM_YS-ib1o-X",
        "outputId": "47de1dc6-fc12-4386-df97-46bef0d91dfa"
      },
      "execution_count": 37,
      "outputs": [
        {
          "output_type": "execute_result",
          "data": {
            "text/plain": [
              "array([[[0., 0., 0., 0.],\n",
              "        [0., 0., 0., 0.],\n",
              "        [0., 0., 0., 0.]],\n",
              "\n",
              "       [[0., 0., 0., 0.],\n",
              "        [0., 0., 0., 0.],\n",
              "        [0., 0., 0., 0.]]], dtype=float128)"
            ]
          },
          "metadata": {},
          "execution_count": 37
        }
      ]
    },
    {
      "cell_type": "code",
      "source": [
        "# Create a new array 'd' with the same shape and data type as array 'c', filled with ones, with float16 data type and C-style order.\n",
        "d = np.ones_like(c, dtype='f16', order='C')\n",
        "# Display array 'd'.\n",
        "d"
      ],
      "metadata": {
        "colab": {
          "base_uri": "https://localhost:8080/"
        },
        "id": "Y9fVe2po2mhd",
        "outputId": "9957f63f-2daf-41dc-edfe-3d3c21e799e1"
      },
      "execution_count": 38,
      "outputs": [
        {
          "output_type": "execute_result",
          "data": {
            "text/plain": [
              "array([[[1., 1., 1., 1.],\n",
              "        [1., 1., 1., 1.],\n",
              "        [1., 1., 1., 1.]],\n",
              "\n",
              "       [[1., 1., 1., 1.],\n",
              "        [1., 1., 1., 1.],\n",
              "        [1., 1., 1., 1.]]], dtype=float128)"
            ]
          },
          "metadata": {},
          "execution_count": 38
        }
      ]
    },
    {
      "cell_type": "code",
      "source": [
        "# Create a new array 'e' of shape (2, 3, 2) with uninitialized data. The contents will be whatever is in memory at that location.\n",
        "e = np.empty((2, 3, 2))\n",
        "# Display array 'e'.\n",
        "e"
      ],
      "metadata": {
        "colab": {
          "base_uri": "https://localhost:8080/"
        },
        "id": "B1LwhOyO2mB3",
        "outputId": "6ec3bf03-c220-44a9-9822-369cfd08e090"
      },
      "execution_count": 39,
      "outputs": [
        {
          "output_type": "execute_result",
          "data": {
            "text/plain": [
              "array([[[2.99561680e-315, 0.00000000e+000],\n",
              "        [7.39230901e-319, 1.77863633e-322],\n",
              "        [0.00000000e+000, 0.00000000e+000]],\n",
              "\n",
              "       [[4.47593775e-091, 2.14394520e+160],\n",
              "        [1.74254280e-076, 7.73664055e-091],\n",
              "        [5.49268604e+174, 6.64235594e-310]]])"
            ]
          },
          "metadata": {},
          "execution_count": 39
        }
      ]
    },
    {
      "cell_type": "code",
      "source": [
        "# Create a new array 'f' with the same shape and data type as array 'c', filled with uninitialized data.\n",
        "f = np.empty_like(c)\n",
        "# Display array 'f'.\n",
        "f"
      ],
      "metadata": {
        "colab": {
          "base_uri": "https://localhost:8080/"
        },
        "id": "rpVyjqta23vX",
        "outputId": "bc0b0e51-a73f-4280-a11a-b573317d3861"
      },
      "execution_count": 40,
      "outputs": [
        {
          "output_type": "execute_result",
          "data": {
            "text/plain": [
              "array([[[ 606319590,          0,          0,          0],\n",
              "        [    149622,          0,         36,          0],\n",
              "        [         0,          0,          0,          0]],\n",
              "\n",
              "       [[         0,  757935405, 1631072357, 1631086131],\n",
              "        [1630877997,  808725857, 1680684901,  758724408],\n",
              "        [ 842020146, 1681274168, 1714566499,      31302]]], dtype=int32)"
            ]
          },
          "metadata": {},
          "execution_count": 40
        }
      ]
    },
    {
      "cell_type": "code",
      "source": [
        "# Create a 5x5 identity matrix using np.eye().\n",
        "np.eye(5)"
      ],
      "metadata": {
        "colab": {
          "base_uri": "https://localhost:8080/"
        },
        "id": "HEeyB4Uo28vk",
        "outputId": "53d7d670-7ada-42ed-cc6f-abeb4b6617a7"
      },
      "execution_count": 41,
      "outputs": [
        {
          "output_type": "execute_result",
          "data": {
            "text/plain": [
              "array([[1., 0., 0., 0., 0.],\n",
              "       [0., 1., 0., 0., 0.],\n",
              "       [0., 0., 1., 0., 0.],\n",
              "       [0., 0., 0., 1., 0.],\n",
              "       [0., 0., 0., 0., 1.]])"
            ]
          },
          "metadata": {},
          "execution_count": 41
        }
      ]
    },
    {
      "cell_type": "code",
      "source": [
        "# Create a NumPy array 'g' with 12 evenly spaced values between 5 and 15 (inclusive).\n",
        "g = np.linspace(5, 15, 12)\n",
        "# Display array 'g'.\n",
        "g"
      ],
      "metadata": {
        "colab": {
          "base_uri": "https://localhost:8080/"
        },
        "id": "lealV3I52_fJ",
        "outputId": "528ae36c-efca-4938-fed4-9403ee1d85c2"
      },
      "execution_count": 42,
      "outputs": [
        {
          "output_type": "execute_result",
          "data": {
            "text/plain": [
              "array([ 5.        ,  5.90909091,  6.81818182,  7.72727273,  8.63636364,\n",
              "        9.54545455, 10.45454545, 11.36363636, 12.27272727, 13.18181818,\n",
              "       14.09090909, 15.        ])"
            ]
          },
          "metadata": {},
          "execution_count": 42
        }
      ]
    },
    {
      "cell_type": "markdown",
      "source": [
        "# **Meta information**"
      ],
      "metadata": {
        "id": "6cV5BrgA3GEv"
      }
    },
    {
      "cell_type": "code",
      "source": [
        "# Display the total number of elements in the array 'g'.\n",
        "g.size"
      ],
      "metadata": {
        "colab": {
          "base_uri": "https://localhost:8080/"
        },
        "id": "B6Jxuk6F3N3H",
        "outputId": "2404a571-7758-4a7d-94e3-083acdd23b80"
      },
      "execution_count": 43,
      "outputs": [
        {
          "output_type": "execute_result",
          "data": {
            "text/plain": [
              "12"
            ]
          },
          "metadata": {},
          "execution_count": 43
        }
      ]
    },
    {
      "cell_type": "code",
      "source": [
        "# Display the size in bytes of each element in the array 'g'.\n",
        "g.itemsize"
      ],
      "metadata": {
        "colab": {
          "base_uri": "https://localhost:8080/"
        },
        "id": "-GMY35kg3PeZ",
        "outputId": "b4ddaf88-271b-47bf-dde5-e0f516724356"
      },
      "execution_count": 44,
      "outputs": [
        {
          "output_type": "execute_result",
          "data": {
            "text/plain": [
              "8"
            ]
          },
          "metadata": {},
          "execution_count": 44
        }
      ]
    },
    {
      "cell_type": "code",
      "source": [
        "# Display the number of dimensions (axes) of the array 'g'.\n",
        "g.ndim"
      ],
      "metadata": {
        "colab": {
          "base_uri": "https://localhost:8080/"
        },
        "id": "XCKrlkp03R8B",
        "outputId": "4dc24f08-a810-4f82-e3a2-96add5144059"
      },
      "execution_count": 45,
      "outputs": [
        {
          "output_type": "execute_result",
          "data": {
            "text/plain": [
              "1"
            ]
          },
          "metadata": {},
          "execution_count": 45
        }
      ]
    },
    {
      "cell_type": "code",
      "source": [
        "# Display the shape of the array 'g' (a tuple indicating the size of each dimension).\n",
        "g.shape"
      ],
      "metadata": {
        "colab": {
          "base_uri": "https://localhost:8080/"
        },
        "id": "1TvunkEB3TUY",
        "outputId": "06449f6c-51f5-46b7-b08b-296188b09b83"
      },
      "execution_count": 46,
      "outputs": [
        {
          "output_type": "execute_result",
          "data": {
            "text/plain": [
              "(12,)"
            ]
          },
          "metadata": {},
          "execution_count": 46
        }
      ]
    },
    {
      "cell_type": "code",
      "source": [
        "# Display the data type of the elements in the array 'g'.\n",
        "g.dtype"
      ],
      "metadata": {
        "colab": {
          "base_uri": "https://localhost:8080/"
        },
        "id": "YK1_YypI3U0f",
        "outputId": "09993efd-42c6-4574-f30d-26bfa8b9ef59"
      },
      "execution_count": 47,
      "outputs": [
        {
          "output_type": "execute_result",
          "data": {
            "text/plain": [
              "dtype('float64')"
            ]
          },
          "metadata": {},
          "execution_count": 47
        }
      ]
    },
    {
      "cell_type": "code",
      "source": [
        "# Display the total number of bytes consumed by the elements of the array 'g'.\n",
        "g.nbytes"
      ],
      "metadata": {
        "colab": {
          "base_uri": "https://localhost:8080/"
        },
        "id": "a4_A-xr13WwP",
        "outputId": "ef2a3cda-0995-49a3-9655-de2b36536285"
      },
      "execution_count": 48,
      "outputs": [
        {
          "output_type": "execute_result",
          "data": {
            "text/plain": [
              "96"
            ]
          },
          "metadata": {},
          "execution_count": 48
        }
      ]
    },
    {
      "cell_type": "markdown",
      "source": [
        "# **Reshaping, Resizing, Stacking, Flattening**"
      ],
      "metadata": {
        "id": "aS930KU33d-9"
      }
    }
  ]
}