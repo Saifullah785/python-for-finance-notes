{
  "nbformat": 4,
  "nbformat_minor": 0,
  "metadata": {
    "colab": {
      "provenance": [],
      "authorship_tag": "ABX9TyOEw81KIfBf4MXLw0o0wFvR",
      "include_colab_link": true
    },
    "kernelspec": {
      "name": "python3",
      "display_name": "Python 3"
    },
    "language_info": {
      "name": "python"
    }
  },
  "cells": [
    {
      "cell_type": "markdown",
      "metadata": {
        "id": "view-in-github",
        "colab_type": "text"
      },
      "source": [
        "<a href=\"https://colab.research.google.com/github/Saifullah785/python-for-finance-notes/blob/main/Chapter_04_Numerical_Computing_with_NumPy/Chapter_04_Numerical_Computing_with_NumPy.ipynb\" target=\"_parent\"><img src=\"https://colab.research.google.com/assets/colab-badge.svg\" alt=\"Open In Colab\"/></a>"
      ]
    },
    {
      "cell_type": "markdown",
      "source": [
        "# **Numerical Computing with NumPy**"
      ],
      "metadata": {
        "id": "M_Uiz8AQMThZ"
      }
    },
    {
      "cell_type": "markdown",
      "source": [
        "**Arrays with Python Lists**"
      ],
      "metadata": {
        "id": "Lw1vwbs5MvqW"
      }
    },
    {
      "cell_type": "code",
      "execution_count": 1,
      "metadata": {
        "colab": {
          "base_uri": "https://localhost:8080/"
        },
        "id": "-0ybGpEZL_JG",
        "outputId": "90840309-ea9f-42ac-f64c-cc64448aa442"
      },
      "outputs": [
        {
          "output_type": "execute_result",
          "data": {
            "text/plain": [
              "[0.5, 0.75, 1.0, 1.5, 2.0]"
            ]
          },
          "metadata": {},
          "execution_count": 1
        }
      ],
      "source": [
        "# Define a Python list 'v' with some numerical values.\n",
        "v = [0.5, 0.75, 1.0, 1.5, 2.0]\n",
        "# Display the list 'v'.\n",
        "v"
      ]
    },
    {
      "cell_type": "code",
      "source": [
        "# Create a list 'm' containing three copies of the list 'v'.\n",
        "m = [v, v, v]\n",
        "# Display the list of lists 'm'.\n",
        "m"
      ],
      "metadata": {
        "colab": {
          "base_uri": "https://localhost:8080/"
        },
        "id": "Yjs9IId5M5Uj",
        "outputId": "a75f02dd-971c-4668-ec4a-d69b99b93db2"
      },
      "execution_count": 2,
      "outputs": [
        {
          "output_type": "execute_result",
          "data": {
            "text/plain": [
              "[[0.5, 0.75, 1.0, 1.5, 2.0],\n",
              " [0.5, 0.75, 1.0, 1.5, 2.0],\n",
              " [0.5, 0.75, 1.0, 1.5, 2.0]]"
            ]
          },
          "metadata": {},
          "execution_count": 2
        }
      ]
    },
    {
      "cell_type": "code",
      "source": [
        "# Access and display the second element (at index 1) of the list of lists 'm'.\n",
        "m[1]"
      ],
      "metadata": {
        "colab": {
          "base_uri": "https://localhost:8080/"
        },
        "id": "qko2uC1kM6Yu",
        "outputId": "215cde19-8255-41d5-dd3b-881080bb6bc1"
      },
      "execution_count": 3,
      "outputs": [
        {
          "output_type": "execute_result",
          "data": {
            "text/plain": [
              "[0.5, 0.75, 1.0, 1.5, 2.0]"
            ]
          },
          "metadata": {},
          "execution_count": 3
        }
      ]
    },
    {
      "cell_type": "code",
      "source": [
        "# Access and display the first element (at index 0) of the second list (at index 1) within 'm'.\n",
        "m[1][0]"
      ],
      "metadata": {
        "colab": {
          "base_uri": "https://localhost:8080/"
        },
        "id": "3ihiGzceM6VW",
        "outputId": "b95967e7-28d2-4dce-bc85-0097bb05f0c5"
      },
      "execution_count": 4,
      "outputs": [
        {
          "output_type": "execute_result",
          "data": {
            "text/plain": [
              "0.5"
            ]
          },
          "metadata": {},
          "execution_count": 4
        }
      ]
    },
    {
      "cell_type": "code",
      "source": [
        "# Define two Python lists 'v1' and 'v2'.\n",
        "v1 = [0.5, 1.5]\n",
        "# Display 'v1'.\n",
        "v1\n",
        "\n",
        "v2 = [1, 2]\n",
        "# Display 'v2'.\n",
        "v2\n",
        "\n",
        "# Create a list of lists 'm' containing 'v1' and 'v2'.\n",
        "m = [v1, v2]\n",
        "# Display 'm'.\n",
        "m\n",
        "\n",
        "# Create a list of lists of lists 'c' containing two copies of 'm'.\n",
        "c = [m, m]\n",
        "# Display 'c'.\n",
        "c"
      ],
      "metadata": {
        "colab": {
          "base_uri": "https://localhost:8080/"
        },
        "id": "KJdt3uRKM6Su",
        "outputId": "0efb73f6-ef0e-47f5-e165-c80440e507d0"
      },
      "execution_count": 5,
      "outputs": [
        {
          "output_type": "execute_result",
          "data": {
            "text/plain": [
              "[[[0.5, 1.5], [1, 2]], [[0.5, 1.5], [1, 2]]]"
            ]
          },
          "metadata": {},
          "execution_count": 5
        }
      ]
    },
    {
      "cell_type": "code",
      "source": [
        "# Access and display the first element (at index 0) of the second list (at index 1) within the second list (at index 1) of 'c'.\n",
        "c[1][1][0]"
      ],
      "metadata": {
        "colab": {
          "base_uri": "https://localhost:8080/"
        },
        "id": "sVIw2lC5M6Mg",
        "outputId": "793007b1-0019-4482-da94-2855f0ad2ee3"
      },
      "execution_count": 6,
      "outputs": [
        {
          "output_type": "execute_result",
          "data": {
            "text/plain": [
              "1"
            ]
          },
          "metadata": {},
          "execution_count": 6
        }
      ]
    },
    {
      "cell_type": "code",
      "source": [
        "# Redefine the list 'v'.\n",
        "v = [0.5, 0.75, 1.0, 1.5, 2.0]\n",
        "# Redefine the list of lists 'm' with three copies of 'v'.\n",
        "m = [v, v, v]\n",
        "# Display 'm'.\n",
        "m"
      ],
      "metadata": {
        "colab": {
          "base_uri": "https://localhost:8080/"
        },
        "id": "zaDMmup8M6H6",
        "outputId": "ce3b6fb6-85cd-4230-cce1-e8e080c94f87"
      },
      "execution_count": 7,
      "outputs": [
        {
          "output_type": "execute_result",
          "data": {
            "text/plain": [
              "[[0.5, 0.75, 1.0, 1.5, 2.0],\n",
              " [0.5, 0.75, 1.0, 1.5, 2.0],\n",
              " [0.5, 0.75, 1.0, 1.5, 2.0]]"
            ]
          },
          "metadata": {},
          "execution_count": 7
        }
      ]
    },
    {
      "cell_type": "code",
      "source": [
        "# Modify the first element of the list 'v' to the string 'Python'.\n",
        "v [0] = 'Python'\n",
        "# Display 'm'. Note that because 'm' contains references to 'v', the change in 'v' is reflected in 'm'.\n",
        "m"
      ],
      "metadata": {
        "colab": {
          "base_uri": "https://localhost:8080/"
        },
        "id": "qCwPIwkoM6Fi",
        "outputId": "22218ff7-1324-4b7e-d645-63ca47de2b1c"
      },
      "execution_count": 8,
      "outputs": [
        {
          "output_type": "execute_result",
          "data": {
            "text/plain": [
              "[['Python', 0.75, 1.0, 1.5, 2.0],\n",
              " ['Python', 0.75, 1.0, 1.5, 2.0],\n",
              " ['Python', 0.75, 1.0, 1.5, 2.0]]"
            ]
          },
          "metadata": {},
          "execution_count": 8
        }
      ]
    },
    {
      "cell_type": "code",
      "source": [
        "# Import the deepcopy function from the copy module.\n",
        "from copy import deepcopy\n",
        "# Redefine the list 'v'.\n",
        "v = [0.5, 0.75, 1.0, 1.5, 2.0]\n",
        "# Create a list of lists 'm' with three independent copies of 'v' using deepcopy.\n",
        "m = 3 * [deepcopy (v), ]\n",
        "# Display 'm'.\n",
        "m"
      ],
      "metadata": {
        "colab": {
          "base_uri": "https://localhost:8080/"
        },
        "id": "eSCArLWSM6C1",
        "outputId": "55f4388c-5e3a-40c3-e30c-f3c7ef8c5d6e"
      },
      "execution_count": 9,
      "outputs": [
        {
          "output_type": "execute_result",
          "data": {
            "text/plain": [
              "[[0.5, 0.75, 1.0, 1.5, 2.0],\n",
              " [0.5, 0.75, 1.0, 1.5, 2.0],\n",
              " [0.5, 0.75, 1.0, 1.5, 2.0]]"
            ]
          },
          "metadata": {},
          "execution_count": 9
        }
      ]
    },
    {
      "cell_type": "code",
      "source": [
        "# Modify the first element of the list 'v' to the string 'Python'.\n",
        "v[0] = 'Python'\n",
        "# Display 'm'. Note that because deepcopy was used, the change in 'v' does not affect the lists within 'm'.\n",
        "m"
      ],
      "metadata": {
        "colab": {
          "base_uri": "https://localhost:8080/"
        },
        "id": "CZk4DnriM6AQ",
        "outputId": "e2df6353-12d9-4110-fdbb-6e861d3982ec"
      },
      "execution_count": 10,
      "outputs": [
        {
          "output_type": "execute_result",
          "data": {
            "text/plain": [
              "[[0.5, 0.75, 1.0, 1.5, 2.0],\n",
              " [0.5, 0.75, 1.0, 1.5, 2.0],\n",
              " [0.5, 0.75, 1.0, 1.5, 2.0]]"
            ]
          },
          "metadata": {},
          "execution_count": 10
        }
      ]
    },
    {
      "cell_type": "markdown",
      "source": [
        "# **Interlude: Python Array Class**"
      ],
      "metadata": {
        "id": "r5Exe4kXO9UR"
      }
    },
    {
      "cell_type": "code",
      "source": [
        "# Define a Python list 'v' with some numerical values.\n",
        "v = [0.5, 0.75, 1.0, 1.5, 2.0]"
      ],
      "metadata": {
        "id": "FFyM0OGsM58K"
      },
      "execution_count": 11,
      "outputs": []
    },
    {
      "cell_type": "code",
      "source": [
        "# Import the array module.\n",
        "import array"
      ],
      "metadata": {
        "id": "i1K8as_LM55J"
      },
      "execution_count": 12,
      "outputs": []
    },
    {
      "cell_type": "code",
      "source": [
        "# Create an array 'a' of type 'f' (float) from the list 'v'.\n",
        "a = array.array('f', v)\n",
        "# Display the array 'a'.\n",
        "a"
      ],
      "metadata": {
        "colab": {
          "base_uri": "https://localhost:8080/"
        },
        "id": "HXJ2PqG4M52j",
        "outputId": "b9fe12e9-f89b-4e37-d3f4-135fcf7d1050"
      },
      "execution_count": 13,
      "outputs": [
        {
          "output_type": "execute_result",
          "data": {
            "text/plain": [
              "array('f', [0.5, 0.75, 1.0, 1.5, 2.0])"
            ]
          },
          "metadata": {},
          "execution_count": 13
        }
      ]
    },
    {
      "cell_type": "code",
      "source": [
        "# Append a value (0.5) to the array 'a'.\n",
        "a.append(0.5)\n",
        "# Display the modified array 'a'.\n",
        "a"
      ],
      "metadata": {
        "colab": {
          "base_uri": "https://localhost:8080/"
        },
        "id": "qcf0u9K3PWCM",
        "outputId": "e305d469-25cc-484f-ff61-1c048e057576"
      },
      "execution_count": 14,
      "outputs": [
        {
          "output_type": "execute_result",
          "data": {
            "text/plain": [
              "array('f', [0.5, 0.75, 1.0, 1.5, 2.0, 0.5])"
            ]
          },
          "metadata": {},
          "execution_count": 14
        }
      ]
    },
    {
      "cell_type": "code",
      "source": [
        "# Extend the array 'a' with elements from a list ([5.0, 6.75]).\n",
        "a.extend([5.0, 6.75])\n",
        "# Display the modified array 'a'.\n",
        "a"
      ],
      "metadata": {
        "colab": {
          "base_uri": "https://localhost:8080/"
        },
        "id": "LAgl0JppM50B",
        "outputId": "0abfae57-1fa5-4ff4-9902-926fd74bbe31"
      },
      "execution_count": 15,
      "outputs": [
        {
          "output_type": "execute_result",
          "data": {
            "text/plain": [
              "array('f', [0.5, 0.75, 1.0, 1.5, 2.0, 0.5, 5.0, 6.75])"
            ]
          },
          "metadata": {},
          "execution_count": 15
        }
      ]
    },
    {
      "cell_type": "code",
      "source": [
        "# Attempt to multiply the array 'a' by 2. For array.array, this concatenates the array with itself.\n",
        "2 * a"
      ],
      "metadata": {
        "colab": {
          "base_uri": "https://localhost:8080/"
        },
        "id": "Es-4hkOVM5w7",
        "outputId": "27852bfb-a7ae-4099-d3ab-504eea854aa5"
      },
      "execution_count": 16,
      "outputs": [
        {
          "output_type": "execute_result",
          "data": {
            "text/plain": [
              "array('f', [0.5, 0.75, 1.0, 1.5, 2.0, 0.5, 5.0, 6.75, 0.5, 0.75, 1.0, 1.5, 2.0, 0.5, 5.0, 6.75])"
            ]
          },
          "metadata": {},
          "execution_count": 16
        }
      ]
    },
    {
      "cell_type": "code",
      "source": [
        "# Convert the array 'a' back to a Python list.\n",
        "a.tolist()"
      ],
      "metadata": {
        "colab": {
          "base_uri": "https://localhost:8080/"
        },
        "id": "BBCxgUGXM5uh",
        "outputId": "cb7bb0f5-72c6-47bd-cbaa-80703e0fdffb"
      },
      "execution_count": 17,
      "outputs": [
        {
          "output_type": "execute_result",
          "data": {
            "text/plain": [
              "[0.5, 0.75, 1.0, 1.5, 2.0, 0.5, 5.0, 6.75]"
            ]
          },
          "metadata": {},
          "execution_count": 17
        }
      ]
    },
    {
      "cell_type": "code",
      "source": [
        "# Open a file named 'array.apy' in binary write mode ('wb').\n",
        "f = open('array.apy', 'wb')\n",
        "# Write the contents of array 'a' to the file.\n",
        "a.tofile(f)\n",
        "# Close the file.\n",
        "f.close()"
      ],
      "metadata": {
        "id": "qy9nutwRM5sP"
      },
      "execution_count": 18,
      "outputs": []
    },
    {
      "cell_type": "code",
      "source": [
        "# Open a file named 'array.apy' in binary write mode ('wb') using a 'with' statement, which ensures the file is closed automatically.\n",
        "with open ('array.apy', 'wb') as f:\n",
        "  # Write the contents of array 'a' to the file.\n",
        "  a.tofile(f)"
      ],
      "metadata": {
        "id": "vRQm1PIFM5pw"
      },
      "execution_count": 19,
      "outputs": []
    },
    {
      "cell_type": "code",
      "source": [
        "# Execute a shell command to list files starting with 'arr' in the current directory, showing file permissions, number of links, owner, group, size, and modification time.\n",
        "!ls -n arr*"
      ],
      "metadata": {
        "colab": {
          "base_uri": "https://localhost:8080/"
        },
        "id": "Y3_WZLkXQJde",
        "outputId": "9afa008e-e01e-4aa8-e6c0-78e8d2acc682"
      },
      "execution_count": 20,
      "outputs": [
        {
          "output_type": "stream",
          "name": "stdout",
          "text": [
            "-rw-r--r-- 1 0 0 32 Jul 18 17:27 array.apy\n"
          ]
        }
      ]
    },
    {
      "cell_type": "code",
      "source": [
        "# Create an empty array 'b' of type 'f' (float).\n",
        "b = array.array('f')\n",
        "# Display the empty array 'b'.\n",
        "b"
      ],
      "metadata": {
        "colab": {
          "base_uri": "https://localhost:8080/"
        },
        "id": "rF318C66QMtl",
        "outputId": "d52b6529-646d-4426-d326-0063f7fb24cd"
      },
      "execution_count": 21,
      "outputs": [
        {
          "output_type": "execute_result",
          "data": {
            "text/plain": [
              "array('f')"
            ]
          },
          "metadata": {},
          "execution_count": 21
        }
      ]
    },
    {
      "cell_type": "code",
      "source": [
        "# Open the file 'array.apy' in binary read mode ('rb').\n",
        "with open('array.apy', 'rb') as f:\n",
        "  # Read 2 elements of type 'f' (float) from the file into array 'b'.\n",
        "  b.fromfile(f, 2)"
      ],
      "metadata": {
        "id": "icR03WeYQQyc"
      },
      "execution_count": 22,
      "outputs": []
    },
    {
      "cell_type": "code",
      "source": [
        "# Display the array 'b' after reading data from the file.\n",
        "b"
      ],
      "metadata": {
        "colab": {
          "base_uri": "https://localhost:8080/"
        },
        "id": "yrxxTVwQQdBm",
        "outputId": "d9fd0e78-a730-4c84-e7d0-16cb597e87ec"
      },
      "execution_count": 23,
      "outputs": [
        {
          "output_type": "execute_result",
          "data": {
            "text/plain": [
              "array('f', [0.5, 0.75])"
            ]
          },
          "metadata": {},
          "execution_count": 23
        }
      ]
    },
    {
      "cell_type": "code",
      "source": [
        "# Create an empty array 'b' of type 'd' (double).\n",
        "b = array.array('d')\n",
        "# Display the empty array 'b'.\n",
        "b"
      ],
      "metadata": {
        "colab": {
          "base_uri": "https://localhost:8080/"
        },
        "id": "gElAByJyQd_F",
        "outputId": "11a04ef2-b3d8-4267-956f-e9678257749d"
      },
      "execution_count": 24,
      "outputs": [
        {
          "output_type": "execute_result",
          "data": {
            "text/plain": [
              "array('d')"
            ]
          },
          "metadata": {},
          "execution_count": 24
        }
      ]
    },
    {
      "cell_type": "code",
      "source": [
        "# Open the file 'array.apy' in binary read mode ('rb').\n",
        "with open('array.apy', 'rb') as f:\n",
        "    # Read 2 elements of type 'd' (double) from the file into array 'b'. Note that reading floats as doubles can lead to unexpected values due to different byte sizes.\n",
        "    b.fromfile(f, 2)"
      ],
      "metadata": {
        "id": "1YT7735iQkRE"
      },
      "execution_count": 25,
      "outputs": []
    },
    {
      "cell_type": "code",
      "source": [
        "# Display the array 'b' after attempting to read float data as doubles from the file.\n",
        "b"
      ],
      "metadata": {
        "colab": {
          "base_uri": "https://localhost:8080/"
        },
        "id": "IbMhthejQoBw",
        "outputId": "e66d7661-d1e5-4864-a5cc-107b6ad7a012"
      },
      "execution_count": 26,
      "outputs": [
        {
          "output_type": "execute_result",
          "data": {
            "text/plain": [
              "array('d', [0.0004882813645963324, 0.12500002956949174])"
            ]
          },
          "metadata": {},
          "execution_count": 26
        }
      ]
    },
    {
      "cell_type": "markdown",
      "source": [
        "# **Regular NumPy Arrays**\n",
        "\n",
        "The Basics\n",
        "\n",
        "\n",
        "\n"
      ],
      "metadata": {
        "id": "MUzdd-B1SgW7"
      }
    },
    {
      "cell_type": "code",
      "source": [
        "# Import the NumPy library, commonly aliased as np.\n",
        "import numpy as np"
      ],
      "metadata": {
        "id": "ayWaQjm0ShZv"
      },
      "execution_count": 27,
      "outputs": []
    },
    {
      "cell_type": "code",
      "source": [
        "# Create a NumPy array named 'a' with specified numerical values.\n",
        "a = np.array([0, 0.5, 1.0, 1.5, 2.0])\n",
        "# Display the array 'a'.\n",
        "a"
      ],
      "metadata": {
        "colab": {
          "base_uri": "https://localhost:8080/"
        },
        "id": "6361JYI7Sqng",
        "outputId": "eeedbd2c-6d15-4552-e5de-31312d3e0d25"
      },
      "execution_count": 28,
      "outputs": [
        {
          "output_type": "execute_result",
          "data": {
            "text/plain": [
              "array([0. , 0.5, 1. , 1.5, 2. ])"
            ]
          },
          "metadata": {},
          "execution_count": 28
        }
      ]
    },
    {
      "cell_type": "code",
      "source": [
        "# Check and display the data type of the object 'a'.\n",
        "type(a)"
      ],
      "metadata": {
        "colab": {
          "base_uri": "https://localhost:8080/"
        },
        "id": "iWkVqMtySqkv",
        "outputId": "696edbf8-515f-453e-90d1-726c6db104bf"
      },
      "execution_count": 29,
      "outputs": [
        {
          "output_type": "execute_result",
          "data": {
            "text/plain": [
              "numpy.ndarray"
            ]
          },
          "metadata": {},
          "execution_count": 29
        }
      ]
    },
    {
      "cell_type": "code",
      "source": [
        "# Create a NumPy array named 'a' with string elements.\n",
        "a = np.array(['a', 'b', 'c'])\n",
        "# Display the array 'a'.\n",
        "a"
      ],
      "metadata": {
        "colab": {
          "base_uri": "https://localhost:8080/"
        },
        "id": "L5dvtPSlSpp_",
        "outputId": "75a02c4c-2542-462b-c88b-2982574229d5"
      },
      "execution_count": 30,
      "outputs": [
        {
          "output_type": "execute_result",
          "data": {
            "text/plain": [
              "array(['a', 'b', 'c'], dtype='<U1')"
            ]
          },
          "metadata": {},
          "execution_count": 30
        }
      ]
    },
    {
      "cell_type": "code",
      "source": [
        "# Create a NumPy array named 'a' using arange, generating values from 2 up to (but not including) 20 with a step of 2.\n",
        "a = np.arange(2, 20, 2)\n",
        "# Display the array 'a'.\n",
        "a"
      ],
      "metadata": {
        "colab": {
          "base_uri": "https://localhost:8080/"
        },
        "id": "pT_kCIdOSpnd",
        "outputId": "b00fc08d-35e6-4a80-a799-769bd1c0131e"
      },
      "execution_count": 31,
      "outputs": [
        {
          "output_type": "execute_result",
          "data": {
            "text/plain": [
              "array([ 2,  4,  6,  8, 10, 12, 14, 16, 18])"
            ]
          },
          "metadata": {},
          "execution_count": 31
        }
      ]
    },
    {
      "cell_type": "code",
      "source": [
        "# Create a NumPy array named 'a' using arange, generating 8 values starting from 0, with a specified data type of float32.\n",
        "a = np.arange(8, dtype=np.float32)\n",
        "# Display the array 'a'.\n",
        "a"
      ],
      "metadata": {
        "colab": {
          "base_uri": "https://localhost:8080/"
        },
        "id": "4Jcl8d8ESpkt",
        "outputId": "31f1142c-8e14-42bc-ccfe-e4f94b0181bd"
      },
      "execution_count": 32,
      "outputs": [
        {
          "output_type": "execute_result",
          "data": {
            "text/plain": [
              "array([0., 1., 2., 3., 4., 5., 6., 7.], dtype=float32)"
            ]
          },
          "metadata": {},
          "execution_count": 32
        }
      ]
    },
    {
      "cell_type": "code",
      "source": [
        "# Access and display elements of array 'a' from index 5 to the end (slicing).\n",
        "a[5:]"
      ],
      "metadata": {
        "colab": {
          "base_uri": "https://localhost:8080/"
        },
        "id": "87N5bysaSpiB",
        "outputId": "e0a88c1a-9498-441f-9521-23e185026c37"
      },
      "execution_count": 33,
      "outputs": [
        {
          "output_type": "execute_result",
          "data": {
            "text/plain": [
              "array([5., 6., 7.], dtype=float32)"
            ]
          },
          "metadata": {},
          "execution_count": 33
        }
      ]
    },
    {
      "cell_type": "code",
      "source": [
        "# Access and display elements of array 'a' from the beginning up to (but not including) index 2 (slicing).\n",
        "a[:2]"
      ],
      "metadata": {
        "colab": {
          "base_uri": "https://localhost:8080/"
        },
        "id": "bnkcZH1iSzZL",
        "outputId": "22a0f6f1-b7aa-48e0-895c-857784dfaa37"
      },
      "execution_count": 34,
      "outputs": [
        {
          "output_type": "execute_result",
          "data": {
            "text/plain": [
              "array([0., 1.], dtype=float32)"
            ]
          },
          "metadata": {},
          "execution_count": 34
        }
      ]
    },
    {
      "cell_type": "code",
      "source": [
        "# Display the sum method of the array 'a'. Note: This shows the method object, not the result of the sum.\n",
        "a.sum"
      ],
      "metadata": {
        "colab": {
          "base_uri": "https://localhost:8080/"
        },
        "id": "lxyr-6BASzVz",
        "outputId": "daf2ca16-4114-44ed-99c3-dbe7283419d1"
      },
      "execution_count": 35,
      "outputs": [
        {
          "output_type": "execute_result",
          "data": {
            "text/plain": [
              "<function ndarray.sum>"
            ]
          },
          "metadata": {},
          "execution_count": 35
        }
      ]
    },
    {
      "cell_type": "code",
      "source": [
        "# Calculate and display the standard deviation of the array 'a'.\n",
        "a.std()"
      ],
      "metadata": {
        "colab": {
          "base_uri": "https://localhost:8080/"
        },
        "id": "8-CnppAiSzJF",
        "outputId": "542cd09b-77c1-43ef-ebb4-e1cbf4586a84"
      },
      "execution_count": 36,
      "outputs": [
        {
          "output_type": "execute_result",
          "data": {
            "text/plain": [
              "np.float32(2.291288)"
            ]
          },
          "metadata": {},
          "execution_count": 36
        }
      ]
    },
    {
      "cell_type": "code",
      "source": [
        "# Calculate and display the cumulative sum of the elements in array 'a'.\n",
        "a.cumsum()"
      ],
      "metadata": {
        "colab": {
          "base_uri": "https://localhost:8080/"
        },
        "id": "vycmP68SSzGJ",
        "outputId": "23935c19-100a-4ecf-88fb-1b7bf57b0d8a"
      },
      "execution_count": 37,
      "outputs": [
        {
          "output_type": "execute_result",
          "data": {
            "text/plain": [
              "array([ 0.,  1.,  3.,  6., 10., 15., 21., 28.], dtype=float32)"
            ]
          },
          "metadata": {},
          "execution_count": 37
        }
      ]
    },
    {
      "cell_type": "code",
      "source": [
        "# Define a Python list 'l'.\n",
        "l = [0., 0.5, 1.5, 3., 5.]\n",
        "# Multiply the list 'l' by 2. For lists, this results in concatenation.\n",
        "2 *l"
      ],
      "metadata": {
        "colab": {
          "base_uri": "https://localhost:8080/"
        },
        "id": "kqIEtPPlSzDX",
        "outputId": "326d168b-41eb-4f74-aaa4-576069a5fbe4"
      },
      "execution_count": 38,
      "outputs": [
        {
          "output_type": "execute_result",
          "data": {
            "text/plain": [
              "[0.0, 0.5, 1.5, 3.0, 5.0, 0.0, 0.5, 1.5, 3.0, 5.0]"
            ]
          },
          "metadata": {},
          "execution_count": 38
        }
      ]
    },
    {
      "cell_type": "code",
      "source": [
        "# Display the current state of array 'a'.\n",
        "a"
      ],
      "metadata": {
        "colab": {
          "base_uri": "https://localhost:8080/"
        },
        "id": "KHDe8tu_TUD4",
        "outputId": "7c94e63c-f650-4439-9f6a-1feaf31b6e12"
      },
      "execution_count": 39,
      "outputs": [
        {
          "output_type": "execute_result",
          "data": {
            "text/plain": [
              "array([0., 1., 2., 3., 4., 5., 6., 7.], dtype=float32)"
            ]
          },
          "metadata": {},
          "execution_count": 39
        }
      ]
    },
    {
      "cell_type": "code",
      "source": [
        "# Multiply each element of the NumPy array 'a' by 2 (element-wise multiplication).\n",
        "2 * a"
      ],
      "metadata": {
        "colab": {
          "base_uri": "https://localhost:8080/"
        },
        "id": "P1ota9iOTW8H",
        "outputId": "7d91a806-c6c9-4ce7-f078-7efe53d7e34a"
      },
      "execution_count": 40,
      "outputs": [
        {
          "output_type": "execute_result",
          "data": {
            "text/plain": [
              "array([ 0.,  2.,  4.,  6.,  8., 10., 12., 14.], dtype=float32)"
            ]
          },
          "metadata": {},
          "execution_count": 40
        }
      ]
    },
    {
      "cell_type": "code",
      "source": [
        "# Raise each element of the NumPy array 'a' to the power of 2 (element-wise exponentiation).\n",
        "a ** 2"
      ],
      "metadata": {
        "colab": {
          "base_uri": "https://localhost:8080/"
        },
        "id": "p_dZ0_vxTW5X",
        "outputId": "83d3a262-ee00-4041-e13a-f02d04b4b5ed"
      },
      "execution_count": 41,
      "outputs": [
        {
          "output_type": "execute_result",
          "data": {
            "text/plain": [
              "array([ 0.,  1.,  4.,  9., 16., 25., 36., 49.], dtype=float32)"
            ]
          },
          "metadata": {},
          "execution_count": 41
        }
      ]
    },
    {
      "cell_type": "code",
      "source": [
        "# Calculate 2 raised to the power of each element in array 'a' (element-wise exponentiation).\n",
        "2 ** a"
      ],
      "metadata": {
        "colab": {
          "base_uri": "https://localhost:8080/"
        },
        "id": "Q6wOU-xJTa53",
        "outputId": "178d6f46-f143-4336-b6e6-2d28c5d30327"
      },
      "execution_count": 42,
      "outputs": [
        {
          "output_type": "execute_result",
          "data": {
            "text/plain": [
              "array([  1.,   2.,   4.,   8.,  16.,  32.,  64., 128.], dtype=float32)"
            ]
          },
          "metadata": {},
          "execution_count": 42
        }
      ]
    },
    {
      "cell_type": "code",
      "source": [
        "# Raise each element of array 'a' to the power of itself (element-wise exponentiation).\n",
        "a ** a"
      ],
      "metadata": {
        "colab": {
          "base_uri": "https://localhost:8080/"
        },
        "id": "kCASmaYGTcaH",
        "outputId": "cd535338-fe3a-465b-a87d-1d96278533a3"
      },
      "execution_count": 43,
      "outputs": [
        {
          "output_type": "execute_result",
          "data": {
            "text/plain": [
              "array([1.00000e+00, 1.00000e+00, 4.00000e+00, 2.70000e+01, 2.56000e+02,\n",
              "       3.12500e+03, 4.66560e+04, 8.23543e+05], dtype=float32)"
            ]
          },
          "metadata": {},
          "execution_count": 43
        }
      ]
    },
    {
      "cell_type": "code",
      "source": [
        "# Calculate the exponential of each element in array 'a' (e raised to the power of each element).\n",
        "np.exp(a)"
      ],
      "metadata": {
        "colab": {
          "base_uri": "https://localhost:8080/"
        },
        "id": "OWhZ_DDXTfiJ",
        "outputId": "43a7df5a-470b-4368-bd66-f1677b64386f"
      },
      "execution_count": 44,
      "outputs": [
        {
          "output_type": "execute_result",
          "data": {
            "text/plain": [
              "array([1.0000000e+00, 2.7182820e+00, 7.3890557e+00, 2.0085537e+01,\n",
              "       5.4598148e+01, 1.4841316e+02, 4.0342877e+02, 1.0966332e+03],\n",
              "      dtype=float32)"
            ]
          },
          "metadata": {},
          "execution_count": 44
        }
      ]
    },
    {
      "cell_type": "code",
      "source": [
        "# Calculate the square root of each element in array 'a'.\n",
        "np.sqrt(a)"
      ],
      "metadata": {
        "colab": {
          "base_uri": "https://localhost:8080/"
        },
        "id": "7I0JnAxKTh2g",
        "outputId": "140e9321-b142-4a2d-98dc-079bba41d8fd"
      },
      "execution_count": 45,
      "outputs": [
        {
          "output_type": "execute_result",
          "data": {
            "text/plain": [
              "array([0.       , 1.       , 1.4142135, 1.7320508, 2.       , 2.236068 ,\n",
              "       2.4494898, 2.6457512], dtype=float32)"
            ]
          },
          "metadata": {},
          "execution_count": 45
        }
      ]
    },
    {
      "cell_type": "code",
      "source": [
        "# Calculate the square root of the scalar value 2.5 using NumPy's sqrt function.\n",
        "np.sqrt(2.5)"
      ],
      "metadata": {
        "colab": {
          "base_uri": "https://localhost:8080/"
        },
        "id": "NwQ1YuMBTpQO",
        "outputId": "b35b38cc-6e2b-4888-ef43-268abf6a9817"
      },
      "execution_count": 46,
      "outputs": [
        {
          "output_type": "execute_result",
          "data": {
            "text/plain": [
              "np.float64(1.5811388300841898)"
            ]
          },
          "metadata": {},
          "execution_count": 46
        }
      ]
    },
    {
      "cell_type": "code",
      "source": [
        "# Import the math module.\n",
        "import math"
      ],
      "metadata": {
        "id": "AHII_COOTuLn"
      },
      "execution_count": 47,
      "outputs": []
    },
    {
      "cell_type": "code",
      "source": [
        "# Calculate the square root of the scalar value 2.5 using Python's built-in math.sqrt function.\n",
        "math.sqrt(2.5)"
      ],
      "metadata": {
        "colab": {
          "base_uri": "https://localhost:8080/"
        },
        "id": "8Fpf6bdLTvzO",
        "outputId": "0bca44b4-ab58-4ab9-be9e-4d7fada70739"
      },
      "execution_count": 48,
      "outputs": [
        {
          "output_type": "execute_result",
          "data": {
            "text/plain": [
              "1.5811388300841898"
            ]
          },
          "metadata": {},
          "execution_count": 48
        }
      ]
    },
    {
      "cell_type": "code",
      "source": [
        "# Measure the execution time of calculating the square root of 2.5 using NumPy's sqrt function.\n",
        "%timeit np.sqrt(2.5)"
      ],
      "metadata": {
        "colab": {
          "base_uri": "https://localhost:8080/"
        },
        "id": "Tw4IB40ATy2u",
        "outputId": "4b1f5753-5766-428f-f0d0-5ecccc23f329"
      },
      "execution_count": 49,
      "outputs": [
        {
          "output_type": "stream",
          "name": "stdout",
          "text": [
            "1.64 µs ± 366 ns per loop (mean ± std. dev. of 7 runs, 1000000 loops each)\n"
          ]
        }
      ]
    },
    {
      "cell_type": "code",
      "source": [
        "# Measure the execution time of calculating the square root of 2.5 using Python's built-in math.sqrt function.\n",
        "%timeit math.sqrt(2.5)"
      ],
      "metadata": {
        "colab": {
          "base_uri": "https://localhost:8080/"
        },
        "id": "q7zSHpiHT3GI",
        "outputId": "f858f5e9-6b00-4a18-8a8d-c227663a6452"
      },
      "execution_count": 50,
      "outputs": [
        {
          "output_type": "stream",
          "name": "stdout",
          "text": [
            "55.5 ns ± 20.8 ns per loop (mean ± std. dev. of 7 runs, 10000000 loops each)\n"
          ]
        }
      ]
    },
    {
      "cell_type": "markdown",
      "source": [
        "# **Multiple Dimensions**"
      ],
      "metadata": {
        "id": "kDBJTj__T-x2"
      }
    },
    {
      "cell_type": "code",
      "source": [
        "import numpy as np\n",
        "# Create a 2D NumPy array 'b' by stacking array 'a' and 'a' multiplied by 2.\n",
        "b = np.array([a, a * 2])\n",
        "# Display the array 'b'.\n",
        "b"
      ],
      "metadata": {
        "colab": {
          "base_uri": "https://localhost:8080/"
        },
        "id": "Uq7RgoRL1phG",
        "outputId": "2166dd37-4481-4f78-cc7e-d4d69d433a9b"
      },
      "execution_count": 51,
      "outputs": [
        {
          "output_type": "execute_result",
          "data": {
            "text/plain": [
              "array([[ 0.,  1.,  2.,  3.,  4.,  5.,  6.,  7.],\n",
              "       [ 0.,  2.,  4.,  6.,  8., 10., 12., 14.]], dtype=float32)"
            ]
          },
          "metadata": {},
          "execution_count": 51
        }
      ]
    },
    {
      "cell_type": "code",
      "source": [
        "# Access and display the first row (at index 0) of the 2D array 'b'.\n",
        "b[0]"
      ],
      "metadata": {
        "colab": {
          "base_uri": "https://localhost:8080/"
        },
        "id": "JpBxsEz81peM",
        "outputId": "204f1d1a-636a-4c58-8481-a7692b839643"
      },
      "execution_count": 52,
      "outputs": [
        {
          "output_type": "execute_result",
          "data": {
            "text/plain": [
              "array([0., 1., 2., 3., 4., 5., 6., 7.], dtype=float32)"
            ]
          },
          "metadata": {},
          "execution_count": 52
        }
      ]
    },
    {
      "cell_type": "code",
      "source": [
        "# Access and display the element at the first row (index 0) and third column (index 2) of array 'b'.\n",
        "b[0, 2]"
      ],
      "metadata": {
        "colab": {
          "base_uri": "https://localhost:8080/"
        },
        "id": "8akc9Ckf1pbh",
        "outputId": "d719b484-7a70-415c-bca9-d5db5aa73c63"
      },
      "execution_count": 53,
      "outputs": [
        {
          "output_type": "execute_result",
          "data": {
            "text/plain": [
              "np.float32(2.0)"
            ]
          },
          "metadata": {},
          "execution_count": 53
        }
      ]
    },
    {
      "cell_type": "code",
      "source": [
        "# Access and display elements from all rows (:) at the second column (index 1) of array 'b'.\n",
        "b[:,1]"
      ],
      "metadata": {
        "colab": {
          "base_uri": "https://localhost:8080/"
        },
        "id": "fs0ytfs-1pYe",
        "outputId": "b60924fc-c3f3-461e-9f74-5e643f6fc88a"
      },
      "execution_count": 54,
      "outputs": [
        {
          "output_type": "execute_result",
          "data": {
            "text/plain": [
              "array([1., 2.], dtype=float32)"
            ]
          },
          "metadata": {},
          "execution_count": 54
        }
      ]
    },
    {
      "cell_type": "code",
      "source": [
        "# Calculate and display the sum of all elements in the array 'b'.\n",
        "b.sum()"
      ],
      "metadata": {
        "colab": {
          "base_uri": "https://localhost:8080/"
        },
        "id": "jmo0nVQ81pVt",
        "outputId": "c0ddc18c-08e7-4f63-e255-a9bffb4ecb35"
      },
      "execution_count": 55,
      "outputs": [
        {
          "output_type": "execute_result",
          "data": {
            "text/plain": [
              "np.float32(84.0)"
            ]
          },
          "metadata": {},
          "execution_count": 55
        }
      ]
    },
    {
      "cell_type": "code",
      "source": [
        "# Calculate and display the sum of elements along columns (axis=0) in array 'b'.\n",
        "b.sum(axis=0)"
      ],
      "metadata": {
        "colab": {
          "base_uri": "https://localhost:8080/"
        },
        "id": "Cr3MenJG1pSi",
        "outputId": "23b18125-2c62-469b-a060-b0a6dd349b1a"
      },
      "execution_count": 56,
      "outputs": [
        {
          "output_type": "execute_result",
          "data": {
            "text/plain": [
              "array([ 0.,  3.,  6.,  9., 12., 15., 18., 21.], dtype=float32)"
            ]
          },
          "metadata": {},
          "execution_count": 56
        }
      ]
    },
    {
      "cell_type": "code",
      "source": [
        "# Calculate and display the sum of elements along rows (axis=1) in array 'b'.\n",
        "b.sum(axis=1)"
      ],
      "metadata": {
        "colab": {
          "base_uri": "https://localhost:8080/"
        },
        "id": "XIADhyk51pPU",
        "outputId": "a8dd8fed-3695-4272-9e81-9d5189968ade"
      },
      "execution_count": 57,
      "outputs": [
        {
          "output_type": "execute_result",
          "data": {
            "text/plain": [
              "array([28., 56.], dtype=float32)"
            ]
          },
          "metadata": {},
          "execution_count": 57
        }
      ]
    },
    {
      "cell_type": "code",
      "source": [
        "# Create a 2x3 NumPy array 'c' filled with zeros, with integer data type and C-style order.\n",
        "c = np.zeros((2, 3), dtype='i', order='C')\n",
        "# Display array 'c'.\n",
        "c"
      ],
      "metadata": {
        "colab": {
          "base_uri": "https://localhost:8080/"
        },
        "id": "fPwgvvV81pL6",
        "outputId": "86ea04e4-16b3-45a2-ea97-075258e444ae"
      },
      "execution_count": 58,
      "outputs": [
        {
          "output_type": "execute_result",
          "data": {
            "text/plain": [
              "array([[0, 0, 0],\n",
              "       [0, 0, 0]], dtype=int32)"
            ]
          },
          "metadata": {},
          "execution_count": 58
        }
      ]
    },
    {
      "cell_type": "code",
      "source": [
        "# Create a 3D NumPy array 'c' of shape (2, 3, 4) filled with ones, with integer data type and C-style order.\n",
        "c = np.ones((2, 3, 4), dtype='i', order='C')\n",
        "# Display array 'c'.\n",
        "c"
      ],
      "metadata": {
        "colab": {
          "base_uri": "https://localhost:8080/"
        },
        "id": "3jcszYT-1pI0",
        "outputId": "7180bad0-ed35-4db3-f67b-1fd2c44060b3"
      },
      "execution_count": 59,
      "outputs": [
        {
          "output_type": "execute_result",
          "data": {
            "text/plain": [
              "array([[[1, 1, 1, 1],\n",
              "        [1, 1, 1, 1],\n",
              "        [1, 1, 1, 1]],\n",
              "\n",
              "       [[1, 1, 1, 1],\n",
              "        [1, 1, 1, 1],\n",
              "        [1, 1, 1, 1]]], dtype=int32)"
            ]
          },
          "metadata": {},
          "execution_count": 59
        }
      ]
    },
    {
      "cell_type": "code",
      "source": [
        "# Create a new array 'd' with the same shape and data type as array 'c', filled with uninitialized data (effectively zeros in many cases), with float16 data type and C-style order.\n",
        "d = np.zeros_like(c, dtype='f16', order='C')\n",
        "# Display array 'd'.\n",
        "d"
      ],
      "metadata": {
        "colab": {
          "base_uri": "https://localhost:8080/"
        },
        "id": "GM_YS-ib1o-X",
        "outputId": "4ee91a7e-cd70-42d4-d15f-55bcc3b8c186"
      },
      "execution_count": 60,
      "outputs": [
        {
          "output_type": "execute_result",
          "data": {
            "text/plain": [
              "array([[[0., 0., 0., 0.],\n",
              "        [0., 0., 0., 0.],\n",
              "        [0., 0., 0., 0.]],\n",
              "\n",
              "       [[0., 0., 0., 0.],\n",
              "        [0., 0., 0., 0.],\n",
              "        [0., 0., 0., 0.]]], dtype=float128)"
            ]
          },
          "metadata": {},
          "execution_count": 60
        }
      ]
    },
    {
      "cell_type": "code",
      "source": [
        "# Create a new array 'd' with the same shape and data type as array 'c', filled with ones, with float16 data type and C-style order.\n",
        "d = np.ones_like(c, dtype='f16', order='C')\n",
        "# Display array 'd'.\n",
        "d"
      ],
      "metadata": {
        "colab": {
          "base_uri": "https://localhost:8080/"
        },
        "id": "Y9fVe2po2mhd",
        "outputId": "9abd8512-de7e-4008-9508-52073ae60b88"
      },
      "execution_count": 61,
      "outputs": [
        {
          "output_type": "execute_result",
          "data": {
            "text/plain": [
              "array([[[1., 1., 1., 1.],\n",
              "        [1., 1., 1., 1.],\n",
              "        [1., 1., 1., 1.]],\n",
              "\n",
              "       [[1., 1., 1., 1.],\n",
              "        [1., 1., 1., 1.],\n",
              "        [1., 1., 1., 1.]]], dtype=float128)"
            ]
          },
          "metadata": {},
          "execution_count": 61
        }
      ]
    },
    {
      "cell_type": "code",
      "source": [
        "# Create a new array 'e' of shape (2, 3, 2) with uninitialized data. The contents will be whatever is in memory at that location.\n",
        "e = np.empty((2, 3, 2))\n",
        "# Display array 'e'.\n",
        "e"
      ],
      "metadata": {
        "colab": {
          "base_uri": "https://localhost:8080/"
        },
        "id": "B1LwhOyO2mB3",
        "outputId": "911cade4-648b-4b03-fa51-2c174827f29c"
      },
      "execution_count": 62,
      "outputs": [
        {
          "output_type": "execute_result",
          "data": {
            "text/plain": [
              "array([[[1.35656314e-315, 0.00000000e+000],\n",
              "        [0.00000000e+000, 0.00000000e+000],\n",
              "        [0.00000000e+000, 0.00000000e+000]],\n",
              "\n",
              "       [[0.00000000e+000, 0.00000000e+000],\n",
              "        [0.00000000e+000, 0.00000000e+000],\n",
              "        [0.00000000e+000, 4.75380097e+030]]])"
            ]
          },
          "metadata": {},
          "execution_count": 62
        }
      ]
    },
    {
      "cell_type": "code",
      "source": [
        "# Create a new array 'f' with the same shape and data type as array 'c', filled with uninitialized data.\n",
        "f = np.empty_like(c)\n",
        "# Display array 'f'.\n",
        "f"
      ],
      "metadata": {
        "colab": {
          "base_uri": "https://localhost:8080/"
        },
        "id": "rpVyjqta23vX",
        "outputId": "0ec09136-51cc-4d93-aba7-8df27fd0dd5c"
      },
      "execution_count": 63,
      "outputs": [
        {
          "output_type": "execute_result",
          "data": {
            "text/plain": [
              "array([[[ 274571437,          0,          0,          0],\n",
              "        [         0,          0,          0,          0],\n",
              "        [         0,          0,          0,          0]],\n",
              "\n",
              "       [[         0,          0,          0,          0],\n",
              "        [         0,          0,          0,          0],\n",
              "        [         0,          0,          0, 1179516974]]], dtype=int32)"
            ]
          },
          "metadata": {},
          "execution_count": 63
        }
      ]
    },
    {
      "cell_type": "code",
      "source": [
        "# Create a 5x5 identity matrix using np.eye().\n",
        "np.eye(5)"
      ],
      "metadata": {
        "colab": {
          "base_uri": "https://localhost:8080/"
        },
        "id": "HEeyB4Uo28vk",
        "outputId": "0ad3768c-7f53-48b1-bd3f-e194ee152c76"
      },
      "execution_count": 64,
      "outputs": [
        {
          "output_type": "execute_result",
          "data": {
            "text/plain": [
              "array([[1., 0., 0., 0., 0.],\n",
              "       [0., 1., 0., 0., 0.],\n",
              "       [0., 0., 1., 0., 0.],\n",
              "       [0., 0., 0., 1., 0.],\n",
              "       [0., 0., 0., 0., 1.]])"
            ]
          },
          "metadata": {},
          "execution_count": 64
        }
      ]
    },
    {
      "cell_type": "code",
      "source": [
        "# Create a NumPy array 'g' with 12 evenly spaced values between 5 and 15 (inclusive).\n",
        "g = np.linspace(5, 15, 12)\n",
        "# Display array 'g'.\n",
        "g"
      ],
      "metadata": {
        "colab": {
          "base_uri": "https://localhost:8080/"
        },
        "id": "lealV3I52_fJ",
        "outputId": "b62855ea-9511-4802-b203-45872acfe330"
      },
      "execution_count": 65,
      "outputs": [
        {
          "output_type": "execute_result",
          "data": {
            "text/plain": [
              "array([ 5.        ,  5.90909091,  6.81818182,  7.72727273,  8.63636364,\n",
              "        9.54545455, 10.45454545, 11.36363636, 12.27272727, 13.18181818,\n",
              "       14.09090909, 15.        ])"
            ]
          },
          "metadata": {},
          "execution_count": 65
        }
      ]
    },
    {
      "cell_type": "markdown",
      "source": [
        "# **Meta information**"
      ],
      "metadata": {
        "id": "6cV5BrgA3GEv"
      }
    },
    {
      "cell_type": "code",
      "source": [
        "# Display the total number of elements in the array 'g'.\n",
        "g.size"
      ],
      "metadata": {
        "colab": {
          "base_uri": "https://localhost:8080/"
        },
        "id": "B6Jxuk6F3N3H",
        "outputId": "a81e2b46-a32c-4fdb-d002-cbc504ba064e"
      },
      "execution_count": 66,
      "outputs": [
        {
          "output_type": "execute_result",
          "data": {
            "text/plain": [
              "12"
            ]
          },
          "metadata": {},
          "execution_count": 66
        }
      ]
    },
    {
      "cell_type": "code",
      "source": [
        "# Display the size in bytes of each element in the array 'g'.\n",
        "g.itemsize"
      ],
      "metadata": {
        "colab": {
          "base_uri": "https://localhost:8080/"
        },
        "id": "-GMY35kg3PeZ",
        "outputId": "82adfef6-d4a6-475f-e093-a99a8fb276c1"
      },
      "execution_count": 67,
      "outputs": [
        {
          "output_type": "execute_result",
          "data": {
            "text/plain": [
              "8"
            ]
          },
          "metadata": {},
          "execution_count": 67
        }
      ]
    },
    {
      "cell_type": "code",
      "source": [
        "# Display the number of dimensions (axes) of the array 'g'.\n",
        "g.ndim"
      ],
      "metadata": {
        "colab": {
          "base_uri": "https://localhost:8080/"
        },
        "id": "XCKrlkp03R8B",
        "outputId": "86322fb2-f968-4796-fdac-56dac25e7427"
      },
      "execution_count": 68,
      "outputs": [
        {
          "output_type": "execute_result",
          "data": {
            "text/plain": [
              "1"
            ]
          },
          "metadata": {},
          "execution_count": 68
        }
      ]
    },
    {
      "cell_type": "code",
      "source": [
        "# Display the shape of the array 'g' (a tuple indicating the size of each dimension).\n",
        "g.shape"
      ],
      "metadata": {
        "colab": {
          "base_uri": "https://localhost:8080/"
        },
        "id": "1TvunkEB3TUY",
        "outputId": "5e9a1e2f-4937-40b6-e025-162aa4cfefa9"
      },
      "execution_count": 69,
      "outputs": [
        {
          "output_type": "execute_result",
          "data": {
            "text/plain": [
              "(12,)"
            ]
          },
          "metadata": {},
          "execution_count": 69
        }
      ]
    },
    {
      "cell_type": "code",
      "source": [
        "# Display the data type of the elements in the array 'g'.\n",
        "g.dtype"
      ],
      "metadata": {
        "colab": {
          "base_uri": "https://localhost:8080/"
        },
        "id": "YK1_YypI3U0f",
        "outputId": "70e0b5bb-8177-462e-cba5-4bd6c611f509"
      },
      "execution_count": 70,
      "outputs": [
        {
          "output_type": "execute_result",
          "data": {
            "text/plain": [
              "dtype('float64')"
            ]
          },
          "metadata": {},
          "execution_count": 70
        }
      ]
    },
    {
      "cell_type": "code",
      "source": [
        "# Display the total number of bytes consumed by the elements of the array 'g'.\n",
        "g.nbytes"
      ],
      "metadata": {
        "colab": {
          "base_uri": "https://localhost:8080/"
        },
        "id": "a4_A-xr13WwP",
        "outputId": "4b83ab4d-9066-4b0e-b313-5b2c551d6815"
      },
      "execution_count": 71,
      "outputs": [
        {
          "output_type": "execute_result",
          "data": {
            "text/plain": [
              "96"
            ]
          },
          "metadata": {},
          "execution_count": 71
        }
      ]
    },
    {
      "cell_type": "markdown",
      "source": [
        "# **Reshaping, Resizing, Stacking, Flattening**"
      ],
      "metadata": {
        "id": "aS930KU33d-9"
      }
    },
    {
      "cell_type": "code",
      "source": [
        "g = np.arange(15)\n",
        "# Display the array 'g'.\n",
        "g"
      ],
      "metadata": {
        "colab": {
          "base_uri": "https://localhost:8080/"
        },
        "id": "QwH88zSflBVz",
        "outputId": "7fdc6914-8922-4480-ae8a-df81202e1bd4"
      },
      "execution_count": 72,
      "outputs": [
        {
          "output_type": "execute_result",
          "data": {
            "text/plain": [
              "array([ 0,  1,  2,  3,  4,  5,  6,  7,  8,  9, 10, 11, 12, 13, 14])"
            ]
          },
          "metadata": {},
          "execution_count": 72
        }
      ]
    },
    {
      "cell_type": "code",
      "source": [
        "# Display the shape of the array 'g'.\n",
        "g.shape"
      ],
      "metadata": {
        "colab": {
          "base_uri": "https://localhost:8080/"
        },
        "id": "GH0Zw2xHlDFW",
        "outputId": "0fb27099-8656-4df1-ccee-00759b43b466"
      },
      "execution_count": 73,
      "outputs": [
        {
          "output_type": "execute_result",
          "data": {
            "text/plain": [
              "(15,)"
            ]
          },
          "metadata": {},
          "execution_count": 73
        }
      ]
    },
    {
      "cell_type": "code",
      "source": [
        "# Display the shape of the array 'g' using np.shape().\n",
        "np.shape(g)"
      ],
      "metadata": {
        "colab": {
          "base_uri": "https://localhost:8080/"
        },
        "id": "EvuvOyoglDCW",
        "outputId": "3600478d-d900-4795-bd4c-2c210d548a00"
      },
      "execution_count": 74,
      "outputs": [
        {
          "output_type": "execute_result",
          "data": {
            "text/plain": [
              "(15,)"
            ]
          },
          "metadata": {},
          "execution_count": 74
        }
      ]
    },
    {
      "cell_type": "code",
      "source": [
        "# Reshape the array 'g' into a 3x5 matrix and display the result.\n",
        "g.reshape((3, 5))"
      ],
      "metadata": {
        "colab": {
          "base_uri": "https://localhost:8080/"
        },
        "id": "xgLy-n2olCsh",
        "outputId": "85db65fd-3e33-42fe-cb3c-bc51a432bfd4"
      },
      "execution_count": 76,
      "outputs": [
        {
          "output_type": "execute_result",
          "data": {
            "text/plain": [
              "array([[ 0,  1,  2,  3,  4],\n",
              "       [ 5,  6,  7,  8,  9],\n",
              "       [10, 11, 12, 13, 14]])"
            ]
          },
          "metadata": {},
          "execution_count": 76
        }
      ]
    },
    {
      "cell_type": "code",
      "source": [
        "# Reshape the array 'g' into a 5x3 matrix and assign it to variable 'h', then display 'h'.\n",
        "h = g.reshape((5, 3))\n",
        "h"
      ],
      "metadata": {
        "colab": {
          "base_uri": "https://localhost:8080/"
        },
        "id": "778zjaQ-lCpW",
        "outputId": "009bfacb-5844-4250-bddc-3681873ed417"
      },
      "execution_count": 77,
      "outputs": [
        {
          "output_type": "execute_result",
          "data": {
            "text/plain": [
              "array([[ 0,  1,  2],\n",
              "       [ 3,  4,  5],\n",
              "       [ 6,  7,  8],\n",
              "       [ 9, 10, 11],\n",
              "       [12, 13, 14]])"
            ]
          },
          "metadata": {},
          "execution_count": 77
        }
      ]
    },
    {
      "cell_type": "code",
      "source": [
        "# Display the transpose of array 'h'.\n",
        "h.T"
      ],
      "metadata": {
        "colab": {
          "base_uri": "https://localhost:8080/"
        },
        "id": "HtmgxOQtlCl_",
        "outputId": "9f748d42-efba-47b2-c403-22be141acf68"
      },
      "execution_count": 78,
      "outputs": [
        {
          "output_type": "execute_result",
          "data": {
            "text/plain": [
              "array([[ 0,  3,  6,  9, 12],\n",
              "       [ 1,  4,  7, 10, 13],\n",
              "       [ 2,  5,  8, 11, 14]])"
            ]
          },
          "metadata": {},
          "execution_count": 78
        }
      ]
    },
    {
      "cell_type": "code",
      "source": [
        "# Display the transpose of array 'h' using the transpose() method.\n",
        "h.transpose()"
      ],
      "metadata": {
        "colab": {
          "base_uri": "https://localhost:8080/"
        },
        "id": "EQLg5e3UldYJ",
        "outputId": "0cba9b56-c6b9-43dc-fd14-ef48e231bde3"
      },
      "execution_count": 79,
      "outputs": [
        {
          "output_type": "execute_result",
          "data": {
            "text/plain": [
              "array([[ 0,  3,  6,  9, 12],\n",
              "       [ 1,  4,  7, 10, 13],\n",
              "       [ 2,  5,  8, 11, 14]])"
            ]
          },
          "metadata": {},
          "execution_count": 79
        }
      ]
    },
    {
      "cell_type": "code",
      "source": [
        "# Display the current state of array 'g'.\n",
        "g"
      ],
      "metadata": {
        "colab": {
          "base_uri": "https://localhost:8080/"
        },
        "id": "R-g7RoJylgML",
        "outputId": "e555ca33-7593-4947-e1f1-538298a2a9cc"
      },
      "execution_count": 80,
      "outputs": [
        {
          "output_type": "execute_result",
          "data": {
            "text/plain": [
              "array([ 0,  1,  2,  3,  4,  5,  6,  7,  8,  9, 10, 11, 12, 13, 14])"
            ]
          },
          "metadata": {},
          "execution_count": 80
        }
      ]
    },
    {
      "cell_type": "code",
      "source": [
        "# Resize the array 'g' to a shape of (3, 1) and display the result.\n",
        "np.resize(g, (3, 1))"
      ],
      "metadata": {
        "colab": {
          "base_uri": "https://localhost:8080/"
        },
        "id": "U5sSlBxhlhLp",
        "outputId": "5509f7b1-9421-4015-ba5b-a1471c40062e"
      },
      "execution_count": 81,
      "outputs": [
        {
          "output_type": "execute_result",
          "data": {
            "text/plain": [
              "array([[0],\n",
              "       [1],\n",
              "       [2]])"
            ]
          },
          "metadata": {},
          "execution_count": 81
        }
      ]
    },
    {
      "cell_type": "code",
      "source": [
        "# Resize the array 'g' to a shape of (1, 5) and display the result.\n",
        "np.resize(g, (1, 5))"
      ],
      "metadata": {
        "colab": {
          "base_uri": "https://localhost:8080/"
        },
        "id": "EhmPBH2allkE",
        "outputId": "0bf269f5-f0f8-42ff-eb31-525bf670730f"
      },
      "execution_count": 82,
      "outputs": [
        {
          "output_type": "execute_result",
          "data": {
            "text/plain": [
              "array([[0, 1, 2, 3, 4]])"
            ]
          },
          "metadata": {},
          "execution_count": 82
        }
      ]
    },
    {
      "cell_type": "code",
      "source": [
        "# Resize the array 'g' to a shape of (2, 5) and display the result.\n",
        "np.resize(g, (2, 5))"
      ],
      "metadata": {
        "colab": {
          "base_uri": "https://localhost:8080/"
        },
        "id": "_ii6tXjTlpZ_",
        "outputId": "e57c4a3e-0201-4e60-a96f-c54b05afaaea"
      },
      "execution_count": 83,
      "outputs": [
        {
          "output_type": "execute_result",
          "data": {
            "text/plain": [
              "array([[0, 1, 2, 3, 4],\n",
              "       [5, 6, 7, 8, 9]])"
            ]
          },
          "metadata": {},
          "execution_count": 83
        }
      ]
    },
    {
      "cell_type": "code",
      "source": [
        "# Resize the array 'g' to a shape of (5, 4), assign it to 'n', and display 'n'. Note that resizing to a larger size repeats the original array elements.\n",
        "n = np.resize(g, (5, 4))\n",
        "n"
      ],
      "metadata": {
        "colab": {
          "base_uri": "https://localhost:8080/"
        },
        "id": "Gvki1ncKlv-G",
        "outputId": "affce657-8c97-4a5b-b040-8f79d56ca20b"
      },
      "execution_count": 84,
      "outputs": [
        {
          "output_type": "execute_result",
          "data": {
            "text/plain": [
              "array([[ 0,  1,  2,  3],\n",
              "       [ 4,  5,  6,  7],\n",
              "       [ 8,  9, 10, 11],\n",
              "       [12, 13, 14,  0],\n",
              "       [ 1,  2,  3,  4]])"
            ]
          },
          "metadata": {},
          "execution_count": 84
        }
      ]
    },
    {
      "cell_type": "code",
      "source": [
        "# Display the current state of array 'h'.\n",
        "h"
      ],
      "metadata": {
        "colab": {
          "base_uri": "https://localhost:8080/"
        },
        "id": "hf7RqAgclv6m",
        "outputId": "065c92a9-6cf1-403b-fa4a-cf6d9c5d52ba"
      },
      "execution_count": 85,
      "outputs": [
        {
          "output_type": "execute_result",
          "data": {
            "text/plain": [
              "array([[ 0,  1,  2],\n",
              "       [ 3,  4,  5],\n",
              "       [ 6,  7,  8],\n",
              "       [ 9, 10, 11],\n",
              "       [12, 13, 14]])"
            ]
          },
          "metadata": {},
          "execution_count": 85
        }
      ]
    },
    {
      "cell_type": "code",
      "source": [
        "# Horizontally stack array 'h' and 'h' multiplied by 2, then display the result.\n",
        "np.hstack((h, 2 * h))"
      ],
      "metadata": {
        "colab": {
          "base_uri": "https://localhost:8080/"
        },
        "id": "2l9FCIj-lv3f",
        "outputId": "379f8065-8605-42c7-ca28-dde93f765edd"
      },
      "execution_count": 86,
      "outputs": [
        {
          "output_type": "execute_result",
          "data": {
            "text/plain": [
              "array([[ 0,  1,  2,  0,  2,  4],\n",
              "       [ 3,  4,  5,  6,  8, 10],\n",
              "       [ 6,  7,  8, 12, 14, 16],\n",
              "       [ 9, 10, 11, 18, 20, 22],\n",
              "       [12, 13, 14, 24, 26, 28]])"
            ]
          },
          "metadata": {},
          "execution_count": 86
        }
      ]
    },
    {
      "cell_type": "code",
      "source": [
        "# Vertically stack array 'h' and 'h' multiplied by 0.5, then display the result.\n",
        "np.vstack((h, 0.5 * h))"
      ],
      "metadata": {
        "colab": {
          "base_uri": "https://localhost:8080/"
        },
        "id": "grrtlEIUl6TS",
        "outputId": "e6b90590-512d-4c84-d193-339f7cda8f28"
      },
      "execution_count": 87,
      "outputs": [
        {
          "output_type": "execute_result",
          "data": {
            "text/plain": [
              "array([[ 0. ,  1. ,  2. ],\n",
              "       [ 3. ,  4. ,  5. ],\n",
              "       [ 6. ,  7. ,  8. ],\n",
              "       [ 9. , 10. , 11. ],\n",
              "       [12. , 13. , 14. ],\n",
              "       [ 0. ,  0.5,  1. ],\n",
              "       [ 1.5,  2. ,  2.5],\n",
              "       [ 3. ,  3.5,  4. ],\n",
              "       [ 4.5,  5. ,  5.5],\n",
              "       [ 6. ,  6.5,  7. ]])"
            ]
          },
          "metadata": {},
          "execution_count": 87
        }
      ]
    },
    {
      "cell_type": "code",
      "source": [
        "# Display the current state of array 'h'.\n",
        "h"
      ],
      "metadata": {
        "colab": {
          "base_uri": "https://localhost:8080/"
        },
        "id": "DAK3baPpl_Wt",
        "outputId": "ef3fb4c1-73bc-40c6-82b8-82ad1411a5e4"
      },
      "execution_count": 88,
      "outputs": [
        {
          "output_type": "execute_result",
          "data": {
            "text/plain": [
              "array([[ 0,  1,  2],\n",
              "       [ 3,  4,  5],\n",
              "       [ 6,  7,  8],\n",
              "       [ 9, 10, 11],\n",
              "       [12, 13, 14]])"
            ]
          },
          "metadata": {},
          "execution_count": 88
        }
      ]
    },
    {
      "cell_type": "code",
      "source": [
        "# Flatten the array 'h' into a 1D array (row-major order by default) and display the result.\n",
        "h.flatten()"
      ],
      "metadata": {
        "colab": {
          "base_uri": "https://localhost:8080/"
        },
        "id": "oxrv5tpwmAcl",
        "outputId": "f4930b0a-5684-4ec0-cc12-a2d06e1be193"
      },
      "execution_count": 89,
      "outputs": [
        {
          "output_type": "execute_result",
          "data": {
            "text/plain": [
              "array([ 0,  1,  2,  3,  4,  5,  6,  7,  8,  9, 10, 11, 12, 13, 14])"
            ]
          },
          "metadata": {},
          "execution_count": 89
        }
      ]
    },
    {
      "cell_type": "code",
      "source": [
        "# Flatten the array 'h' into a 1D array using C-style (row-major) order and display the result.\n",
        "h.flatten(order='C')"
      ],
      "metadata": {
        "colab": {
          "base_uri": "https://localhost:8080/"
        },
        "id": "th7SUV1qmCVC",
        "outputId": "b1974387-6da3-4bd4-adb3-2d21895158d1"
      },
      "execution_count": 90,
      "outputs": [
        {
          "output_type": "execute_result",
          "data": {
            "text/plain": [
              "array([ 0,  1,  2,  3,  4,  5,  6,  7,  8,  9, 10, 11, 12, 13, 14])"
            ]
          },
          "metadata": {},
          "execution_count": 90
        }
      ]
    },
    {
      "cell_type": "code",
      "source": [
        "# Flatten the array 'h' into a 1D array using Fortran-style (column-major) order and display the result.\n",
        "h.flatten(order='F')"
      ],
      "metadata": {
        "colab": {
          "base_uri": "https://localhost:8080/"
        },
        "id": "isitpLC8mHR9",
        "outputId": "1c195c32-e99c-44b9-b2d1-40dc6d2fc2a9"
      },
      "execution_count": 91,
      "outputs": [
        {
          "output_type": "execute_result",
          "data": {
            "text/plain": [
              "array([ 0,  3,  6,  9, 12,  1,  4,  7, 10, 13,  2,  5,  8, 11, 14])"
            ]
          },
          "metadata": {},
          "execution_count": 91
        }
      ]
    },
    {
      "cell_type": "code",
      "source": [
        "# Iterate through the flattened array 'h' (row-major order by default) and print each element followed by a comma.\n",
        "for i in h.flat:\n",
        "  print(i, end=',')"
      ],
      "metadata": {
        "colab": {
          "base_uri": "https://localhost:8080/"
        },
        "id": "RcgANLeimOyd",
        "outputId": "6cf3f41f-1ed5-4c99-c3a4-597f6d8e7bc2"
      },
      "execution_count": 92,
      "outputs": [
        {
          "output_type": "stream",
          "name": "stdout",
          "text": [
            "0,1,2,3,4,5,6,7,8,9,10,11,12,13,14,"
          ]
        }
      ]
    },
    {
      "cell_type": "code",
      "source": [
        "# Iterate through the array 'h' using ravel (which returns a view or copy depending on the order and original array) in C-style (row-major) order and print each element followed by a comma.\n",
        "for i in h.ravel(order='C'):\n",
        "  print(i, end=',')"
      ],
      "metadata": {
        "colab": {
          "base_uri": "https://localhost:8080/"
        },
        "id": "yyeTVkb-mU5A",
        "outputId": "fc084b16-c88e-4d67-8098-34b959d9b053"
      },
      "execution_count": 93,
      "outputs": [
        {
          "output_type": "stream",
          "name": "stdout",
          "text": [
            "0,1,2,3,4,5,6,7,8,9,10,11,12,13,14,"
          ]
        }
      ]
    },
    {
      "cell_type": "code",
      "source": [
        "# Iterate through the array 'h' using ravel (which returns a view or copy depending on the order and original array) in Fortran-style (column-major) order and print each element followed by a comma.\n",
        "for i in h.ravel(order='F'):\n",
        "  print(i, end=',')"
      ],
      "metadata": {
        "colab": {
          "base_uri": "https://localhost:8080/"
        },
        "id": "iIiHQNnVmYtF",
        "outputId": "049a95a0-2f77-45d4-f9ff-b8faa4f2f6c8"
      },
      "execution_count": 95,
      "outputs": [
        {
          "output_type": "stream",
          "name": "stdout",
          "text": [
            "0,3,6,9,12,1,4,7,10,13,2,5,8,11,14,"
          ]
        }
      ]
    }
  ]
}