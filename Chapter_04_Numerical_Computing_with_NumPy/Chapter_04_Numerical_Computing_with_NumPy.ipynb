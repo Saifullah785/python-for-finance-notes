{
  "nbformat": 4,
  "nbformat_minor": 0,
  "metadata": {
    "colab": {
      "provenance": [],
      "authorship_tag": "ABX9TyPTAREneWXHKEMAc5uvQlPL",
      "include_colab_link": true
    },
    "kernelspec": {
      "name": "python3",
      "display_name": "Python 3"
    },
    "language_info": {
      "name": "python"
    }
  },
  "cells": [
    {
      "cell_type": "markdown",
      "metadata": {
        "id": "view-in-github",
        "colab_type": "text"
      },
      "source": [
        "<a href=\"https://colab.research.google.com/github/Saifullah785/python-for-finance-notes/blob/main/Chapter_04_Numerical_Computing_with_NumPy/Chapter_04_Numerical_Computing_with_NumPy.ipynb\" target=\"_parent\"><img src=\"https://colab.research.google.com/assets/colab-badge.svg\" alt=\"Open In Colab\"/></a>"
      ]
    },
    {
      "cell_type": "markdown",
      "source": [
        "# **Numerical Computing with NumPy**"
      ],
      "metadata": {
        "id": "M_Uiz8AQMThZ"
      }
    },
    {
      "cell_type": "markdown",
      "source": [
        "**Arrays with Python Lists**"
      ],
      "metadata": {
        "id": "Lw1vwbs5MvqW"
      }
    },
    {
      "cell_type": "code",
      "execution_count": 2,
      "metadata": {
        "colab": {
          "base_uri": "https://localhost:8080/"
        },
        "id": "-0ybGpEZL_JG",
        "outputId": "a363062a-0ff3-4f09-b384-c65282ffb7fb"
      },
      "outputs": [
        {
          "output_type": "execute_result",
          "data": {
            "text/plain": [
              "[0.5, 0.75, 1.0, 1.5, 2.0]"
            ]
          },
          "metadata": {},
          "execution_count": 2
        }
      ],
      "source": [
        "# Define a Python list 'v' with some numerical values.\n",
        "v = [0.5, 0.75, 1.0, 1.5, 2.0]\n",
        "# Display the list 'v'.\n",
        "v"
      ]
    },
    {
      "cell_type": "code",
      "source": [
        "# Create a list 'm' containing three copies of the list 'v'.\n",
        "m = [v, v, v]\n",
        "# Display the list of lists 'm'.\n",
        "m"
      ],
      "metadata": {
        "colab": {
          "base_uri": "https://localhost:8080/"
        },
        "id": "Yjs9IId5M5Uj",
        "outputId": "70883258-29ef-4ae5-ff8a-cba34de1c3cf"
      },
      "execution_count": 3,
      "outputs": [
        {
          "output_type": "execute_result",
          "data": {
            "text/plain": [
              "[[0.5, 0.75, 1.0, 1.5, 2.0],\n",
              " [0.5, 0.75, 1.0, 1.5, 2.0],\n",
              " [0.5, 0.75, 1.0, 1.5, 2.0]]"
            ]
          },
          "metadata": {},
          "execution_count": 3
        }
      ]
    },
    {
      "cell_type": "code",
      "source": [
        "# Access and display the second element (at index 1) of the list of lists 'm'.\n",
        "m[1]"
      ],
      "metadata": {
        "colab": {
          "base_uri": "https://localhost:8080/"
        },
        "id": "qko2uC1kM6Yu",
        "outputId": "dc491a74-b478-4c57-e0f1-d1894ba96865"
      },
      "execution_count": 4,
      "outputs": [
        {
          "output_type": "execute_result",
          "data": {
            "text/plain": [
              "[0.5, 0.75, 1.0, 1.5, 2.0]"
            ]
          },
          "metadata": {},
          "execution_count": 4
        }
      ]
    },
    {
      "cell_type": "code",
      "source": [
        "# Access and display the first element (at index 0) of the second list (at index 1) within 'm'.\n",
        "m[1][0]"
      ],
      "metadata": {
        "colab": {
          "base_uri": "https://localhost:8080/"
        },
        "id": "3ihiGzceM6VW",
        "outputId": "6c593b25-74cb-42d8-ef2b-d7c3dba57c56"
      },
      "execution_count": 5,
      "outputs": [
        {
          "output_type": "execute_result",
          "data": {
            "text/plain": [
              "0.5"
            ]
          },
          "metadata": {},
          "execution_count": 5
        }
      ]
    },
    {
      "cell_type": "code",
      "source": [
        "# Define two Python lists 'v1' and 'v2'.\n",
        "v1 = [0.5, 1.5]\n",
        "# Display 'v1'.\n",
        "v1\n",
        "\n",
        "v2 = [1, 2]\n",
        "# Display 'v2'.\n",
        "v2\n",
        "\n",
        "# Create a list of lists 'm' containing 'v1' and 'v2'.\n",
        "m = [v1, v2]\n",
        "# Display 'm'.\n",
        "m\n",
        "\n",
        "# Create a list of lists of lists 'c' containing two copies of 'm'.\n",
        "c = [m, m]\n",
        "# Display 'c'.\n",
        "c"
      ],
      "metadata": {
        "colab": {
          "base_uri": "https://localhost:8080/"
        },
        "id": "KJdt3uRKM6Su",
        "outputId": "c6e1b21c-0fa7-4879-ede9-1ce9170ef91e"
      },
      "execution_count": 11,
      "outputs": [
        {
          "output_type": "execute_result",
          "data": {
            "text/plain": [
              "[[[0.5, 1.5], [1, 2]], [[0.5, 1.5], [1, 2]]]"
            ]
          },
          "metadata": {},
          "execution_count": 11
        }
      ]
    },
    {
      "cell_type": "code",
      "source": [
        "# Access and display the first element (at index 0) of the second list (at index 1) within the second list (at index 1) of 'c'.\n",
        "c[1][1][0]"
      ],
      "metadata": {
        "colab": {
          "base_uri": "https://localhost:8080/"
        },
        "id": "sVIw2lC5M6Mg",
        "outputId": "8818db44-9c6c-4b5a-eca9-5f4d733080e6"
      },
      "execution_count": 12,
      "outputs": [
        {
          "output_type": "execute_result",
          "data": {
            "text/plain": [
              "1"
            ]
          },
          "metadata": {},
          "execution_count": 12
        }
      ]
    },
    {
      "cell_type": "code",
      "source": [
        "# Redefine the list 'v'.\n",
        "v = [0.5, 0.75, 1.0, 1.5, 2.0]\n",
        "# Redefine the list of lists 'm' with three copies of 'v'.\n",
        "m = [v, v, v]\n",
        "# Display 'm'.\n",
        "m"
      ],
      "metadata": {
        "colab": {
          "base_uri": "https://localhost:8080/"
        },
        "id": "zaDMmup8M6H6",
        "outputId": "32be0b3e-55e3-474b-8fce-24dbfcfa735c"
      },
      "execution_count": 13,
      "outputs": [
        {
          "output_type": "execute_result",
          "data": {
            "text/plain": [
              "[[0.5, 0.75, 1.0, 1.5, 2.0],\n",
              " [0.5, 0.75, 1.0, 1.5, 2.0],\n",
              " [0.5, 0.75, 1.0, 1.5, 2.0]]"
            ]
          },
          "metadata": {},
          "execution_count": 13
        }
      ]
    },
    {
      "cell_type": "code",
      "source": [
        "# Modify the first element of the list 'v' to the string 'Python'.\n",
        "v [0] = 'Python'\n",
        "# Display 'm'. Note that because 'm' contains references to 'v', the change in 'v' is reflected in 'm'.\n",
        "m"
      ],
      "metadata": {
        "colab": {
          "base_uri": "https://localhost:8080/"
        },
        "id": "qCwPIwkoM6Fi",
        "outputId": "a230962e-2b8d-4e56-a38d-b0f587b39814"
      },
      "execution_count": 14,
      "outputs": [
        {
          "output_type": "execute_result",
          "data": {
            "text/plain": [
              "[['Python', 0.75, 1.0, 1.5, 2.0],\n",
              " ['Python', 0.75, 1.0, 1.5, 2.0],\n",
              " ['Python', 0.75, 1.0, 1.5, 2.0]]"
            ]
          },
          "metadata": {},
          "execution_count": 14
        }
      ]
    },
    {
      "cell_type": "code",
      "source": [
        "# Import the deepcopy function from the copy module.\n",
        "from copy import deepcopy\n",
        "# Redefine the list 'v'.\n",
        "v = [0.5, 0.75, 1.0, 1.5, 2.0]\n",
        "# Create a list of lists 'm' with three independent copies of 'v' using deepcopy.\n",
        "m = 3 * [deepcopy (v), ]\n",
        "# Display 'm'.\n",
        "m"
      ],
      "metadata": {
        "colab": {
          "base_uri": "https://localhost:8080/"
        },
        "id": "eSCArLWSM6C1",
        "outputId": "d888d462-089d-4742-b3bc-37b1bda4e60a"
      },
      "execution_count": 15,
      "outputs": [
        {
          "output_type": "execute_result",
          "data": {
            "text/plain": [
              "[[0.5, 0.75, 1.0, 1.5, 2.0],\n",
              " [0.5, 0.75, 1.0, 1.5, 2.0],\n",
              " [0.5, 0.75, 1.0, 1.5, 2.0]]"
            ]
          },
          "metadata": {},
          "execution_count": 15
        }
      ]
    },
    {
      "cell_type": "code",
      "source": [
        "# Modify the first element of the list 'v' to the string 'Python'.\n",
        "v[0] = 'Python'\n",
        "# Display 'm'. Note that because deepcopy was used, the change in 'v' does not affect the lists within 'm'.\n",
        "m"
      ],
      "metadata": {
        "colab": {
          "base_uri": "https://localhost:8080/"
        },
        "id": "CZk4DnriM6AQ",
        "outputId": "f12a0805-ae6a-4872-f969-14676ca6ae6c"
      },
      "execution_count": 16,
      "outputs": [
        {
          "output_type": "execute_result",
          "data": {
            "text/plain": [
              "[[0.5, 0.75, 1.0, 1.5, 2.0],\n",
              " [0.5, 0.75, 1.0, 1.5, 2.0],\n",
              " [0.5, 0.75, 1.0, 1.5, 2.0]]"
            ]
          },
          "metadata": {},
          "execution_count": 16
        }
      ]
    },
    {
      "cell_type": "markdown",
      "source": [
        "# **Interlude: Python Array Class**"
      ],
      "metadata": {
        "id": "r5Exe4kXO9UR"
      }
    },
    {
      "cell_type": "code",
      "source": [
        "# Define a Python list 'v' with some numerical values.\n",
        "v = [0.5, 0.75, 1.0, 1.5, 2.0]"
      ],
      "metadata": {
        "id": "FFyM0OGsM58K"
      },
      "execution_count": 17,
      "outputs": []
    },
    {
      "cell_type": "code",
      "source": [
        "# Import the array module.\n",
        "import array"
      ],
      "metadata": {
        "id": "i1K8as_LM55J"
      },
      "execution_count": 25,
      "outputs": []
    },
    {
      "cell_type": "code",
      "source": [
        "# Create an array 'a' of type 'f' (float) from the list 'v'.\n",
        "a = array.array('f', v)\n",
        "# Display the array 'a'.\n",
        "a"
      ],
      "metadata": {
        "colab": {
          "base_uri": "https://localhost:8080/"
        },
        "id": "HXJ2PqG4M52j",
        "outputId": "abc620db-8b45-4936-9a42-2d11366bf640"
      },
      "execution_count": 26,
      "outputs": [
        {
          "output_type": "execute_result",
          "data": {
            "text/plain": [
              "array('f', [0.5, 0.75, 1.0, 1.5, 2.0])"
            ]
          },
          "metadata": {},
          "execution_count": 26
        }
      ]
    },
    {
      "cell_type": "code",
      "source": [
        "# Append a value (0.5) to the array 'a'.\n",
        "a.append(0.5)\n",
        "# Display the modified array 'a'.\n",
        "a"
      ],
      "metadata": {
        "colab": {
          "base_uri": "https://localhost:8080/"
        },
        "id": "qcf0u9K3PWCM",
        "outputId": "c81d7360-93a3-4607-9b4f-74541ab2b632"
      },
      "execution_count": 27,
      "outputs": [
        {
          "output_type": "execute_result",
          "data": {
            "text/plain": [
              "array('f', [0.5, 0.75, 1.0, 1.5, 2.0, 0.5])"
            ]
          },
          "metadata": {},
          "execution_count": 27
        }
      ]
    },
    {
      "cell_type": "code",
      "source": [
        "# Extend the array 'a' with elements from a list ([5.0, 6.75]).\n",
        "a.extend([5.0, 6.75])\n",
        "# Display the modified array 'a'.\n",
        "a"
      ],
      "metadata": {
        "colab": {
          "base_uri": "https://localhost:8080/"
        },
        "id": "LAgl0JppM50B",
        "outputId": "d1a57f0f-4eeb-4bf3-9c67-899d9e029de0"
      },
      "execution_count": 28,
      "outputs": [
        {
          "output_type": "execute_result",
          "data": {
            "text/plain": [
              "array('f', [0.5, 0.75, 1.0, 1.5, 2.0, 0.5, 5.0, 6.75])"
            ]
          },
          "metadata": {},
          "execution_count": 28
        }
      ]
    },
    {
      "cell_type": "code",
      "source": [
        "# Attempt to multiply the array 'a' by 2. For array.array, this concatenates the array with itself.\n",
        "2 * a"
      ],
      "metadata": {
        "colab": {
          "base_uri": "https://localhost:8080/"
        },
        "id": "Es-4hkOVM5w7",
        "outputId": "5b26bc93-2520-4e1c-b9e1-a4ade3756f5f"
      },
      "execution_count": 29,
      "outputs": [
        {
          "output_type": "execute_result",
          "data": {
            "text/plain": [
              "array('f', [0.5, 0.75, 1.0, 1.5, 2.0, 0.5, 5.0, 6.75, 0.5, 0.75, 1.0, 1.5, 2.0, 0.5, 5.0, 6.75])"
            ]
          },
          "metadata": {},
          "execution_count": 29
        }
      ]
    },
    {
      "cell_type": "code",
      "source": [
        "# Convert the array 'a' back to a Python list.\n",
        "a.tolist()"
      ],
      "metadata": {
        "colab": {
          "base_uri": "https://localhost:8080/"
        },
        "id": "BBCxgUGXM5uh",
        "outputId": "0f580290-63cf-4b47-fe0a-33d0de747021"
      },
      "execution_count": 30,
      "outputs": [
        {
          "output_type": "execute_result",
          "data": {
            "text/plain": [
              "[0.5, 0.75, 1.0, 1.5, 2.0, 0.5, 5.0, 6.75]"
            ]
          },
          "metadata": {},
          "execution_count": 30
        }
      ]
    },
    {
      "cell_type": "code",
      "source": [
        "# Open a file named 'array.apy' in binary write mode ('wb').\n",
        "f = open('array.apy', 'wb')\n",
        "# Write the contents of array 'a' to the file.\n",
        "a.tofile(f)\n",
        "# Close the file.\n",
        "f.close()"
      ],
      "metadata": {
        "id": "qy9nutwRM5sP"
      },
      "execution_count": 32,
      "outputs": []
    },
    {
      "cell_type": "code",
      "source": [
        "# Open a file named 'array.apy' in binary write mode ('wb') using a 'with' statement, which ensures the file is closed automatically.\n",
        "with open ('array.apy', 'wb') as f:\n",
        "  # Write the contents of array 'a' to the file.\n",
        "  a.tofile(f)"
      ],
      "metadata": {
        "id": "vRQm1PIFM5pw"
      },
      "execution_count": 42,
      "outputs": []
    },
    {
      "cell_type": "code",
      "source": [
        "# Execute a shell command to list files starting with 'arr' in the current directory, showing file permissions, number of links, owner, group, size, and modification time.\n",
        "!ls -n arr*"
      ],
      "metadata": {
        "colab": {
          "base_uri": "https://localhost:8080/"
        },
        "id": "Y3_WZLkXQJde",
        "outputId": "3eac26d3-2172-46b1-b14a-4086039f8ce9"
      },
      "execution_count": 44,
      "outputs": [
        {
          "output_type": "stream",
          "name": "stdout",
          "text": [
            "-rw-r--r-- 1 0 0 32 Jul 11 16:55 array.apy\n"
          ]
        }
      ]
    },
    {
      "cell_type": "code",
      "source": [
        "# Create an empty array 'b' of type 'f' (float).\n",
        "b = array.array('f')\n",
        "# Display the empty array 'b'.\n",
        "b"
      ],
      "metadata": {
        "colab": {
          "base_uri": "https://localhost:8080/"
        },
        "id": "rF318C66QMtl",
        "outputId": "0bca652d-ef9b-4844-be27-69a6b7b0423f"
      },
      "execution_count": 45,
      "outputs": [
        {
          "output_type": "execute_result",
          "data": {
            "text/plain": [
              "array('f')"
            ]
          },
          "metadata": {},
          "execution_count": 45
        }
      ]
    },
    {
      "cell_type": "code",
      "source": [
        "# Open the file 'array.apy' in binary read mode ('rb').\n",
        "with open('array.apy', 'rb') as f:\n",
        "  # Read 2 elements of type 'f' (float) from the file into array 'b'.\n",
        "  b.fromfile(f, 2)"
      ],
      "metadata": {
        "id": "icR03WeYQQyc"
      },
      "execution_count": 46,
      "outputs": []
    },
    {
      "cell_type": "code",
      "source": [
        "# Display the array 'b' after reading data from the file.\n",
        "b"
      ],
      "metadata": {
        "colab": {
          "base_uri": "https://localhost:8080/"
        },
        "id": "yrxxTVwQQdBm",
        "outputId": "6045722a-57a3-47a4-8ec5-d928fe0c6dbb"
      },
      "execution_count": 47,
      "outputs": [
        {
          "output_type": "execute_result",
          "data": {
            "text/plain": [
              "array('f', [0.5, 0.75])"
            ]
          },
          "metadata": {},
          "execution_count": 47
        }
      ]
    },
    {
      "cell_type": "code",
      "source": [
        "# Create an empty array 'b' of type 'd' (double).\n",
        "b = array.array('d')\n",
        "# Display the empty array 'b'.\n",
        "b"
      ],
      "metadata": {
        "colab": {
          "base_uri": "https://localhost:8080/"
        },
        "id": "gElAByJyQd_F",
        "outputId": "b3507f6b-da0d-4dfc-e1e7-1c07cdd27650"
      },
      "execution_count": 48,
      "outputs": [
        {
          "output_type": "execute_result",
          "data": {
            "text/plain": [
              "array('d')"
            ]
          },
          "metadata": {},
          "execution_count": 48
        }
      ]
    },
    {
      "cell_type": "code",
      "source": [
        "# Open the file 'array.apy' in binary read mode ('rb').\n",
        "with open('array.apy', 'rb') as f:\n",
        "    # Read 2 elements of type 'd' (double) from the file into array 'b'. Note that reading floats as doubles can lead to unexpected values due to different byte sizes.\n",
        "    b.fromfile(f, 2)"
      ],
      "metadata": {
        "id": "1YT7735iQkRE"
      },
      "execution_count": 49,
      "outputs": []
    },
    {
      "cell_type": "code",
      "source": [
        "# Display the array 'b' after attempting to read float data as doubles from the file.\n",
        "b"
      ],
      "metadata": {
        "colab": {
          "base_uri": "https://localhost:8080/"
        },
        "id": "IbMhthejQoBw",
        "outputId": "ca25deb7-0a39-4fd2-a9c5-a9ed164c5599"
      },
      "execution_count": 50,
      "outputs": [
        {
          "output_type": "execute_result",
          "data": {
            "text/plain": [
              "array('d', [0.0004882813645963324, 0.12500002956949174])"
            ]
          },
          "metadata": {},
          "execution_count": 50
        }
      ]
    }
  ]
}