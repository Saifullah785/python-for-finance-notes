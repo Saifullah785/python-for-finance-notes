{
  "nbformat": 4,
  "nbformat_minor": 0,
  "metadata": {
    "colab": {
      "provenance": [],
      "authorship_tag": "ABX9TyPkG4MeRq6Ku+J8pbLpAQ20",
      "include_colab_link": true
    },
    "kernelspec": {
      "name": "python3",
      "display_name": "Python 3"
    },
    "language_info": {
      "name": "python"
    }
  },
  "cells": [
    {
      "cell_type": "markdown",
      "metadata": {
        "id": "view-in-github",
        "colab_type": "text"
      },
      "source": [
        "<a href=\"https://colab.research.google.com/github/Saifullah785/python-for-finance-notes/blob/main/Chapter_03_Data_Types_and_Structures/Chapter_03_Data_Types_and_Structures.ipynb\" target=\"_parent\"><img src=\"https://colab.research.google.com/assets/colab-badge.svg\" alt=\"Open In Colab\"/></a>"
      ]
    },
    {
      "cell_type": "markdown",
      "source": [
        "# **Data Types and Structures**\n",
        "\n",
        "Basic Data Types\n",
        "\n",
        "Integers"
      ],
      "metadata": {
        "id": "AcgPckTRt9lG"
      }
    },
    {
      "cell_type": "code",
      "execution_count": 23,
      "metadata": {
        "colab": {
          "base_uri": "https://localhost:8080/"
        },
        "id": "n9P32-FOtkra",
        "outputId": "a241dc1c-c161-4ee4-f2c8-41e2dece7128"
      },
      "outputs": [
        {
          "output_type": "execute_result",
          "data": {
            "text/plain": [
              "int"
            ]
          },
          "metadata": {},
          "execution_count": 23
        }
      ],
      "source": [
        "a = 10 # Assign integer value 10 to variable 'a'\n",
        "type(a) # Check the data type of 'a'"
      ]
    },
    {
      "cell_type": "code",
      "source": [
        "a.bit_length() # Get the number of bits required to represent the integer 'a'"
      ],
      "metadata": {
        "colab": {
          "base_uri": "https://localhost:8080/"
        },
        "id": "4z6SeYbmuOaJ",
        "outputId": "e0aca1d0-9aae-4a3b-b705-2e92e9536bdd"
      },
      "execution_count": 24,
      "outputs": [
        {
          "output_type": "execute_result",
          "data": {
            "text/plain": [
              "4"
            ]
          },
          "metadata": {},
          "execution_count": 24
        }
      ]
    },
    {
      "cell_type": "code",
      "source": [
        "a = 100000 # Assign a larger integer value to 'a'\n",
        "a.bit_length() # Get the number of bits required to represent the new value of 'a'"
      ],
      "metadata": {
        "colab": {
          "base_uri": "https://localhost:8080/"
        },
        "id": "On-U6VGAuO-f",
        "outputId": "8f7ba53f-c823-432a-d763-500b8099a604"
      },
      "execution_count": 25,
      "outputs": [
        {
          "output_type": "execute_result",
          "data": {
            "text/plain": [
              "17"
            ]
          },
          "metadata": {},
          "execution_count": 25
        }
      ]
    },
    {
      "cell_type": "code",
      "source": [
        "googol = 10**100 # Calculate a googol (10 to the power of 100) and assign it to 'googol'\n",
        "googol # Display the value of googol"
      ],
      "metadata": {
        "colab": {
          "base_uri": "https://localhost:8080/"
        },
        "id": "G_hwd3NbuO72",
        "outputId": "4dd33a27-8d38-4b4a-aec4-0a030c1f174a"
      },
      "execution_count": 26,
      "outputs": [
        {
          "output_type": "execute_result",
          "data": {
            "text/plain": [
              "10000000000000000000000000000000000000000000000000000000000000000000000000000000000000000000000000000"
            ]
          },
          "metadata": {},
          "execution_count": 26
        }
      ]
    },
    {
      "cell_type": "code",
      "source": [
        "googol.bit_length() # Get the number of bits required to represent the googol"
      ],
      "metadata": {
        "colab": {
          "base_uri": "https://localhost:8080/"
        },
        "id": "wXjT9i_tuO5r",
        "outputId": "f7bd6518-bd02-43a0-d1cc-fd2718b0d84d"
      },
      "execution_count": 27,
      "outputs": [
        {
          "output_type": "execute_result",
          "data": {
            "text/plain": [
              "333"
            ]
          },
          "metadata": {},
          "execution_count": 27
        }
      ]
    },
    {
      "cell_type": "code",
      "source": [
        "1 + 4 # Perform integer addition"
      ],
      "metadata": {
        "colab": {
          "base_uri": "https://localhost:8080/"
        },
        "id": "3pxDzwbGuO3B",
        "outputId": "c3177216-ef0a-458f-9aac-3e6c9bc7a303"
      },
      "execution_count": 28,
      "outputs": [
        {
          "output_type": "execute_result",
          "data": {
            "text/plain": [
              "5"
            ]
          },
          "metadata": {},
          "execution_count": 28
        }
      ]
    },
    {
      "cell_type": "code",
      "source": [
        "1 / 4 # Perform floating-point division"
      ],
      "metadata": {
        "colab": {
          "base_uri": "https://localhost:8080/"
        },
        "id": "jh-5qU7uuO1E",
        "outputId": "f237c08e-e576-41fc-bf4b-7283ae072551"
      },
      "execution_count": 29,
      "outputs": [
        {
          "output_type": "execute_result",
          "data": {
            "text/plain": [
              "0.25"
            ]
          },
          "metadata": {},
          "execution_count": 29
        }
      ]
    },
    {
      "cell_type": "code",
      "source": [
        "type(1 / 4) # Check the data type of the result of the division"
      ],
      "metadata": {
        "colab": {
          "base_uri": "https://localhost:8080/"
        },
        "id": "AvR5GyZVuOxi",
        "outputId": "c656e2c1-af32-4dfa-9244-f5625dd778f6"
      },
      "execution_count": 30,
      "outputs": [
        {
          "output_type": "execute_result",
          "data": {
            "text/plain": [
              "float"
            ]
          },
          "metadata": {},
          "execution_count": 30
        }
      ]
    },
    {
      "cell_type": "markdown",
      "source": [
        "**Floats**"
      ],
      "metadata": {
        "id": "iRb4dACTuznp"
      }
    },
    {
      "cell_type": "code",
      "source": [
        "1.6 / 4 # Perform floating-point division with a float"
      ],
      "metadata": {
        "colab": {
          "base_uri": "https://localhost:8080/"
        },
        "id": "fBPIYHlSuyCF",
        "outputId": "56bb9989-3395-45fd-e40d-f6c886729372"
      },
      "execution_count": 31,
      "outputs": [
        {
          "output_type": "execute_result",
          "data": {
            "text/plain": [
              "0.4"
            ]
          },
          "metadata": {},
          "execution_count": 31
        }
      ]
    },
    {
      "cell_type": "code",
      "source": [
        "type(1.6 / 4) # Check the data type of the result of the floating-point division"
      ],
      "metadata": {
        "colab": {
          "base_uri": "https://localhost:8080/"
        },
        "id": "KbUvKugtu5KJ",
        "outputId": "8d3a2571-3a07-458d-d1f8-edb9ffd5a9a7"
      },
      "execution_count": 32,
      "outputs": [
        {
          "output_type": "execute_result",
          "data": {
            "text/plain": [
              "float"
            ]
          },
          "metadata": {},
          "execution_count": 32
        }
      ]
    },
    {
      "cell_type": "code",
      "source": [
        "b = 0.35 # Assign a float value to variable 'b'\n",
        "type(b) # Check the data type of 'b'"
      ],
      "metadata": {
        "colab": {
          "base_uri": "https://localhost:8080/"
        },
        "id": "kGecghtzu-Fc",
        "outputId": "ace9d85a-3794-4557-e388-dbb86f28924c"
      },
      "execution_count": 33,
      "outputs": [
        {
          "output_type": "execute_result",
          "data": {
            "text/plain": [
              "float"
            ]
          },
          "metadata": {},
          "execution_count": 33
        }
      ]
    },
    {
      "cell_type": "code",
      "source": [
        "b + 0.1 # Perform addition with a float, demonstrating potential floating-point inaccuracies"
      ],
      "metadata": {
        "colab": {
          "base_uri": "https://localhost:8080/"
        },
        "id": "oylEsLHYvBnB",
        "outputId": "2abc878d-5f6a-4a2c-a295-2c63bc052a3a"
      },
      "execution_count": 34,
      "outputs": [
        {
          "output_type": "execute_result",
          "data": {
            "text/plain": [
              "0.44999999999999996"
            ]
          },
          "metadata": {},
          "execution_count": 34
        }
      ]
    },
    {
      "cell_type": "code",
      "source": [
        "c = 0.5 # Assign a float value to variable 'c'\n",
        "c.as_integer_ratio() # Get the ratio of two integers that exactly represents the float 'c'"
      ],
      "metadata": {
        "colab": {
          "base_uri": "https://localhost:8080/"
        },
        "id": "IfuM-rc9vBku",
        "outputId": "408a3eaf-f631-4c80-9746-c289b5a0e8d7"
      },
      "execution_count": 35,
      "outputs": [
        {
          "output_type": "execute_result",
          "data": {
            "text/plain": [
              "(1, 2)"
            ]
          },
          "metadata": {},
          "execution_count": 35
        }
      ]
    },
    {
      "cell_type": "code",
      "source": [
        "b.as_integer_ratio() # Get the ratio of two integers that exactly represents the float 'b'"
      ],
      "metadata": {
        "colab": {
          "base_uri": "https://localhost:8080/"
        },
        "id": "kvr4JWkuvBiF",
        "outputId": "211e4bab-b5b3-4339-c62f-fdcb9a54976e"
      },
      "execution_count": 36,
      "outputs": [
        {
          "output_type": "execute_result",
          "data": {
            "text/plain": [
              "(3152519739159347, 9007199254740992)"
            ]
          },
          "metadata": {},
          "execution_count": 36
        }
      ]
    },
    {
      "cell_type": "code",
      "source": [
        "import decimal # Import the decimal module for precise decimal arithmetic\n",
        "from decimal import Decimal # Import the Decimal class"
      ],
      "metadata": {
        "id": "ZjJd7DW4vBfu"
      },
      "execution_count": 37,
      "outputs": []
    },
    {
      "cell_type": "code",
      "source": [
        "decimal.getcontext() # Get the current decimal context, showing precision and other settings"
      ],
      "metadata": {
        "colab": {
          "base_uri": "https://localhost:8080/"
        },
        "id": "7sA-ICmIvBdN",
        "outputId": "63f08a2d-05ba-4883-f7e5-1ea27816a852"
      },
      "execution_count": 38,
      "outputs": [
        {
          "output_type": "execute_result",
          "data": {
            "text/plain": [
              "Context(prec=50, rounding=ROUND_HALF_EVEN, Emin=-999999, Emax=999999, capitals=1, clamp=0, flags=[Inexact, Rounded], traps=[InvalidOperation, DivisionByZero, Overflow])"
            ]
          },
          "metadata": {},
          "execution_count": 38
        }
      ]
    },
    {
      "cell_type": "code",
      "source": [
        "d = Decimal(1) / Decimal (11) # Perform division using Decimal objects for precision\n",
        "d # Display the result with the default precision"
      ],
      "metadata": {
        "colab": {
          "base_uri": "https://localhost:8080/"
        },
        "id": "6_MFVRmEvBat",
        "outputId": "d6cf1129-b06b-42bd-967d-c2b8c696135e"
      },
      "execution_count": 39,
      "outputs": [
        {
          "output_type": "execute_result",
          "data": {
            "text/plain": [
              "Decimal('0.090909090909090909090909090909090909090909090909091')"
            ]
          },
          "metadata": {},
          "execution_count": 39
        }
      ]
    },
    {
      "cell_type": "code",
      "source": [
        "decimal.getcontext().prec = 4 # Set the precision for decimal operations to 4"
      ],
      "metadata": {
        "id": "ma-d466pvBYU"
      },
      "execution_count": 40,
      "outputs": []
    },
    {
      "cell_type": "code",
      "source": [
        "e = Decimal(1) / Decimal (11) # Perform division again with the new precision\n",
        "e # Display the result with precision set to 4"
      ],
      "metadata": {
        "colab": {
          "base_uri": "https://localhost:8080/"
        },
        "id": "9BZrZJKcvBVx",
        "outputId": "8ee32b8d-5832-4d5d-a228-505c006a2b3a"
      },
      "execution_count": 41,
      "outputs": [
        {
          "output_type": "execute_result",
          "data": {
            "text/plain": [
              "Decimal('0.09091')"
            ]
          },
          "metadata": {},
          "execution_count": 41
        }
      ]
    },
    {
      "cell_type": "code",
      "source": [
        "decimal.getcontext().prec = 50 # Set the precision for decimal operations to 50"
      ],
      "metadata": {
        "id": "eB9dG2qpwAIJ"
      },
      "execution_count": 42,
      "outputs": []
    },
    {
      "cell_type": "code",
      "source": [
        "f = Decimal(1) / Decimal (11) # Perform division again with precision set to 50\n",
        "f # Display the result with precision set to 50"
      ],
      "metadata": {
        "colab": {
          "base_uri": "https://localhost:8080/"
        },
        "id": "FI38ZRKtwB0K",
        "outputId": "9d0a5cd4-a04c-4ce8-90df-516167f00e72"
      },
      "execution_count": 43,
      "outputs": [
        {
          "output_type": "execute_result",
          "data": {
            "text/plain": [
              "Decimal('0.090909090909090909090909090909090909090909090909091')"
            ]
          },
          "metadata": {},
          "execution_count": 43
        }
      ]
    },
    {
      "cell_type": "code",
      "source": [
        "g = d + e + f # Add the three Decimal objects\n",
        "g # Display the sum, showing how precision affects the result"
      ],
      "metadata": {
        "colab": {
          "base_uri": "https://localhost:8080/"
        },
        "id": "4qR7jyDywFEB",
        "outputId": "d3117551-100e-46b8-9f09-eaae0ce42d43"
      },
      "execution_count": 44,
      "outputs": [
        {
          "output_type": "execute_result",
          "data": {
            "text/plain": [
              "Decimal('0.27272818181818181818181818181818181818181818181818')"
            ]
          },
          "metadata": {},
          "execution_count": 44
        }
      ]
    }
  ]
}