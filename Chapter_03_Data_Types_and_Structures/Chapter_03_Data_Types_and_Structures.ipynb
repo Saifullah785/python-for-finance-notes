{
  "nbformat": 4,
  "nbformat_minor": 0,
  "metadata": {
    "colab": {
      "provenance": [],
      "authorship_tag": "ABX9TyMnSKhgtXRH0ddjWsM8jpzR",
      "include_colab_link": true
    },
    "kernelspec": {
      "name": "python3",
      "display_name": "Python 3"
    },
    "language_info": {
      "name": "python"
    }
  },
  "cells": [
    {
      "cell_type": "markdown",
      "metadata": {
        "id": "view-in-github",
        "colab_type": "text"
      },
      "source": [
        "<a href=\"https://colab.research.google.com/github/Saifullah785/python-for-finance-notes/blob/main/Chapter_03_Data_Types_and_Structures/Chapter_03_Data_Types_and_Structures.ipynb\" target=\"_parent\"><img src=\"https://colab.research.google.com/assets/colab-badge.svg\" alt=\"Open In Colab\"/></a>"
      ]
    },
    {
      "cell_type": "markdown",
      "source": [
        "# **Data Types and Structures**\n",
        "\n",
        "Basic Data Types\n",
        "\n"
      ],
      "metadata": {
        "id": "AcgPckTRt9lG"
      }
    },
    {
      "cell_type": "markdown",
      "source": [
        "# **Integers**"
      ],
      "metadata": {
        "id": "wVfcganCEvdV"
      }
    },
    {
      "cell_type": "code",
      "execution_count": null,
      "metadata": {
        "colab": {
          "base_uri": "https://localhost:8080/"
        },
        "id": "n9P32-FOtkra",
        "outputId": "a241dc1c-c161-4ee4-f2c8-41e2dece7128"
      },
      "outputs": [
        {
          "output_type": "execute_result",
          "data": {
            "text/plain": [
              "int"
            ]
          },
          "metadata": {},
          "execution_count": 23
        }
      ],
      "source": [
        "a = 10 # Assign integer value 10 to variable 'a'\n",
        "type(a) # Check the data type of 'a'"
      ]
    },
    {
      "cell_type": "code",
      "source": [
        "a.bit_length() # Get the number of bits required to represent the integer 'a'"
      ],
      "metadata": {
        "colab": {
          "base_uri": "https://localhost:8080/"
        },
        "id": "4z6SeYbmuOaJ",
        "outputId": "e0aca1d0-9aae-4a3b-b705-2e92e9536bdd"
      },
      "execution_count": null,
      "outputs": [
        {
          "output_type": "execute_result",
          "data": {
            "text/plain": [
              "4"
            ]
          },
          "metadata": {},
          "execution_count": 24
        }
      ]
    },
    {
      "cell_type": "code",
      "source": [
        "a = 100000 # Assign a larger integer value to 'a'\n",
        "a.bit_length() # Get the number of bits required to represent the new value of 'a'"
      ],
      "metadata": {
        "colab": {
          "base_uri": "https://localhost:8080/"
        },
        "id": "On-U6VGAuO-f",
        "outputId": "8f7ba53f-c823-432a-d763-500b8099a604"
      },
      "execution_count": null,
      "outputs": [
        {
          "output_type": "execute_result",
          "data": {
            "text/plain": [
              "17"
            ]
          },
          "metadata": {},
          "execution_count": 25
        }
      ]
    },
    {
      "cell_type": "code",
      "source": [
        "googol = 10**100 # Calculate a googol (10 to the power of 100) and assign it to 'googol'\n",
        "googol # Display the value of googol"
      ],
      "metadata": {
        "colab": {
          "base_uri": "https://localhost:8080/"
        },
        "id": "G_hwd3NbuO72",
        "outputId": "4dd33a27-8d38-4b4a-aec4-0a030c1f174a"
      },
      "execution_count": null,
      "outputs": [
        {
          "output_type": "execute_result",
          "data": {
            "text/plain": [
              "10000000000000000000000000000000000000000000000000000000000000000000000000000000000000000000000000000"
            ]
          },
          "metadata": {},
          "execution_count": 26
        }
      ]
    },
    {
      "cell_type": "code",
      "source": [
        "googol.bit_length() # Get the number of bits required to represent the googol"
      ],
      "metadata": {
        "colab": {
          "base_uri": "https://localhost:8080/"
        },
        "id": "wXjT9i_tuO5r",
        "outputId": "f7bd6518-bd02-43a0-d1cc-fd2718b0d84d"
      },
      "execution_count": null,
      "outputs": [
        {
          "output_type": "execute_result",
          "data": {
            "text/plain": [
              "333"
            ]
          },
          "metadata": {},
          "execution_count": 27
        }
      ]
    },
    {
      "cell_type": "code",
      "source": [
        "1 + 4 # Perform integer addition"
      ],
      "metadata": {
        "colab": {
          "base_uri": "https://localhost:8080/"
        },
        "id": "3pxDzwbGuO3B",
        "outputId": "c3177216-ef0a-458f-9aac-3e6c9bc7a303"
      },
      "execution_count": null,
      "outputs": [
        {
          "output_type": "execute_result",
          "data": {
            "text/plain": [
              "5"
            ]
          },
          "metadata": {},
          "execution_count": 28
        }
      ]
    },
    {
      "cell_type": "code",
      "source": [
        "1 / 4 # Perform floating-point division"
      ],
      "metadata": {
        "colab": {
          "base_uri": "https://localhost:8080/"
        },
        "id": "jh-5qU7uuO1E",
        "outputId": "f237c08e-e576-41fc-bf4b-7283ae072551"
      },
      "execution_count": null,
      "outputs": [
        {
          "output_type": "execute_result",
          "data": {
            "text/plain": [
              "0.25"
            ]
          },
          "metadata": {},
          "execution_count": 29
        }
      ]
    },
    {
      "cell_type": "code",
      "source": [
        "type(1 / 4) # Check the data type of the result of the division"
      ],
      "metadata": {
        "colab": {
          "base_uri": "https://localhost:8080/"
        },
        "id": "AvR5GyZVuOxi",
        "outputId": "c656e2c1-af32-4dfa-9244-f5625dd778f6"
      },
      "execution_count": null,
      "outputs": [
        {
          "output_type": "execute_result",
          "data": {
            "text/plain": [
              "float"
            ]
          },
          "metadata": {},
          "execution_count": 30
        }
      ]
    },
    {
      "cell_type": "markdown",
      "source": [
        "# **Floats**"
      ],
      "metadata": {
        "id": "iRb4dACTuznp"
      }
    },
    {
      "cell_type": "code",
      "source": [
        "1.6 / 4 # Perform floating-point division with a float"
      ],
      "metadata": {
        "colab": {
          "base_uri": "https://localhost:8080/"
        },
        "id": "fBPIYHlSuyCF",
        "outputId": "56bb9989-3395-45fd-e40d-f6c886729372"
      },
      "execution_count": null,
      "outputs": [
        {
          "output_type": "execute_result",
          "data": {
            "text/plain": [
              "0.4"
            ]
          },
          "metadata": {},
          "execution_count": 31
        }
      ]
    },
    {
      "cell_type": "code",
      "source": [
        "type(1.6 / 4) # Check the data type of the result of the floating-point division"
      ],
      "metadata": {
        "colab": {
          "base_uri": "https://localhost:8080/"
        },
        "id": "KbUvKugtu5KJ",
        "outputId": "8d3a2571-3a07-458d-d1f8-edb9ffd5a9a7"
      },
      "execution_count": null,
      "outputs": [
        {
          "output_type": "execute_result",
          "data": {
            "text/plain": [
              "float"
            ]
          },
          "metadata": {},
          "execution_count": 32
        }
      ]
    },
    {
      "cell_type": "code",
      "source": [
        "b = 0.35 # Assign a float value to variable 'b'\n",
        "type(b) # Check the data type of 'b'"
      ],
      "metadata": {
        "colab": {
          "base_uri": "https://localhost:8080/"
        },
        "id": "kGecghtzu-Fc",
        "outputId": "ace9d85a-3794-4557-e388-dbb86f28924c"
      },
      "execution_count": null,
      "outputs": [
        {
          "output_type": "execute_result",
          "data": {
            "text/plain": [
              "float"
            ]
          },
          "metadata": {},
          "execution_count": 33
        }
      ]
    },
    {
      "cell_type": "code",
      "source": [
        "b + 0.1 # Perform addition with a float, demonstrating potential floating-point inaccuracies"
      ],
      "metadata": {
        "colab": {
          "base_uri": "https://localhost:8080/"
        },
        "id": "oylEsLHYvBnB",
        "outputId": "2abc878d-5f6a-4a2c-a295-2c63bc052a3a"
      },
      "execution_count": null,
      "outputs": [
        {
          "output_type": "execute_result",
          "data": {
            "text/plain": [
              "0.44999999999999996"
            ]
          },
          "metadata": {},
          "execution_count": 34
        }
      ]
    },
    {
      "cell_type": "code",
      "source": [
        "c = 0.5 # Assign a float value to variable 'c'\n",
        "c.as_integer_ratio() # Get the ratio of two integers that exactly represents the float 'c'"
      ],
      "metadata": {
        "colab": {
          "base_uri": "https://localhost:8080/"
        },
        "id": "IfuM-rc9vBku",
        "outputId": "408a3eaf-f631-4c80-9746-c289b5a0e8d7"
      },
      "execution_count": null,
      "outputs": [
        {
          "output_type": "execute_result",
          "data": {
            "text/plain": [
              "(1, 2)"
            ]
          },
          "metadata": {},
          "execution_count": 35
        }
      ]
    },
    {
      "cell_type": "code",
      "source": [
        "b.as_integer_ratio() # Get the ratio of two integers that exactly represents the float 'b'"
      ],
      "metadata": {
        "colab": {
          "base_uri": "https://localhost:8080/"
        },
        "id": "kvr4JWkuvBiF",
        "outputId": "211e4bab-b5b3-4339-c62f-fdcb9a54976e"
      },
      "execution_count": null,
      "outputs": [
        {
          "output_type": "execute_result",
          "data": {
            "text/plain": [
              "(3152519739159347, 9007199254740992)"
            ]
          },
          "metadata": {},
          "execution_count": 36
        }
      ]
    },
    {
      "cell_type": "code",
      "source": [
        "import decimal # Import the decimal module for precise decimal arithmetic\n",
        "from decimal import Decimal # Import the Decimal class"
      ],
      "metadata": {
        "id": "ZjJd7DW4vBfu"
      },
      "execution_count": null,
      "outputs": []
    },
    {
      "cell_type": "code",
      "source": [
        "decimal.getcontext() # Get the current decimal context, showing precision and other settings"
      ],
      "metadata": {
        "colab": {
          "base_uri": "https://localhost:8080/"
        },
        "id": "7sA-ICmIvBdN",
        "outputId": "63f08a2d-05ba-4883-f7e5-1ea27816a852"
      },
      "execution_count": null,
      "outputs": [
        {
          "output_type": "execute_result",
          "data": {
            "text/plain": [
              "Context(prec=50, rounding=ROUND_HALF_EVEN, Emin=-999999, Emax=999999, capitals=1, clamp=0, flags=[Inexact, Rounded], traps=[InvalidOperation, DivisionByZero, Overflow])"
            ]
          },
          "metadata": {},
          "execution_count": 38
        }
      ]
    },
    {
      "cell_type": "code",
      "source": [
        "d = Decimal(1) / Decimal (11) # Perform division using Decimal objects for precision\n",
        "d # Display the result with the default precision"
      ],
      "metadata": {
        "colab": {
          "base_uri": "https://localhost:8080/"
        },
        "id": "6_MFVRmEvBat",
        "outputId": "d6cf1129-b06b-42bd-967d-c2b8c696135e"
      },
      "execution_count": null,
      "outputs": [
        {
          "output_type": "execute_result",
          "data": {
            "text/plain": [
              "Decimal('0.090909090909090909090909090909090909090909090909091')"
            ]
          },
          "metadata": {},
          "execution_count": 39
        }
      ]
    },
    {
      "cell_type": "code",
      "source": [
        "decimal.getcontext().prec = 4 # Set the precision for decimal operations to 4"
      ],
      "metadata": {
        "id": "ma-d466pvBYU"
      },
      "execution_count": null,
      "outputs": []
    },
    {
      "cell_type": "code",
      "source": [
        "e = Decimal(1) / Decimal (11) # Perform division again with the new precision\n",
        "e # Display the result with precision set to 4"
      ],
      "metadata": {
        "colab": {
          "base_uri": "https://localhost:8080/"
        },
        "id": "9BZrZJKcvBVx",
        "outputId": "8ee32b8d-5832-4d5d-a228-505c006a2b3a"
      },
      "execution_count": null,
      "outputs": [
        {
          "output_type": "execute_result",
          "data": {
            "text/plain": [
              "Decimal('0.09091')"
            ]
          },
          "metadata": {},
          "execution_count": 41
        }
      ]
    },
    {
      "cell_type": "code",
      "source": [
        "decimal.getcontext().prec = 50 # Set the precision for decimal operations to 50"
      ],
      "metadata": {
        "id": "eB9dG2qpwAIJ"
      },
      "execution_count": null,
      "outputs": []
    },
    {
      "cell_type": "code",
      "source": [
        "f = Decimal(1) / Decimal (11) # Perform division again with precision set to 50\n",
        "f # Display the result with precision set to 50"
      ],
      "metadata": {
        "colab": {
          "base_uri": "https://localhost:8080/"
        },
        "id": "FI38ZRKtwB0K",
        "outputId": "9d0a5cd4-a04c-4ce8-90df-516167f00e72"
      },
      "execution_count": null,
      "outputs": [
        {
          "output_type": "execute_result",
          "data": {
            "text/plain": [
              "Decimal('0.090909090909090909090909090909090909090909090909091')"
            ]
          },
          "metadata": {},
          "execution_count": 43
        }
      ]
    },
    {
      "cell_type": "code",
      "source": [
        "g = d + e + f # Add the three Decimal objects\n",
        "g # Display the sum, showing how precision affects the result"
      ],
      "metadata": {
        "colab": {
          "base_uri": "https://localhost:8080/"
        },
        "id": "4qR7jyDywFEB",
        "outputId": "d3117551-100e-46b8-9f09-eaae0ce42d43"
      },
      "execution_count": null,
      "outputs": [
        {
          "output_type": "execute_result",
          "data": {
            "text/plain": [
              "Decimal('0.27272818181818181818181818181818181818181818181818')"
            ]
          },
          "metadata": {},
          "execution_count": 44
        }
      ]
    },
    {
      "cell_type": "markdown",
      "source": [
        "# **Boolean**"
      ],
      "metadata": {
        "id": "RRqxhgCfEnCe"
      }
    },
    {
      "cell_type": "code",
      "source": [
        "import keyword # Import the keyword module to work with Python keywords"
      ],
      "metadata": {
        "id": "dDwcThWkEpuz"
      },
      "execution_count": 68,
      "outputs": []
    },
    {
      "cell_type": "code",
      "source": [
        "keyword.kwlist # Get a list of all Python keywords"
      ],
      "metadata": {
        "colab": {
          "base_uri": "https://localhost:8080/"
        },
        "id": "Nf2UH2KvGgBh",
        "outputId": "23abf6a8-28e7-4c74-ce58-53734779f072"
      },
      "execution_count": 69,
      "outputs": [
        {
          "output_type": "execute_result",
          "data": {
            "text/plain": [
              "['False',\n",
              " 'None',\n",
              " 'True',\n",
              " 'and',\n",
              " 'as',\n",
              " 'assert',\n",
              " 'async',\n",
              " 'await',\n",
              " 'break',\n",
              " 'class',\n",
              " 'continue',\n",
              " 'def',\n",
              " 'del',\n",
              " 'elif',\n",
              " 'else',\n",
              " 'except',\n",
              " 'finally',\n",
              " 'for',\n",
              " 'from',\n",
              " 'global',\n",
              " 'if',\n",
              " 'import',\n",
              " 'in',\n",
              " 'is',\n",
              " 'lambda',\n",
              " 'nonlocal',\n",
              " 'not',\n",
              " 'or',\n",
              " 'pass',\n",
              " 'raise',\n",
              " 'return',\n",
              " 'try',\n",
              " 'while',\n",
              " 'with',\n",
              " 'yield']"
            ]
          },
          "metadata": {},
          "execution_count": 69
        }
      ]
    },
    {
      "cell_type": "code",
      "source": [
        "4 > 3 # Check if 4 is greater than 3, returns a boolean"
      ],
      "metadata": {
        "colab": {
          "base_uri": "https://localhost:8080/"
        },
        "id": "J00ZOHINGlC6",
        "outputId": "c8aafa4d-767f-44fb-f04f-8a7d7577a78b"
      },
      "execution_count": 70,
      "outputs": [
        {
          "output_type": "execute_result",
          "data": {
            "text/plain": [
              "True"
            ]
          },
          "metadata": {},
          "execution_count": 70
        }
      ]
    },
    {
      "cell_type": "code",
      "source": [
        "(type(4 > 3)) # Check the data type of the result of the comparison (which is boolean)"
      ],
      "metadata": {
        "colab": {
          "base_uri": "https://localhost:8080/"
        },
        "id": "o522VfzzGnLR",
        "outputId": "a24b0653-5539-4efc-c0eb-b5a33b37a52b"
      },
      "execution_count": 71,
      "outputs": [
        {
          "output_type": "execute_result",
          "data": {
            "text/plain": [
              "bool"
            ]
          },
          "metadata": {},
          "execution_count": 71
        }
      ]
    },
    {
      "cell_type": "code",
      "source": [
        "type(False) # Check the data type of the boolean value False"
      ],
      "metadata": {
        "colab": {
          "base_uri": "https://localhost:8080/"
        },
        "id": "H_Qk_nTwGrJz",
        "outputId": "fbaefbb0-5c30-47d1-ab0d-29890e883f76"
      },
      "execution_count": 72,
      "outputs": [
        {
          "output_type": "execute_result",
          "data": {
            "text/plain": [
              "bool"
            ]
          },
          "metadata": {},
          "execution_count": 72
        }
      ]
    },
    {
      "cell_type": "code",
      "source": [
        "4 >= 3 # Check if 4 is greater than or equal to 3, returns a boolean"
      ],
      "metadata": {
        "colab": {
          "base_uri": "https://localhost:8080/"
        },
        "id": "s02vajPkGusx",
        "outputId": "c124bb78-8288-4cb0-86ac-70277c4608da"
      },
      "execution_count": 73,
      "outputs": [
        {
          "output_type": "execute_result",
          "data": {
            "text/plain": [
              "True"
            ]
          },
          "metadata": {},
          "execution_count": 73
        }
      ]
    },
    {
      "cell_type": "code",
      "source": [
        "4 < 3 # Check if 4 is less than 3, returns a boolean"
      ],
      "metadata": {
        "colab": {
          "base_uri": "https://localhost:8080/"
        },
        "id": "FZXNPXyrGyRQ",
        "outputId": "56d77adb-ee41-48ba-cf87-2d87331821c4"
      },
      "execution_count": 74,
      "outputs": [
        {
          "output_type": "execute_result",
          "data": {
            "text/plain": [
              "False"
            ]
          },
          "metadata": {},
          "execution_count": 74
        }
      ]
    },
    {
      "cell_type": "code",
      "source": [
        "4 <= 3 # Check if 4 is less than or equal to 3, returns a boolean"
      ],
      "metadata": {
        "colab": {
          "base_uri": "https://localhost:8080/"
        },
        "id": "K6LMeObGG3Bo",
        "outputId": "40ac0a0a-3091-4092-fd92-c3608143be75"
      },
      "execution_count": 75,
      "outputs": [
        {
          "output_type": "execute_result",
          "data": {
            "text/plain": [
              "False"
            ]
          },
          "metadata": {},
          "execution_count": 75
        }
      ]
    },
    {
      "cell_type": "code",
      "source": [
        "4 == 3 # Check if 4 is equal to 3, returns a boolean"
      ],
      "metadata": {
        "colab": {
          "base_uri": "https://localhost:8080/"
        },
        "id": "8n5OLrA_G7LP",
        "outputId": "dcf5e305-dc93-4cd3-e7c4-568a2e807eba"
      },
      "execution_count": 76,
      "outputs": [
        {
          "output_type": "execute_result",
          "data": {
            "text/plain": [
              "False"
            ]
          },
          "metadata": {},
          "execution_count": 76
        }
      ]
    },
    {
      "cell_type": "code",
      "source": [
        "4 != 3 # Check if 4 is not equal to 3, returns a boolean"
      ],
      "metadata": {
        "colab": {
          "base_uri": "https://localhost:8080/"
        },
        "id": "7sCVYiXOG9q9",
        "outputId": "b3d96ccb-df45-41f0-c48e-b99160f3708c"
      },
      "execution_count": 77,
      "outputs": [
        {
          "output_type": "execute_result",
          "data": {
            "text/plain": [
              "True"
            ]
          },
          "metadata": {},
          "execution_count": 77
        }
      ]
    },
    {
      "cell_type": "code",
      "source": [
        "True and True # Perform a logical AND operation on two True values"
      ],
      "metadata": {
        "colab": {
          "base_uri": "https://localhost:8080/"
        },
        "id": "TzQp4QMUHC2P",
        "outputId": "666b0b2c-99b9-427f-ae53-32d643728866"
      },
      "execution_count": 78,
      "outputs": [
        {
          "output_type": "execute_result",
          "data": {
            "text/plain": [
              "True"
            ]
          },
          "metadata": {},
          "execution_count": 78
        }
      ]
    },
    {
      "cell_type": "code",
      "source": [
        "True and False # Perform a logical AND operation on True and False values"
      ],
      "metadata": {
        "colab": {
          "base_uri": "https://localhost:8080/"
        },
        "id": "K80C0asTHFiR",
        "outputId": "8d90fbc9-e32f-499f-e3b0-3cee2d40702d"
      },
      "execution_count": 79,
      "outputs": [
        {
          "output_type": "execute_result",
          "data": {
            "text/plain": [
              "False"
            ]
          },
          "metadata": {},
          "execution_count": 79
        }
      ]
    },
    {
      "cell_type": "code",
      "source": [
        "False and False # Perform a logical AND operation on two False values"
      ],
      "metadata": {
        "colab": {
          "base_uri": "https://localhost:8080/"
        },
        "id": "29Y1K_bYHKpR",
        "outputId": "37cd74e6-6e5f-4a37-dca1-6603ae84a232"
      },
      "execution_count": 80,
      "outputs": [
        {
          "output_type": "execute_result",
          "data": {
            "text/plain": [
              "False"
            ]
          },
          "metadata": {},
          "execution_count": 80
        }
      ]
    },
    {
      "cell_type": "code",
      "source": [
        "True or True # Perform a logical OR operation on two True values"
      ],
      "metadata": {
        "colab": {
          "base_uri": "https://localhost:8080/"
        },
        "id": "hBfuP6dSHM3B",
        "outputId": "c3c2731a-3c5b-4531-e661-66564af39f02"
      },
      "execution_count": 81,
      "outputs": [
        {
          "output_type": "execute_result",
          "data": {
            "text/plain": [
              "True"
            ]
          },
          "metadata": {},
          "execution_count": 81
        }
      ]
    },
    {
      "cell_type": "code",
      "source": [
        "True or False # Perform a logical OR operation on True and False values"
      ],
      "metadata": {
        "colab": {
          "base_uri": "https://localhost:8080/"
        },
        "id": "Cb1XRbv5HQm4",
        "outputId": "9dbfeb3c-a6d7-4675-b6d7-fae12231dc42"
      },
      "execution_count": 82,
      "outputs": [
        {
          "output_type": "execute_result",
          "data": {
            "text/plain": [
              "True"
            ]
          },
          "metadata": {},
          "execution_count": 82
        }
      ]
    },
    {
      "cell_type": "code",
      "source": [
        "not True # Perform a logical NOT operation on True"
      ],
      "metadata": {
        "colab": {
          "base_uri": "https://localhost:8080/"
        },
        "id": "0zspF-5xHTJ7",
        "outputId": "716ad2b7-5eee-4cc8-96e0-46de5c212ddd"
      },
      "execution_count": 83,
      "outputs": [
        {
          "output_type": "execute_result",
          "data": {
            "text/plain": [
              "False"
            ]
          },
          "metadata": {},
          "execution_count": 83
        }
      ]
    },
    {
      "cell_type": "code",
      "source": [
        "(4 > 3) and (2 > 3) # Combine two comparisons with logical AND"
      ],
      "metadata": {
        "colab": {
          "base_uri": "https://localhost:8080/"
        },
        "id": "_feYAf0yHXoh",
        "outputId": "a01fe5e8-c76e-4b97-9bc1-2077bcf9dd0a"
      },
      "execution_count": 84,
      "outputs": [
        {
          "output_type": "execute_result",
          "data": {
            "text/plain": [
              "False"
            ]
          },
          "metadata": {},
          "execution_count": 84
        }
      ]
    },
    {
      "cell_type": "code",
      "source": [
        "(4 == 3) or (2 != 3) # Combine two comparisons with logical OR"
      ],
      "metadata": {
        "colab": {
          "base_uri": "https://localhost:8080/"
        },
        "id": "VonoUgUZHXk7",
        "outputId": "acba287a-9c14-4486-ae84-5ab3debe474a"
      },
      "execution_count": 85,
      "outputs": [
        {
          "output_type": "execute_result",
          "data": {
            "text/plain": [
              "True"
            ]
          },
          "metadata": {},
          "execution_count": 85
        }
      ]
    },
    {
      "cell_type": "code",
      "source": [
        "not(4 != 4) # Negate the result of a comparison (4 is not equal to 4 is False, so not False is True)"
      ],
      "metadata": {
        "colab": {
          "base_uri": "https://localhost:8080/"
        },
        "id": "iMo56oAkHXe7",
        "outputId": "ea823527-04a2-446b-e024-282826f8f6db"
      },
      "execution_count": 86,
      "outputs": [
        {
          "output_type": "execute_result",
          "data": {
            "text/plain": [
              "True"
            ]
          },
          "metadata": {},
          "execution_count": 86
        }
      ]
    },
    {
      "cell_type": "code",
      "source": [
        "(not(4 != 4)) or (2 == 3) # Combine logical NOT and OR operations"
      ],
      "metadata": {
        "colab": {
          "base_uri": "https://localhost:8080/"
        },
        "id": "xpkrUUz9HXb7",
        "outputId": "b6692c4c-fe5d-48b4-cec5-75f500beda6f"
      },
      "execution_count": 87,
      "outputs": [
        {
          "output_type": "execute_result",
          "data": {
            "text/plain": [
              "True"
            ]
          },
          "metadata": {},
          "execution_count": 87
        }
      ]
    },
    {
      "cell_type": "code",
      "source": [
        "if 4 > 3: # Check if the condition (4 > 3) is True\n",
        "  print('Condition is True') # If the condition is True, execute this line"
      ],
      "metadata": {
        "colab": {
          "base_uri": "https://localhost:8080/"
        },
        "id": "GxwLlDHLHXYk",
        "outputId": "3c791c9e-493b-4672-d22e-00e41f6a02b9"
      },
      "execution_count": 88,
      "outputs": [
        {
          "output_type": "stream",
          "name": "stdout",
          "text": [
            "Condition is True\n"
          ]
        }
      ]
    },
    {
      "cell_type": "code",
      "source": [
        "i = 0 # Initialize a variable i to 0\n",
        "while i < 4: # Loop while i is less than 4\n",
        "  print('condition true, i = ', i) # Print a message including the current value of i\n",
        "  i += 1 # Increment i by 1"
      ],
      "metadata": {
        "colab": {
          "base_uri": "https://localhost:8080/"
        },
        "id": "JStGNYEhHXUm",
        "outputId": "f8b7e9f0-873e-40f3-c68d-9ebd64271ae9"
      },
      "execution_count": 89,
      "outputs": [
        {
          "output_type": "stream",
          "name": "stdout",
          "text": [
            "condition true, i =  0\n",
            "condition true, i =  1\n",
            "condition true, i =  2\n",
            "condition true, i =  3\n"
          ]
        }
      ]
    },
    {
      "cell_type": "code",
      "source": [
        "int(True) # Convert the boolean value True to an integer (True is converted to 1)"
      ],
      "metadata": {
        "colab": {
          "base_uri": "https://localhost:8080/"
        },
        "id": "nuuvMMqRIJPX",
        "outputId": "f75a02d9-e025-42b9-8ef7-4147e2d12463"
      },
      "execution_count": 90,
      "outputs": [
        {
          "output_type": "execute_result",
          "data": {
            "text/plain": [
              "1"
            ]
          },
          "metadata": {},
          "execution_count": 90
        }
      ]
    },
    {
      "cell_type": "code",
      "source": [
        "int(False) # Convert the boolean value False to an integer (False is converted to 0)"
      ],
      "metadata": {
        "colab": {
          "base_uri": "https://localhost:8080/"
        },
        "id": "GZPAFFjhIOux",
        "outputId": "35d95458-fe36-4896-e64e-66c6a1d3f36a"
      },
      "execution_count": 91,
      "outputs": [
        {
          "output_type": "execute_result",
          "data": {
            "text/plain": [
              "0"
            ]
          },
          "metadata": {},
          "execution_count": 91
        }
      ]
    },
    {
      "cell_type": "code",
      "source": [
        "float(True) # Convert the boolean value True to a float (True is converted to 1.0)"
      ],
      "metadata": {
        "colab": {
          "base_uri": "https://localhost:8080/"
        },
        "id": "9OZ_djdGITmQ",
        "outputId": "3cf05a09-4cf6-45e4-fc7c-fced3415b5f0"
      },
      "execution_count": 92,
      "outputs": [
        {
          "output_type": "execute_result",
          "data": {
            "text/plain": [
              "1.0"
            ]
          },
          "metadata": {},
          "execution_count": 92
        }
      ]
    },
    {
      "cell_type": "code",
      "source": [
        "float(False) # Convert the boolean value False to a float (False is converted to 0.0)"
      ],
      "metadata": {
        "colab": {
          "base_uri": "https://localhost:8080/"
        },
        "id": "6W8YGoCkIVkh",
        "outputId": "a84f3a42-689e-4c53-b755-3c983cc7f4da"
      },
      "execution_count": 93,
      "outputs": [
        {
          "output_type": "execute_result",
          "data": {
            "text/plain": [
              "0.0"
            ]
          },
          "metadata": {},
          "execution_count": 93
        }
      ]
    },
    {
      "cell_type": "code",
      "source": [
        "bool (0) # Convert the integer 0 to a boolean (0 is considered False)"
      ],
      "metadata": {
        "colab": {
          "base_uri": "https://localhost:8080/"
        },
        "id": "00ZRcB2MIZmf",
        "outputId": "97b6a5e2-7025-4e8d-a973-1540bfe19583"
      },
      "execution_count": 94,
      "outputs": [
        {
          "output_type": "execute_result",
          "data": {
            "text/plain": [
              "False"
            ]
          },
          "metadata": {},
          "execution_count": 94
        }
      ]
    },
    {
      "cell_type": "code",
      "source": [
        "bool(0.0) # Convert the float 0.0 to a boolean (0.0 is considered False)"
      ],
      "metadata": {
        "colab": {
          "base_uri": "https://localhost:8080/"
        },
        "id": "AUOsBr4zIccg",
        "outputId": "afe0abdf-ead6-44c4-9b99-e369a0b12d4f"
      },
      "execution_count": 95,
      "outputs": [
        {
          "output_type": "execute_result",
          "data": {
            "text/plain": [
              "False"
            ]
          },
          "metadata": {},
          "execution_count": 95
        }
      ]
    },
    {
      "cell_type": "code",
      "source": [
        "bool(1) # Convert the integer 1 to a boolean (any non-zero number is considered True)"
      ],
      "metadata": {
        "colab": {
          "base_uri": "https://localhost:8080/"
        },
        "id": "CV0IHQnSIfDH",
        "outputId": "ad0dfa28-3ea6-4dc7-c639-fa582d0c4a53"
      },
      "execution_count": 96,
      "outputs": [
        {
          "output_type": "execute_result",
          "data": {
            "text/plain": [
              "True"
            ]
          },
          "metadata": {},
          "execution_count": 96
        }
      ]
    },
    {
      "cell_type": "code",
      "source": [
        "bool (10.5) # Convert the float 10.5 to a boolean (any non-zero number is considered True)"
      ],
      "metadata": {
        "colab": {
          "base_uri": "https://localhost:8080/"
        },
        "id": "ax2CuzvYIhEe",
        "outputId": "d1f4e57c-3866-4286-91d1-66dbb1774211"
      },
      "execution_count": 97,
      "outputs": [
        {
          "output_type": "execute_result",
          "data": {
            "text/plain": [
              "True"
            ]
          },
          "metadata": {},
          "execution_count": 97
        }
      ]
    },
    {
      "cell_type": "code",
      "source": [
        "bool (-2) # Convert the integer -2 to a boolean (any non-zero number is considered True)"
      ],
      "metadata": {
        "colab": {
          "base_uri": "https://localhost:8080/"
        },
        "id": "tEUa9VZNIkvY",
        "outputId": "d6bdf4e0-692c-4009-da59-8755c8a35381"
      },
      "execution_count": 98,
      "outputs": [
        {
          "output_type": "execute_result",
          "data": {
            "text/plain": [
              "True"
            ]
          },
          "metadata": {},
          "execution_count": 98
        }
      ]
    },
    {
      "cell_type": "markdown",
      "source": [
        "# **Strings**"
      ],
      "metadata": {
        "id": "u8fdz-mVIt3w"
      }
    },
    {
      "cell_type": "code",
      "source": [
        "t = 'this is a string object' # Assign a string value to variable 't'"
      ],
      "metadata": {
        "id": "7lFy1fmsIx_M"
      },
      "execution_count": 99,
      "outputs": []
    },
    {
      "cell_type": "code",
      "source": [
        "t.capitalize() # Capitalize the first character of the string 't'"
      ],
      "metadata": {
        "colab": {
          "base_uri": "https://localhost:8080/",
          "height": 36
        },
        "id": "31ssIVC4I9zY",
        "outputId": "e3ee1d57-081e-4ff9-977d-accfcbe0e763"
      },
      "execution_count": 100,
      "outputs": [
        {
          "output_type": "execute_result",
          "data": {
            "text/plain": [
              "'This is a string object'"
            ],
            "application/vnd.google.colaboratory.intrinsic+json": {
              "type": "string"
            }
          },
          "metadata": {},
          "execution_count": 100
        }
      ]
    },
    {
      "cell_type": "code",
      "source": [
        "t.split() # Split the string 't' into a list of substrings based on whitespace"
      ],
      "metadata": {
        "colab": {
          "base_uri": "https://localhost:8080/"
        },
        "id": "9qLwGArEJBXB",
        "outputId": "1be0b33d-028f-4f81-ca9a-a1ce95f7c09e"
      },
      "execution_count": 101,
      "outputs": [
        {
          "output_type": "execute_result",
          "data": {
            "text/plain": [
              "['this', 'is', 'a', 'string', 'object']"
            ]
          },
          "metadata": {},
          "execution_count": 101
        }
      ]
    },
    {
      "cell_type": "code",
      "source": [
        "t.find('string') # Find the starting index of the substring 'string' within the string 't'"
      ],
      "metadata": {
        "colab": {
          "base_uri": "https://localhost:8080/"
        },
        "id": "9TmYK4sSJDcX",
        "outputId": "f0ba5d4a-6dae-495a-c30f-cb0345c01b73"
      },
      "execution_count": 102,
      "outputs": [
        {
          "output_type": "execute_result",
          "data": {
            "text/plain": [
              "10"
            ]
          },
          "metadata": {},
          "execution_count": 102
        }
      ]
    },
    {
      "cell_type": "code",
      "source": [
        "t.find('Python') # Find the starting index of the substring 'Python' within the string 't' (returns -1 if not found)"
      ],
      "metadata": {
        "colab": {
          "base_uri": "https://localhost:8080/"
        },
        "id": "bHtzSOjiJIHQ",
        "outputId": "a74a569a-e110-4192-cc62-5f1271df2123"
      },
      "execution_count": 103,
      "outputs": [
        {
          "output_type": "execute_result",
          "data": {
            "text/plain": [
              "-1"
            ]
          },
          "metadata": {},
          "execution_count": 103
        }
      ]
    },
    {
      "cell_type": "code",
      "source": [
        "t.replace(' ', '|') # Replace all occurrences of a space ' ' with a pipe '|' in the string 't'"
      ],
      "metadata": {
        "colab": {
          "base_uri": "https://localhost:8080/",
          "height": 36
        },
        "id": "NotY6_seJmT9",
        "outputId": "5a623345-02d2-4a42-cf46-9fd161be1acb"
      },
      "execution_count": 104,
      "outputs": [
        {
          "output_type": "execute_result",
          "data": {
            "text/plain": [
              "'this|is|a|string|object'"
            ],
            "application/vnd.google.colaboratory.intrinsic+json": {
              "type": "string"
            }
          },
          "metadata": {},
          "execution_count": 104
        }
      ]
    },
    {
      "cell_type": "code",
      "source": [
        "'https://www.python.org'.strip('htp:/') # Remove leading and trailing characters specified in the argument from the string"
      ],
      "metadata": {
        "colab": {
          "base_uri": "https://localhost:8080/",
          "height": 36
        },
        "id": "2hcUSV-YJwGo",
        "outputId": "0ea15148-bf98-487b-a8c8-6b665ab1324c"
      },
      "execution_count": 105,
      "outputs": [
        {
          "output_type": "execute_result",
          "data": {
            "text/plain": [
              "'s://www.python.org'"
            ],
            "application/vnd.google.colaboratory.intrinsic+json": {
              "type": "string"
            }
          },
          "metadata": {},
          "execution_count": 105
        }
      ]
    },
    {
      "cell_type": "markdown",
      "source": [
        "# **Excursion: Printing and String Replacements**"
      ],
      "metadata": {
        "id": "8z_hxia4J8fB"
      }
    },
    {
      "cell_type": "code",
      "source": [
        "print('Python for finance') # Print the literal string \"Python for finance\""
      ],
      "metadata": {
        "colab": {
          "base_uri": "https://localhost:8080/"
        },
        "id": "7cz6xpzHJ92X",
        "outputId": "13aa89ee-091b-4a45-c104-eb6a964284ed"
      },
      "execution_count": 106,
      "outputs": [
        {
          "output_type": "stream",
          "name": "stdout",
          "text": [
            "Python for finance\n"
          ]
        }
      ]
    },
    {
      "cell_type": "code",
      "source": [
        "print(t) # Print the value of the variable 't' (which is a string)"
      ],
      "metadata": {
        "colab": {
          "base_uri": "https://localhost:8080/"
        },
        "id": "Ay5gDvFAKgLn",
        "outputId": "9da90b49-72a7-464d-fc2c-225a86eaadd7"
      },
      "execution_count": 107,
      "outputs": [
        {
          "output_type": "stream",
          "name": "stdout",
          "text": [
            "this is a string object\n"
          ]
        }
      ]
    },
    {
      "cell_type": "code",
      "source": [
        "i =0 # Initialize variable i to 0\n",
        "while i < 4: # Loop while i is less than 4\n",
        "  print(i) # Print the current value of i on a new line\n",
        "  i +=1 # Increment i by 1"
      ],
      "metadata": {
        "colab": {
          "base_uri": "https://localhost:8080/"
        },
        "id": "v1H1nPTHKicf",
        "outputId": "5ef5c7fb-18f5-4457-c329-63d1449af334"
      },
      "execution_count": 108,
      "outputs": [
        {
          "output_type": "stream",
          "name": "stdout",
          "text": [
            "0\n",
            "1\n",
            "2\n",
            "3\n"
          ]
        }
      ]
    },
    {
      "cell_type": "code",
      "source": [
        "i = 0 # Initialize variable i to 0\n",
        "while i < 4: # Loop while i is less than 4\n",
        "  print(i, end='|') # Print the current value of i, followed by a pipe '|' instead of a newline\n",
        "  i +=1 # Increment i by 1"
      ],
      "metadata": {
        "colab": {
          "base_uri": "https://localhost:8080/"
        },
        "id": "IioAA21dKo8t",
        "outputId": "5786453a-b0f4-42d1-ff26-6992fae680da"
      },
      "execution_count": 109,
      "outputs": [
        {
          "output_type": "stream",
          "name": "stdout",
          "text": [
            "0|1|2|3|"
          ]
        }
      ]
    },
    {
      "cell_type": "code",
      "source": [
        "'this is an integer %d' % 15 # Use the old-style % formatting to insert an integer into a string"
      ],
      "metadata": {
        "colab": {
          "base_uri": "https://localhost:8080/",
          "height": 36
        },
        "id": "VZ_7ZskLK24X",
        "outputId": "ec3a1e54-0000-42ba-dd5d-a9c6e31df22f"
      },
      "execution_count": 110,
      "outputs": [
        {
          "output_type": "execute_result",
          "data": {
            "text/plain": [
              "'this is an integer 15'"
            ],
            "application/vnd.google.colaboratory.intrinsic+json": {
              "type": "string"
            }
          },
          "metadata": {},
          "execution_count": 110
        }
      ]
    },
    {
      "cell_type": "code",
      "source": [
        "'this is an integer %4d' %15 # Use old-style % formatting to insert an integer, reserving 4 spaces and right-aligning"
      ],
      "metadata": {
        "colab": {
          "base_uri": "https://localhost:8080/",
          "height": 36
        },
        "id": "bAtb4ZkkK20c",
        "outputId": "44b062a6-db7f-473a-cd95-cb5e2fef589b"
      },
      "execution_count": 111,
      "outputs": [
        {
          "output_type": "execute_result",
          "data": {
            "text/plain": [
              "'this is an integer   15'"
            ],
            "application/vnd.google.colaboratory.intrinsic+json": {
              "type": "string"
            }
          },
          "metadata": {},
          "execution_count": 111
        }
      ]
    },
    {
      "cell_type": "code",
      "source": [
        "'this is an integer %04d' %15 # Use old-style % formatting to insert an integer, reserving 4 spaces and padding with leading zeros"
      ],
      "metadata": {
        "colab": {
          "base_uri": "https://localhost:8080/",
          "height": 36
        },
        "id": "aUetZQfgK2uO",
        "outputId": "533645e2-3cc4-4ca1-eea3-05738bf9aa33"
      },
      "execution_count": 112,
      "outputs": [
        {
          "output_type": "execute_result",
          "data": {
            "text/plain": [
              "'this is an integer 0015'"
            ],
            "application/vnd.google.colaboratory.intrinsic+json": {
              "type": "string"
            }
          },
          "metadata": {},
          "execution_count": 112
        }
      ]
    },
    {
      "cell_type": "code",
      "source": [
        "'this is an integer %f' % 15.3456 # Use old-style % formatting to insert a float into a string with default precision"
      ],
      "metadata": {
        "colab": {
          "base_uri": "https://localhost:8080/",
          "height": 36
        },
        "id": "3DXgyKt6K2rG",
        "outputId": "1540c71c-496a-4607-85c7-b186887a95ef"
      },
      "execution_count": 113,
      "outputs": [
        {
          "output_type": "execute_result",
          "data": {
            "text/plain": [
              "'this is an integer 15.345600'"
            ],
            "application/vnd.google.colaboratory.intrinsic+json": {
              "type": "string"
            }
          },
          "metadata": {},
          "execution_count": 113
        }
      ]
    },
    {
      "cell_type": "code",
      "source": [
        "'this is an integer %.2f' % 15.3456 # Use old-style % formatting to insert a float with two decimal places"
      ],
      "metadata": {
        "colab": {
          "base_uri": "https://localhost:8080/",
          "height": 36
        },
        "id": "ziPf2zANK2oM",
        "outputId": "8ee061be-9d97-4953-cf8e-ce704be1b642"
      },
      "execution_count": 114,
      "outputs": [
        {
          "output_type": "execute_result",
          "data": {
            "text/plain": [
              "'this is an integer 15.35'"
            ],
            "application/vnd.google.colaboratory.intrinsic+json": {
              "type": "string"
            }
          },
          "metadata": {},
          "execution_count": 114
        }
      ]
    },
    {
      "cell_type": "code",
      "source": [
        "'this is a float %8f' % 15.3456 # Use old-style % formatting to insert a float, reserving 8 spaces and right-aligning with default precision"
      ],
      "metadata": {
        "colab": {
          "base_uri": "https://localhost:8080/",
          "height": 36
        },
        "id": "y-htvvBYK2b6",
        "outputId": "0d88e45f-a723-4664-ad74-f7f241c757a8"
      },
      "execution_count": 115,
      "outputs": [
        {
          "output_type": "execute_result",
          "data": {
            "text/plain": [
              "'this is a float 15.345600'"
            ],
            "application/vnd.google.colaboratory.intrinsic+json": {
              "type": "string"
            }
          },
          "metadata": {},
          "execution_count": 115
        }
      ]
    },
    {
      "cell_type": "code",
      "source": [
        "'this is a float %8.2f' % 15.3456 # Use old-style % formatting to insert a float with two decimal places, reserving 8 spaces and right-aligning"
      ],
      "metadata": {
        "colab": {
          "base_uri": "https://localhost:8080/",
          "height": 36
        },
        "id": "n2fWqymWK2ZB",
        "outputId": "65fd9919-3fce-4f70-c293-c5410268f465"
      },
      "execution_count": 116,
      "outputs": [
        {
          "output_type": "execute_result",
          "data": {
            "text/plain": [
              "'this is a float    15.35'"
            ],
            "application/vnd.google.colaboratory.intrinsic+json": {
              "type": "string"
            }
          },
          "metadata": {},
          "execution_count": 116
        }
      ]
    },
    {
      "cell_type": "code",
      "source": [
        "'this is a float %08.2f' % 15.3456 # Use old-style % formatting to insert a float with two decimal places, reserving 8 spaces and padding with leading zeros"
      ],
      "metadata": {
        "colab": {
          "base_uri": "https://localhost:8080/",
          "height": 36
        },
        "id": "aAPoxziPK2Vz",
        "outputId": "5cc75c7b-2c5e-4057-d3e1-7817b35c374a"
      },
      "execution_count": 117,
      "outputs": [
        {
          "output_type": "execute_result",
          "data": {
            "text/plain": [
              "'this is a float 00015.35'"
            ],
            "application/vnd.google.colaboratory.intrinsic+json": {
              "type": "string"
            }
          },
          "metadata": {},
          "execution_count": 117
        }
      ]
    },
    {
      "cell_type": "code",
      "source": [
        "'this is a string %s' % 'Python' # Use old-style % formatting to insert a string"
      ],
      "metadata": {
        "colab": {
          "base_uri": "https://localhost:8080/",
          "height": 36
        },
        "id": "UMR5bb29K2TJ",
        "outputId": "d7d6f0b6-2f8f-4e61-d64a-3a3d0801d106"
      },
      "execution_count": 118,
      "outputs": [
        {
          "output_type": "execute_result",
          "data": {
            "text/plain": [
              "'this is a string Python'"
            ],
            "application/vnd.google.colaboratory.intrinsic+json": {
              "type": "string"
            }
          },
          "metadata": {},
          "execution_count": 118
        }
      ]
    },
    {
      "cell_type": "code",
      "source": [
        "'this is a string %10s' % 'Python' # Use old-style % formatting to insert a string, reserving 10 spaces and right-aligning"
      ],
      "metadata": {
        "colab": {
          "base_uri": "https://localhost:8080/",
          "height": 36
        },
        "id": "ayc0KQLSK2QP",
        "outputId": "e79f200a-17eb-484a-b087-13ffbb7fe0cd"
      },
      "execution_count": 119,
      "outputs": [
        {
          "output_type": "execute_result",
          "data": {
            "text/plain": [
              "'this is a string     Python'"
            ],
            "application/vnd.google.colaboratory.intrinsic+json": {
              "type": "string"
            }
          },
          "metadata": {},
          "execution_count": 119
        }
      ]
    },
    {
      "cell_type": "code",
      "source": [
        "'this is an integer {:d}'.format(15) # Use .format() method to insert an integer into a string"
      ],
      "metadata": {
        "colab": {
          "base_uri": "https://localhost:8080/",
          "height": 36
        },
        "id": "INdecfbOL4V2",
        "outputId": "d1beea45-ae53-4143-f318-d783a353ba06"
      },
      "execution_count": 120,
      "outputs": [
        {
          "output_type": "execute_result",
          "data": {
            "text/plain": [
              "'this is an integer 15'"
            ],
            "application/vnd.google.colaboratory.intrinsic+json": {
              "type": "string"
            }
          },
          "metadata": {},
          "execution_count": 120
        }
      ]
    },
    {
      "cell_type": "code",
      "source": [
        "'this is an integer {:4d}'.format(15) # Use .format() method to insert an integer, reserving 4 spaces and right-aligning"
      ],
      "metadata": {
        "colab": {
          "base_uri": "https://localhost:8080/",
          "height": 36
        },
        "id": "eUX-kZfKL6Zo",
        "outputId": "e48ad12d-5971-4168-ed2a-56625056c699"
      },
      "execution_count": 121,
      "outputs": [
        {
          "output_type": "execute_result",
          "data": {
            "text/plain": [
              "'this is an integer   15'"
            ],
            "application/vnd.google.colaboratory.intrinsic+json": {
              "type": "string"
            }
          },
          "metadata": {},
          "execution_count": 121
        }
      ]
    },
    {
      "cell_type": "code",
      "source": [
        "'this is an integer {:04d}'.format(15) # Use .format() method to insert an integer, reserving 4 spaces and padding with leading zeros"
      ],
      "metadata": {
        "colab": {
          "base_uri": "https://localhost:8080/",
          "height": 36
        },
        "id": "LvGrCDUhL9lg",
        "outputId": "48dd8100-a35b-4d5f-991c-003c16fee627"
      },
      "execution_count": 122,
      "outputs": [
        {
          "output_type": "execute_result",
          "data": {
            "text/plain": [
              "'this is an integer 0015'"
            ],
            "application/vnd.google.colaboratory.intrinsic+json": {
              "type": "string"
            }
          },
          "metadata": {},
          "execution_count": 122
        }
      ]
    },
    {
      "cell_type": "code",
      "source": [
        "'this is a float {:f}'.format(15.3456) # Use .format() method to insert a float with default precision"
      ],
      "metadata": {
        "colab": {
          "base_uri": "https://localhost:8080/",
          "height": 36
        },
        "id": "_WyznOMVMCKL",
        "outputId": "1a375715-ea03-4d21-974c-ee94d85d98d3"
      },
      "execution_count": 123,
      "outputs": [
        {
          "output_type": "execute_result",
          "data": {
            "text/plain": [
              "'this is a float 15.345600'"
            ],
            "application/vnd.google.colaboratory.intrinsic+json": {
              "type": "string"
            }
          },
          "metadata": {},
          "execution_count": 123
        }
      ]
    },
    {
      "cell_type": "code",
      "source": [
        "'this is a float {:.2f}'.format(15.3456) # Use .format() method to insert a float with two decimal places"
      ],
      "metadata": {
        "colab": {
          "base_uri": "https://localhost:8080/",
          "height": 36
        },
        "id": "wspQNH93MEKG",
        "outputId": "d2e94f5c-8f4c-4f43-d2ac-20e5d8f7eaf8"
      },
      "execution_count": 124,
      "outputs": [
        {
          "output_type": "execute_result",
          "data": {
            "text/plain": [
              "'this is a float 15.35'"
            ],
            "application/vnd.google.colaboratory.intrinsic+json": {
              "type": "string"
            }
          },
          "metadata": {},
          "execution_count": 124
        }
      ]
    },
    {
      "cell_type": "code",
      "source": [
        "'this is a float {:8f}'.format(15.3456) # Use .format() method to insert a float, reserving 8 spaces and right-aligning with default precision"
      ],
      "metadata": {
        "colab": {
          "base_uri": "https://localhost:8080/",
          "height": 36
        },
        "id": "AAl3lcVsMIBB",
        "outputId": "b7da34ff-302a-4fdc-dd30-b36232b63b81"
      },
      "execution_count": 125,
      "outputs": [
        {
          "output_type": "execute_result",
          "data": {
            "text/plain": [
              "'this is a float 15.345600'"
            ],
            "application/vnd.google.colaboratory.intrinsic+json": {
              "type": "string"
            }
          },
          "metadata": {},
          "execution_count": 125
        }
      ]
    },
    {
      "cell_type": "code",
      "source": [
        "'this is a float {:8.2f}'.format(15.3456) # Use .format() method to insert a float with two decimal places, reserving 8 spaces and right-aligning"
      ],
      "metadata": {
        "colab": {
          "base_uri": "https://localhost:8080/",
          "height": 36
        },
        "id": "rnQsTkGkMJ3m",
        "outputId": "b482bc63-e0bc-4d84-ac41-6b8568dff41e"
      },
      "execution_count": 126,
      "outputs": [
        {
          "output_type": "execute_result",
          "data": {
            "text/plain": [
              "'this is a float    15.35'"
            ],
            "application/vnd.google.colaboratory.intrinsic+json": {
              "type": "string"
            }
          },
          "metadata": {},
          "execution_count": 126
        }
      ]
    },
    {
      "cell_type": "code",
      "source": [
        "'this is a float {:08.2f}'.format(15.3456) # Use .format() method to insert a float with two decimal places, reserving 8 spaces and padding with leading zeros"
      ],
      "metadata": {
        "colab": {
          "base_uri": "https://localhost:8080/",
          "height": 36
        },
        "id": "A99Ms4ENMLpd",
        "outputId": "746f8011-eaa5-45e1-e6cb-ff34073c2acf"
      },
      "execution_count": 127,
      "outputs": [
        {
          "output_type": "execute_result",
          "data": {
            "text/plain": [
              "'this is a float 00015.35'"
            ],
            "application/vnd.google.colaboratory.intrinsic+json": {
              "type": "string"
            }
          },
          "metadata": {},
          "execution_count": 127
        }
      ]
    },
    {
      "cell_type": "code",
      "source": [
        "'this is a string {:s}'.format('Python') # Use .format() method to insert a string"
      ],
      "metadata": {
        "colab": {
          "base_uri": "https://localhost:8080/",
          "height": 36
        },
        "id": "b8UALQMkMOEJ",
        "outputId": "72fa9f51-7128-487e-e16d-7c41c98d0be1"
      },
      "execution_count": 128,
      "outputs": [
        {
          "output_type": "execute_result",
          "data": {
            "text/plain": [
              "'this is a string Python'"
            ],
            "application/vnd.google.colaboratory.intrinsic+json": {
              "type": "string"
            }
          },
          "metadata": {},
          "execution_count": 128
        }
      ]
    },
    {
      "cell_type": "code",
      "source": [
        "'this is a string {:10s}'.format('Python') # Use .format() method to insert a string, reserving 10 spaces and left-aligning (default for strings)"
      ],
      "metadata": {
        "colab": {
          "base_uri": "https://localhost:8080/",
          "height": 36
        },
        "id": "GaHj6STCMRxa",
        "outputId": "da900a3c-f698-4fdf-9d05-14666165f53d"
      },
      "execution_count": 129,
      "outputs": [
        {
          "output_type": "execute_result",
          "data": {
            "text/plain": [
              "'this is a string Python    '"
            ],
            "application/vnd.google.colaboratory.intrinsic+json": {
              "type": "string"
            }
          },
          "metadata": {},
          "execution_count": 129
        }
      ]
    },
    {
      "cell_type": "code",
      "source": [
        "i = 0 # Initialize variable i to 0\n",
        "while i < 4: # Loop while i is less than 4\n",
        "  print('the number is %d ' % i) # Print a formatted string using old-style % formatting\n",
        "  i += 1 # Increment i by 1"
      ],
      "metadata": {
        "colab": {
          "base_uri": "https://localhost:8080/"
        },
        "id": "SKQCKvKOMSzA",
        "outputId": "39cf6aef-6be8-4923-8a62-f346f1a78d21"
      },
      "execution_count": 130,
      "outputs": [
        {
          "output_type": "stream",
          "name": "stdout",
          "text": [
            "the number is 0 \n",
            "the number is 1 \n",
            "the number is 2 \n",
            "the number is 3 \n"
          ]
        }
      ]
    },
    {
      "cell_type": "code",
      "source": [
        "i = 0 # Initialize variable i to 0\n",
        "while i < 4: # Loop while i is less than 4\n",
        "    print('the number is {:d}'.format(i)) # Print a formatted string using the .format() method\n",
        "    i += 1 # Increment i by 1"
      ],
      "metadata": {
        "colab": {
          "base_uri": "https://localhost:8080/"
        },
        "id": "x9Pjsc3SMhUX",
        "outputId": "2ae0183e-5b86-45da-ddf7-866fa8ef05fb"
      },
      "execution_count": 131,
      "outputs": [
        {
          "output_type": "stream",
          "name": "stdout",
          "text": [
            "the number is 0\n",
            "the number is 1\n",
            "the number is 2\n",
            "the number is 3\n"
          ]
        }
      ]
    }
  ]
}