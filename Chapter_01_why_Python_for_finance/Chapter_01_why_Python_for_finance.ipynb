{
  "nbformat": 4,
  "nbformat_minor": 0,
  "metadata": {
    "colab": {
      "provenance": [],
      "authorship_tag": "ABX9TyOtk4hdTv1lMML/lo9epUx9",
      "include_colab_link": true
    },
    "kernelspec": {
      "name": "python3",
      "display_name": "Python 3"
    },
    "language_info": {
      "name": "python"
    }
  },
  "cells": [
    {
      "cell_type": "markdown",
      "metadata": {
        "id": "view-in-github",
        "colab_type": "text"
      },
      "source": [
        "<a href=\"https://colab.research.google.com/github/Saifullah785/python-for-finance-notes/blob/main/Chapter_01_why_Python_for_finance/Chapter_01_why_Python_for_finance.ipynb\" target=\"_parent\"><img src=\"https://colab.research.google.com/assets/colab-badge.svg\" alt=\"Open In Colab\"/></a>"
      ]
    },
    {
      "cell_type": "markdown",
      "source": [
        "#**Why Python for Finance?**"
      ],
      "metadata": {
        "id": "1y570Jp3lKP_"
      }
    },
    {
      "cell_type": "code",
      "execution_count": 1,
      "metadata": {
        "colab": {
          "base_uri": "https://localhost:8080/"
        },
        "id": "CoKJPG6Rk1uw",
        "outputId": "7bb8fd17-dd2a-4c30-fed2-8ddc47de1a8f"
      },
      "outputs": [
        {
          "output_type": "stream",
          "name": "stdout",
          "text": [
            "The Zen of Python, by Tim Peters\n",
            "\n",
            "Beautiful is better than ugly.\n",
            "Explicit is better than implicit.\n",
            "Simple is better than complex.\n",
            "Complex is better than complicated.\n",
            "Flat is better than nested.\n",
            "Sparse is better than dense.\n",
            "Readability counts.\n",
            "Special cases aren't special enough to break the rules.\n",
            "Although practicality beats purity.\n",
            "Errors should never pass silently.\n",
            "Unless explicitly silenced.\n",
            "In the face of ambiguity, refuse the temptation to guess.\n",
            "There should be one-- and preferably only one --obvious way to do it.\n",
            "Although that way may not be obvious at first unless you're Dutch.\n",
            "Now is better than never.\n",
            "Although never is often better than *right* now.\n",
            "If the implementation is hard to explain, it's a bad idea.\n",
            "If the implementation is easy to explain, it may be a good idea.\n",
            "Namespaces are one honking great idea -- let's do more of those!\n"
          ]
        }
      ],
      "source": [
        "import this"
      ]
    },
    {
      "cell_type": "markdown",
      "source": [
        "# **The Python Ecosystem**"
      ],
      "metadata": {
        "id": "TFc8YUDWmP0W"
      }
    },
    {
      "cell_type": "code",
      "source": [
        "100 * 2.5 + 50"
      ],
      "metadata": {
        "colab": {
          "base_uri": "https://localhost:8080/"
        },
        "id": "8P0RyAbumfxN",
        "outputId": "d4815d2e-17cb-482d-88ed-eafffe578711"
      },
      "execution_count": 2,
      "outputs": [
        {
          "output_type": "execute_result",
          "data": {
            "text/plain": [
              "300.0"
            ]
          },
          "metadata": {},
          "execution_count": 2
        }
      ]
    },
    {
      "cell_type": "code",
      "source": [
        "import math\n",
        "\n",
        "math.log(1)"
      ],
      "metadata": {
        "colab": {
          "base_uri": "https://localhost:8080/"
        },
        "id": "ae8cvMGVmlpV",
        "outputId": "92dc80c2-81a4-4fe3-a5fd-d425ab75c6ff"
      },
      "execution_count": 3,
      "outputs": [
        {
          "output_type": "execute_result",
          "data": {
            "text/plain": [
              "0.0"
            ]
          },
          "metadata": {},
          "execution_count": 3
        }
      ]
    },
    {
      "cell_type": "markdown",
      "source": [
        "# **Finace and Python Syntax**"
      ],
      "metadata": {
        "id": "JQ-kekBfmrrN"
      }
    },
    {
      "cell_type": "code",
      "source": [
        "import math\n",
        "import numpy as np\n"
      ],
      "metadata": {
        "id": "addT0QwgmwC1"
      },
      "execution_count": 4,
      "outputs": []
    },
    {
      "cell_type": "code",
      "source": [
        "S0 = 100.\n",
        "k = 105.\n",
        "T = 1.0\n",
        "r = 0.05\n",
        "sigma = 0.2"
      ],
      "metadata": {
        "id": "CR5AL4vmm05l"
      },
      "execution_count": 11,
      "outputs": []
    },
    {
      "cell_type": "code",
      "source": [
        "I = 100000"
      ],
      "metadata": {
        "id": "m1Mmu9q3nHJt"
      },
      "execution_count": 6,
      "outputs": []
    },
    {
      "cell_type": "code",
      "source": [
        "np.random.seed(1000)"
      ],
      "metadata": {
        "id": "kySvWj1nnK-d"
      },
      "execution_count": 7,
      "outputs": []
    },
    {
      "cell_type": "code",
      "source": [
        "z = np.random.standard_normal(I)\n",
        "z"
      ],
      "metadata": {
        "colab": {
          "base_uri": "https://localhost:8080/"
        },
        "id": "Nm0DCR0BnPr9",
        "outputId": "e96ba368-f705-4d00-e0ef-536dd6780aea"
      },
      "execution_count": 9,
      "outputs": [
        {
          "output_type": "execute_result",
          "data": {
            "text/plain": [
              "array([-0.20304183,  0.68167566,  0.39110433, ...,  1.3237382 ,\n",
              "        0.97731072,  1.10401313])"
            ]
          },
          "metadata": {},
          "execution_count": 9
        }
      ]
    },
    {
      "cell_type": "code",
      "source": [
        "ST = 50 * np.exp((r -sigma **2 /2) * T + sigma * math.sqrt(T) * z)\n",
        "ST"
      ],
      "metadata": {
        "colab": {
          "base_uri": "https://localhost:8080/"
        },
        "id": "WjZkUT9SnVFN",
        "outputId": "822edd71-3eaa-462b-8ac8-6ccf7e1e42ba"
      },
      "execution_count": 14,
      "outputs": [
        {
          "output_type": "execute_result",
          "data": {
            "text/plain": [
              "array([49.47238518, 59.0484408 , 55.71469139, ..., 67.13937255,\n",
              "       62.64508022, 64.25282118])"
            ]
          },
          "metadata": {},
          "execution_count": 14
        }
      ]
    },
    {
      "cell_type": "code",
      "source": [
        "ht = np.maximum(ST - k, 0)\n",
        "ht"
      ],
      "metadata": {
        "colab": {
          "base_uri": "https://localhost:8080/"
        },
        "id": "6xMrFOIdnqC9",
        "outputId": "8f44a0b1-5f92-404f-9884-ff4a84e95700"
      },
      "execution_count": 15,
      "outputs": [
        {
          "output_type": "execute_result",
          "data": {
            "text/plain": [
              "array([0., 0., 0., ..., 0., 0., 0.])"
            ]
          },
          "metadata": {},
          "execution_count": 15
        }
      ]
    },
    {
      "cell_type": "code",
      "source": [
        "C0 = math.exp(-r * T) * np.mean(ht)\n",
        "C0"
      ],
      "metadata": {
        "colab": {
          "base_uri": "https://localhost:8080/"
        },
        "id": "a8fqDXefnxBM",
        "outputId": "b96218a8-3c65-4063-cf29-9763c34734ed"
      },
      "execution_count": 17,
      "outputs": [
        {
          "output_type": "execute_result",
          "data": {
            "text/plain": [
              "np.float64(0.00040005364395844255)"
            ]
          },
          "metadata": {},
          "execution_count": 17
        }
      ]
    },
    {
      "cell_type": "code",
      "source": [
        "print('Value of the European call option: {:5.3f}.'.format(C0))"
      ],
      "metadata": {
        "colab": {
          "base_uri": "https://localhost:8080/"
        },
        "id": "j_fZZN_Pn4OI",
        "outputId": "5eda0b35-aa5e-48c6-a4a3-7df506f5473e"
      },
      "execution_count": 18,
      "outputs": [
        {
          "output_type": "stream",
          "name": "stdout",
          "text": [
            "Value of the European call option: 0.000.\n"
          ]
        }
      ]
    },
    {
      "cell_type": "code",
      "source": [
        "# %run bsm_mcs_euro.py"
      ],
      "metadata": {
        "id": "nfqELsV0oFpN"
      },
      "execution_count": 23,
      "outputs": []
    },
    {
      "cell_type": "code",
      "metadata": {
        "id": "324717be"
      },
      "source": [
        "def bsm_mcs_euro(S0, K, T, r, sigma, I):\n",
        "    ''' European call option value by Monte Carlo simulation.\n",
        "\n",
        "    Parameters\n",
        "    ==========\n",
        "    S0 : float\n",
        "        (initial) stock level\n",
        "    K : float\n",
        "        strike price\n",
        "    T : float\n",
        "        maturity date\n",
        "    r : float\n",
        "        risk-less short rate\n",
        "    sigma : float\n",
        "        volatility\n",
        "    I : int\n",
        "        number of random draws\n",
        "\n",
        "    Returns\n",
        "    =======\n",
        "    C0 : float\n",
        "        European call option present value\n",
        "    '''\n",
        "    z = np.random.standard_normal(I)\n",
        "    ST = S0 * np.exp((r - 0.5 * sigma ** 2) * T + sigma * math.sqrt(T) * z)\n",
        "    hT = np.maximum(ST - K, 0)\n",
        "    C0 = math.exp(-r * T) * np.mean(hT)\n",
        "    return C0"
      ],
      "execution_count": 21,
      "outputs": []
    },
    {
      "cell_type": "code",
      "metadata": {
        "colab": {
          "base_uri": "https://localhost:8080/"
        },
        "id": "7f95f2d0",
        "outputId": "a64aab6b-6210-4a07-f6ad-245eeb575890"
      },
      "source": [
        "# Calculate the European call option price using the defined function\n",
        "european_call_price = bsm_mcs_euro(S0, k, T, r, sigma, I)\n",
        "print('Value of the European call option: {:5.3f}.'.format(european_call_price))"
      ],
      "execution_count": 22,
      "outputs": [
        {
          "output_type": "stream",
          "name": "stdout",
          "text": [
            "Value of the European call option: 7.958.\n"
          ]
        }
      ]
    }
  ]
}