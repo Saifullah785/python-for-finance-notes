{
  "nbformat": 4,
  "nbformat_minor": 0,
  "metadata": {
    "colab": {
      "provenance": [],
      "authorship_tag": "ABX9TyPXo5ZpfKXwEh4V3xSJRyIW",
      "include_colab_link": true
    },
    "kernelspec": {
      "name": "python3",
      "display_name": "Python 3"
    },
    "language_info": {
      "name": "python"
    }
  },
  "cells": [
    {
      "cell_type": "markdown",
      "metadata": {
        "id": "view-in-github",
        "colab_type": "text"
      },
      "source": [
        "<a href=\"https://colab.research.google.com/github/Saifullah785/python-for-finance-notes/blob/main/Chapter_06_Object_Oriented_Programming/Chapter_06_Object_Oriented_Programming.ipynb\" target=\"_parent\"><img src=\"https://colab.research.google.com/assets/colab-badge.svg\" alt=\"Open In Colab\"/></a>"
      ]
    },
    {
      "cell_type": "markdown",
      "source": [
        "#**Object Oriented Projgramming**"
      ],
      "metadata": {
        "id": "ayuHKtydLQ68"
      }
    },
    {
      "cell_type": "markdown",
      "source": [
        "#Introduction"
      ],
      "metadata": {
        "id": "57WS2bNDLYnX"
      }
    },
    {
      "cell_type": "code",
      "execution_count": 1,
      "metadata": {
        "id": "GvB-2zLi3uu-"
      },
      "outputs": [],
      "source": [
        "# Defines a class named HumanBeing\n",
        "class HumanBeing(object):\n",
        "  # The __init__ method is the constructor of the class. It's called when a new object is created.\n",
        "  def __init__(self, first_name, eye_color):\n",
        "    # Initializes the instance variables (attributes) of the object.\n",
        "    self.first_name = first_name\n",
        "    self.eye_color = eye_color\n",
        "    self.position = 0\n",
        "\n",
        "  # Defines a method named walk_steps that takes an integer 'steps' as input.\n",
        "  def walk_steps(self, steps):\n",
        "    # Increases the value of the 'position' attribute by the 'steps' value.\n",
        "    self.position += steps"
      ]
    },
    {
      "cell_type": "code",
      "source": [
        "# Creates an instance of the HumanBeing class named 'sandra'\n",
        "# with \"Sandra\" as the first name and \"blue\" as the eye color.\n",
        "sandra = HumanBeing(\"Sandra\", \"blue\")"
      ],
      "metadata": {
        "id": "P6GvU9O2MG1v"
      },
      "execution_count": 2,
      "outputs": []
    },
    {
      "cell_type": "code",
      "source": [
        "# Accesses and displays the 'first_name' attribute of the 'sandra' object.\n",
        "sandra.first_name"
      ],
      "metadata": {
        "colab": {
          "base_uri": "https://localhost:8080/",
          "height": 35
        },
        "id": "DRbsathqMPBo",
        "outputId": "b58cbf5d-34a6-468a-9ae2-7ae3739154ec"
      },
      "execution_count": 3,
      "outputs": [
        {
          "output_type": "execute_result",
          "data": {
            "text/plain": [
              "'Sandra'"
            ],
            "application/vnd.google.colaboratory.intrinsic+json": {
              "type": "string"
            }
          },
          "metadata": {},
          "execution_count": 3
        }
      ]
    },
    {
      "cell_type": "code",
      "source": [
        "# Accesses and displays the 'eye_color' attribute of the 'sandra' object.\n",
        "sandra.eye_color"
      ],
      "metadata": {
        "colab": {
          "base_uri": "https://localhost:8080/",
          "height": 35
        },
        "id": "OfeibfoaMO-t",
        "outputId": "6e9f5821-909f-436d-b707-dea2f712ac4f"
      },
      "execution_count": 4,
      "outputs": [
        {
          "output_type": "execute_result",
          "data": {
            "text/plain": [
              "'blue'"
            ],
            "application/vnd.google.colaboratory.intrinsic+json": {
              "type": "string"
            }
          },
          "metadata": {},
          "execution_count": 4
        }
      ]
    },
    {
      "cell_type": "code",
      "source": [
        "# Accesses and displays the 'position' attribute of the 'sandra' object.\n",
        "sandra.position"
      ],
      "metadata": {
        "colab": {
          "base_uri": "https://localhost:8080/"
        },
        "id": "LXqRIvAQMO8F",
        "outputId": "457d2e75-901d-439f-a007-75053b2372c0"
      },
      "execution_count": 5,
      "outputs": [
        {
          "output_type": "execute_result",
          "data": {
            "text/plain": [
              "0"
            ]
          },
          "metadata": {},
          "execution_count": 5
        }
      ]
    },
    {
      "cell_type": "code",
      "source": [
        "# Calls the 'walk_steps' method of the 'sandra' object with an argument of 5.\n",
        "# This increases the 'position' attribute by 5.\n",
        "sandra.walk_steps(5)"
      ],
      "metadata": {
        "id": "-nQJXZWMMO5b"
      },
      "execution_count": 6,
      "outputs": []
    },
    {
      "cell_type": "code",
      "source": [
        "# Accesses and displays the updated 'position' attribute of the 'sandra' object.\n",
        "sandra.position"
      ],
      "metadata": {
        "colab": {
          "base_uri": "https://localhost:8080/"
        },
        "id": "yaRkLdjAMkuz",
        "outputId": "5ee52bd5-0f3b-4f35-a64e-cf9ef9718f22"
      },
      "execution_count": 8,
      "outputs": [
        {
          "output_type": "execute_result",
          "data": {
            "text/plain": [
              "5"
            ]
          },
          "metadata": {},
          "execution_count": 8
        }
      ]
    },
    {
      "cell_type": "markdown",
      "source": [
        "# A Brief Look at Standard Objects"
      ],
      "metadata": {
        "id": "tqzxQGVtMrY7"
      }
    },
    {
      "cell_type": "code",
      "source": [
        "# Assigns the integer value 5 to the variable 'n'.\n",
        "n = 5"
      ],
      "metadata": {
        "id": "LGc8JWeYMyDD"
      },
      "execution_count": 9,
      "outputs": []
    },
    {
      "cell_type": "code",
      "source": [
        "# Displays the data type of the variable 'n'.\n",
        "type(n)"
      ],
      "metadata": {
        "colab": {
          "base_uri": "https://localhost:8080/"
        },
        "id": "0lRvu4bvMykA",
        "outputId": "a6bce0eb-0449-43a8-93bb-114d402a4c3b"
      },
      "execution_count": 10,
      "outputs": [
        {
          "output_type": "execute_result",
          "data": {
            "text/plain": [
              "int"
            ]
          },
          "metadata": {},
          "execution_count": 10
        }
      ]
    },
    {
      "cell_type": "code",
      "source": [
        "# Accesses and displays the numerator of the integer 'n'.\n",
        "# For an integer, the numerator is the integer itself.\n",
        "n.numerator"
      ],
      "metadata": {
        "colab": {
          "base_uri": "https://localhost:8080/"
        },
        "id": "6Agjdce9Myhc",
        "outputId": "5f89195c-e9b6-446f-ecba-5f4c6c55dd5c"
      },
      "execution_count": 11,
      "outputs": [
        {
          "output_type": "execute_result",
          "data": {
            "text/plain": [
              "5"
            ]
          },
          "metadata": {},
          "execution_count": 11
        }
      ]
    },
    {
      "cell_type": "code",
      "source": [
        "# Displays the 'bit_length' method of the integer 'n', which returns the number of bits required to represent an integer in binary.\n",
        "n.bit_length"
      ],
      "metadata": {
        "colab": {
          "base_uri": "https://localhost:8080/"
        },
        "id": "rYjEiikbMyed",
        "outputId": "da768f2d-1cdb-4ec3-caa4-eb109971c38f"
      },
      "execution_count": 12,
      "outputs": [
        {
          "output_type": "execute_result",
          "data": {
            "text/plain": [
              "<function int.bit_length()>"
            ]
          },
          "metadata": {},
          "execution_count": 12
        }
      ]
    },
    {
      "cell_type": "code",
      "source": [
        "# Adds the value of 'n' to itself and displays the result.\n",
        "n + n"
      ],
      "metadata": {
        "colab": {
          "base_uri": "https://localhost:8080/"
        },
        "id": "FLFo9lV9Mybt",
        "outputId": "7ec12fcf-6e50-469e-c047-efce909c87d4"
      },
      "execution_count": 13,
      "outputs": [
        {
          "output_type": "execute_result",
          "data": {
            "text/plain": [
              "10"
            ]
          },
          "metadata": {},
          "execution_count": 13
        }
      ]
    },
    {
      "cell_type": "code",
      "source": [
        "# Multiplies the value of 'n' by 2 and displays the result.\n",
        "2 * n"
      ],
      "metadata": {
        "colab": {
          "base_uri": "https://localhost:8080/"
        },
        "id": "OM2twn2LM-oz",
        "outputId": "df96894c-a882-47e0-ecc6-d5b305045945"
      },
      "execution_count": 14,
      "outputs": [
        {
          "output_type": "execute_result",
          "data": {
            "text/plain": [
              "10"
            ]
          },
          "metadata": {},
          "execution_count": 14
        }
      ]
    },
    {
      "cell_type": "code",
      "source": [
        "# Displays the memory size of the integer object 'n' in bytes.\n",
        "n.__sizeof__()"
      ],
      "metadata": {
        "colab": {
          "base_uri": "https://localhost:8080/"
        },
        "id": "ea-dH61kNCYD",
        "outputId": "2d728a96-284d-49ad-c26a-80fd50754989"
      },
      "execution_count": 15,
      "outputs": [
        {
          "output_type": "execute_result",
          "data": {
            "text/plain": [
              "28"
            ]
          },
          "metadata": {},
          "execution_count": 15
        }
      ]
    },
    {
      "cell_type": "markdown",
      "source": [
        "# List"
      ],
      "metadata": {
        "id": "Ss_ZlmxaNI0y"
      }
    },
    {
      "cell_type": "code",
      "source": [
        "# Creates a list named 'l' containing integers.\n",
        "l = [1, 2, 3, 4]"
      ],
      "metadata": {
        "id": "XVpYPGV3NMFq"
      },
      "execution_count": 16,
      "outputs": []
    },
    {
      "cell_type": "code",
      "source": [
        "# Displays the data type of the variable 'l'.\n",
        "type(l)"
      ],
      "metadata": {
        "colab": {
          "base_uri": "https://localhost:8080/"
        },
        "id": "c41kaNj1NMgH",
        "outputId": "30229d31-c905-4293-8d90-7718dbaf652c"
      },
      "execution_count": 17,
      "outputs": [
        {
          "output_type": "execute_result",
          "data": {
            "text/plain": [
              "list"
            ]
          },
          "metadata": {},
          "execution_count": 17
        }
      ]
    },
    {
      "cell_type": "code",
      "source": [
        "# Accesses and displays the element at index 0 of the list 'l'.\n",
        "l[0]"
      ],
      "metadata": {
        "colab": {
          "base_uri": "https://localhost:8080/"
        },
        "id": "hB_13SB5NMdY",
        "outputId": "0bfe667b-b8d8-4bf4-86ca-33ee5540f86e"
      },
      "execution_count": 18,
      "outputs": [
        {
          "output_type": "execute_result",
          "data": {
            "text/plain": [
              "1"
            ]
          },
          "metadata": {},
          "execution_count": 18
        }
      ]
    },
    {
      "cell_type": "code",
      "source": [
        "# Appends the integer 10 to the end of the list 'l'.\n",
        "l.append(10)"
      ],
      "metadata": {
        "id": "HW508MJ3NMaX"
      },
      "execution_count": 19,
      "outputs": []
    },
    {
      "cell_type": "code",
      "source": [
        "# Displays the updated list 'l'.\n",
        "l"
      ],
      "metadata": {
        "colab": {
          "base_uri": "https://localhost:8080/"
        },
        "id": "YUntc_krNMXS",
        "outputId": "8ddea60a-9f2e-4184-80c4-48258af6218a"
      },
      "execution_count": 20,
      "outputs": [
        {
          "output_type": "execute_result",
          "data": {
            "text/plain": [
              "[1, 2, 3, 4, 10]"
            ]
          },
          "metadata": {},
          "execution_count": 20
        }
      ]
    },
    {
      "cell_type": "code",
      "source": [
        "# Concatenates the list 'l' with itself and displays the result.\n",
        "l + l"
      ],
      "metadata": {
        "colab": {
          "base_uri": "https://localhost:8080/"
        },
        "id": "lOv5lcdzNMUf",
        "outputId": "a0bfa494-c59c-4e8a-ee3d-6783a6dbd165"
      },
      "execution_count": 21,
      "outputs": [
        {
          "output_type": "execute_result",
          "data": {
            "text/plain": [
              "[1, 2, 3, 4, 10, 1, 2, 3, 4, 10]"
            ]
          },
          "metadata": {},
          "execution_count": 21
        }
      ]
    },
    {
      "cell_type": "code",
      "source": [
        "# Repeats the list 'l' twice and displays the result.\n",
        "2 * l"
      ],
      "metadata": {
        "colab": {
          "base_uri": "https://localhost:8080/"
        },
        "id": "1LZyNMA3Ncm1",
        "outputId": "275b1cd1-4e72-466f-de04-158a6e44a81e"
      },
      "execution_count": 22,
      "outputs": [
        {
          "output_type": "execute_result",
          "data": {
            "text/plain": [
              "[1, 2, 3, 4, 10, 1, 2, 3, 4, 10]"
            ]
          },
          "metadata": {},
          "execution_count": 22
        }
      ]
    },
    {
      "cell_type": "code",
      "source": [
        "# Calculates and displays the sum of all elements in the list 'l'.\n",
        "sum(l)"
      ],
      "metadata": {
        "colab": {
          "base_uri": "https://localhost:8080/"
        },
        "id": "krH7bv8oNepq",
        "outputId": "22b7799d-03e6-4e41-dd1e-5b6a8ef6a216"
      },
      "execution_count": 23,
      "outputs": [
        {
          "output_type": "execute_result",
          "data": {
            "text/plain": [
              "20"
            ]
          },
          "metadata": {},
          "execution_count": 23
        }
      ]
    },
    {
      "cell_type": "code",
      "source": [
        "# Displays the memory size of the list object 'l' in bytes.\n",
        "l.__sizeof__()"
      ],
      "metadata": {
        "colab": {
          "base_uri": "https://localhost:8080/"
        },
        "id": "JdoG4YJZNhRv",
        "outputId": "98831495-cbef-4c6f-c8d3-d597c27eb418"
      },
      "execution_count": 24,
      "outputs": [
        {
          "output_type": "execute_result",
          "data": {
            "text/plain": [
              "104"
            ]
          },
          "metadata": {},
          "execution_count": 24
        }
      ]
    }
  ]
}